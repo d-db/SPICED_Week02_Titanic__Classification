{
 "cells": [
  {
   "cell_type": "markdown",
   "id": "15652e46",
   "metadata": {},
   "source": [
    "## Introduction to this notebook"
   ]
  },
  {
   "cell_type": "markdown",
   "id": "58d78b1a",
   "metadata": {},
   "source": [
    "After todays lession about 'Feature Engeneering' using 'ColumnTransformer()' and 'Pipline()' I would like to achive similar accuracy results like in the 3_WP notebook by using these functions in shorter time and with more concise code."
   ]
  },
  {
   "cell_type": "markdown",
   "id": "3b935d90",
   "metadata": {},
   "source": [
    "## 1. Load data and some basic EDA"
   ]
  },
  {
   "cell_type": "code",
   "execution_count": null,
   "id": "21477daa",
   "metadata": {},
   "outputs": [],
   "source": [
    "import pandas as pd\n",
    "import matplotlib.pyplot as plt\n",
    "import seaborn as sns\n",
    "import numpy as np\n",
    "import math\n",
    "\n",
    "# models\n",
    "from sklearn.linear_model import LogisticRegression\n",
    "from sklearn.ensemble import RandomForestClassifier\n",
    "from sklearn.svm import SVC\n",
    "\n",
    "from sklearn.model_selection import train_test_split\n",
    "\n",
    "# new utils\n",
    "from sklearn.impute import SimpleImputer\n",
    "from sklearn.preprocessing import OneHotEncoder, KBinsDiscretizer\n",
    "from sklearn.preprocessing import RobustScaler, StandardScaler\n",
    "from sklearn.preprocessing import FunctionTransformer\n",
    "from sklearn.compose import ColumnTransformer\n",
    "from sklearn.pipeline import Pipeline\n",
    "from sklearn import set_config\n",
    "\n",
    "# to visualize the column transformer and pipeline\n",
    "set_config(display='diagram')"
   ]
  },
  {
   "cell_type": "code",
   "execution_count": null,
   "id": "08867d26",
   "metadata": {},
   "outputs": [],
   "source": [
    "df = pd.read_csv(\"./data/Kaggle_Data/train.csv\")\n",
    "X_test = pd.read_csv(\"./data/Kaggle_Data/test.csv\")"
   ]
  },
  {
   "cell_type": "code",
   "execution_count": null,
   "id": "8e02d155",
   "metadata": {},
   "outputs": [],
   "source": [
    "X_test.isna().sum()"
   ]
  },
  {
   "cell_type": "code",
   "execution_count": null,
   "id": "2ed141db",
   "metadata": {},
   "outputs": [],
   "source": [
    "df.isna().sum()"
   ]
  },
  {
   "cell_type": "code",
   "execution_count": null,
   "id": "2bf6ea90",
   "metadata": {},
   "outputs": [],
   "source": [
    "sns.heatmap(X_test.isna());"
   ]
  },
  {
   "cell_type": "code",
   "execution_count": null,
   "id": "d50a7ce2",
   "metadata": {},
   "outputs": [],
   "source": [
    "X_test[X_test[\"Fare\"].isna()]"
   ]
  },
  {
   "cell_type": "markdown",
   "id": "5da22e39",
   "metadata": {},
   "source": [
    "## 2. Feature Engineering outside of scikit-learn"
   ]
  },
  {
   "cell_type": "code",
   "execution_count": null,
   "id": "ad42e127",
   "metadata": {},
   "outputs": [],
   "source": [
    "# Fill the 177 NaNs in the \"Age\" column depending on the \"Survived and \"Pclass\"\n",
    "\n",
    "df['Age'].fillna(df.groupby('Pclass')['Age'].transform('mean').round(0), inplace=True)\n",
    "X_test['Age'].fillna(X_test.groupby('Pclass')['Age'].transform('mean').round(0), inplace=True)"
   ]
  },
  {
   "cell_type": "code",
   "execution_count": null,
   "id": "43d7290f",
   "metadata": {},
   "outputs": [],
   "source": [
    "# Merge the columns parent/children and sibling/spouse together, create a new column \"Family\" and bin the values\n",
    "\n",
    "df[\"Family\"] = df[\"SibSp\"] + df[\"Parch\"]\n",
    "X_test[\"Family\"] = X_test[\"SibSp\"] + X_test[\"Parch\"]"
   ]
  },
  {
   "cell_type": "code",
   "execution_count": null,
   "id": "5f41b77e",
   "metadata": {},
   "outputs": [],
   "source": [
    "# Extract the title from \"Name\" and create a new column\n",
    "\n",
    "df[\"Title\"] = df[\"Name\"].map(lambda name:name.split(',')[1].split(\".\")[0].strip())\n",
    "X_test[\"Title\"] = X_test[\"Name\"].map(lambda name:name.split(',')[1].split(\".\")[0].strip())"
   ]
  },
  {
   "cell_type": "code",
   "execution_count": null,
   "id": "25057422",
   "metadata": {},
   "outputs": [],
   "source": [
    "#Fill the one NaN in the column \"Fare\" with the mean\n",
    "X_test['Fare'].fillna((X_test['Fare'].mean()), inplace=True)"
   ]
  },
  {
   "cell_type": "code",
   "execution_count": null,
   "id": "c6f09bae",
   "metadata": {},
   "outputs": [],
   "source": [
    "X_test.isna().sum()"
   ]
  },
  {
   "cell_type": "markdown",
   "id": "302a5a1b",
   "metadata": {},
   "source": [
    "## 3. Train-Test Split"
   ]
  },
  {
   "cell_type": "code",
   "execution_count": null,
   "id": "3faf62e0",
   "metadata": {},
   "outputs": [],
   "source": [
    "y_train = df[\"Survived\"]\n",
    "X_train = df.loc[:, df.columns != \"Survived\"]"
   ]
  },
  {
   "cell_type": "code",
   "execution_count": null,
   "id": "fd8aff4b",
   "metadata": {},
   "outputs": [],
   "source": [
    "X_train.shape, X_test.shape"
   ]
  },
  {
   "cell_type": "markdown",
   "id": "a41e6831",
   "metadata": {},
   "source": [
    "## 3. Define ColumnTransformers"
   ]
  },
  {
   "cell_type": "code",
   "execution_count": null,
   "id": "789c2e13",
   "metadata": {},
   "outputs": [],
   "source": [
    "numeric_features = [\"Age\", \"Fare\"]\n",
    "numeric_transformer = StandardScaler()\n",
    "\n",
    "\n",
    "categorical_features = [\"Sex\", \"Pclass\", \"Family\", \"Title\"]\n",
    "categorical_transformer = OneHotEncoder(handle_unknown=\"ignore\")\n",
    "\n",
    "embarked_transformer = Pipeline(\n",
    "    steps=[(\"imputer\", SimpleImputer(strategy=\"most_frequent\")), (\"ohe\", OneHotEncoder(handle_unknown=\"ignore\"))]\n",
    ")"
   ]
  },
  {
   "cell_type": "code",
   "execution_count": null,
   "id": "bed60eb5",
   "metadata": {},
   "outputs": [],
   "source": [
    "# Define the preprocessor\n",
    "\n",
    "preprocessor = [\n",
    "        (\"num\", numeric_transformer, numeric_features),\n",
    "        (\"cat\", categorical_transformer, categorical_features),\n",
    "        (\"embarked\", embarked_transformer, [\"Embarked\"])\n",
    "    ]"
   ]
  },
  {
   "cell_type": "code",
   "execution_count": null,
   "id": "4c208111",
   "metadata": {},
   "outputs": [],
   "source": [
    "column_transformer = ColumnTransformer(preprocessor,\n",
    "                                        remainder = 'drop')"
   ]
  },
  {
   "cell_type": "code",
   "execution_count": null,
   "id": "acc89cdf",
   "metadata": {},
   "outputs": [],
   "source": [
    "column_transformer"
   ]
  },
  {
   "cell_type": "markdown",
   "id": "e3ed974e",
   "metadata": {},
   "source": [
    "## 4. Train ML models"
   ]
  },
  {
   "cell_type": "markdown",
   "id": "316055a5",
   "metadata": {},
   "source": [
    "### 4.1 Logistic Regression"
   ]
  },
  {
   "cell_type": "markdown",
   "id": "8dce0ccf",
   "metadata": {},
   "source": [
    "### 4.1.1 Normal Model"
   ]
  },
  {
   "cell_type": "code",
   "execution_count": null,
   "id": "dc7ba80b",
   "metadata": {},
   "outputs": [],
   "source": [
    "log_reg_pipeline = Pipeline(steps = \n",
    "                        [('column_transformer', column_transformer),\n",
    "                         ('log_reg', LogisticRegression(max_iter = 1000, class_weight = 'balanced'))\n",
    "                        ])"
   ]
  },
  {
   "cell_type": "code",
   "execution_count": null,
   "id": "69151b17",
   "metadata": {},
   "outputs": [],
   "source": [
    "log_reg_pipeline.fit(X_train, y_train)"
   ]
  },
  {
   "cell_type": "code",
   "execution_count": null,
   "id": "7b2ac365",
   "metadata": {},
   "outputs": [],
   "source": [
    "X_test.isna().sum()"
   ]
  },
  {
   "cell_type": "code",
   "execution_count": null,
   "id": "5b5d37ed",
   "metadata": {},
   "outputs": [],
   "source": [
    "# Create a predictions array in order to submit to Kaggle\n",
    "predictions_logreg = log_reg_pipeline.predict(X_test)"
   ]
  },
  {
   "cell_type": "code",
   "execution_count": null,
   "id": "34d0493d",
   "metadata": {},
   "outputs": [],
   "source": [
    "predictions_logreg"
   ]
  },
  {
   "cell_type": "code",
   "execution_count": null,
   "id": "1b410df1",
   "metadata": {},
   "outputs": [],
   "source": [
    "print(f\"\"\"The train accuracy of log_reg_pipeline is: {round(log_reg_pipeline.score(X_train,y_train),2)}\"\"\")"
   ]
  },
  {
   "cell_type": "markdown",
   "id": "a54177d1",
   "metadata": {},
   "source": [
    "### 4.1.2 Evaluating classifiers"
   ]
  },
  {
   "cell_type": "code",
   "execution_count": null,
   "id": "643b842b",
   "metadata": {},
   "outputs": [],
   "source": [
    "from sklearn.metrics import accuracy_score \n",
    "\n",
    "ypred = log_reg_pipeline.predict(X_train)\n",
    "print(f\"Accuracy: {round(accuracy_score(y_train, ypred),2)}\")"
   ]
  },
  {
   "cell_type": "code",
   "execution_count": null,
   "id": "af97de8c",
   "metadata": {},
   "outputs": [],
   "source": [
    "from sklearn.metrics import precision_score, recall_score, f1_score\n",
    "\n",
    "print(f\"\"\"Precision = {round(precision_score(y_train,ypred),2)} \n",
    "Recall = {round(recall_score(y_train,ypred),2)}\n",
    "F1 = {round(f1_score(y_train,ypred),2)}\"\"\")"
   ]
  },
  {
   "cell_type": "code",
   "execution_count": null,
   "id": "7d87cb6b",
   "metadata": {},
   "outputs": [],
   "source": [
    "from sklearn.metrics import confusion_matrix, ConfusionMatrixDisplay\n",
    "from sklearn.metrics import plot_confusion_matrix\n",
    "\n",
    "conf = confusion_matrix(y_train, ypred)\n",
    "conf"
   ]
  },
  {
   "cell_type": "code",
   "execution_count": null,
   "id": "bf5387a2",
   "metadata": {},
   "outputs": [],
   "source": [
    "plot_confusion_matrix(log_reg_pipeline, X_train, y_train, normalize=None)"
   ]
  },
  {
   "cell_type": "code",
   "execution_count": null,
   "id": "b29e3a0b",
   "metadata": {},
   "outputs": [],
   "source": [
    "disp = ConfusionMatrixDisplay(confusion_matrix=conf, display_labels=log_reg_pipeline.classes_)\n",
    "disp.plot()\n",
    "plt.show()"
   ]
  },
  {
   "cell_type": "markdown",
   "id": "03749d92",
   "metadata": {},
   "source": [
    "### 4.2 Random Forest"
   ]
  },
  {
   "cell_type": "code",
   "execution_count": null,
   "id": "f32c1001",
   "metadata": {},
   "outputs": [],
   "source": [
    "forest_pipeline = Pipeline(steps = \n",
    "                        [('column_transformer', column_transformer),\n",
    "                         ('forest', RandomForestClassifier(n_estimators = 35, max_depth = 3))\n",
    "                        ])"
   ]
  },
  {
   "cell_type": "code",
   "execution_count": null,
   "id": "8838e5a3",
   "metadata": {},
   "outputs": [],
   "source": [
    "forest_pipeline.fit(X_train, y_train)"
   ]
  },
  {
   "cell_type": "code",
   "execution_count": null,
   "id": "545d9aae",
   "metadata": {},
   "outputs": [],
   "source": [
    "# Create a predictions array in order to submit to Kaggle\n",
    "predictions_rf = svc_pipeline.predict(X_test)"
   ]
  },
  {
   "cell_type": "code",
   "execution_count": null,
   "id": "dc43971d",
   "metadata": {},
   "outputs": [],
   "source": [
    "predictons_rf"
   ]
  },
  {
   "cell_type": "code",
   "execution_count": null,
   "id": "9e51c32c",
   "metadata": {},
   "outputs": [],
   "source": [
    "print(f\"\"\"The train accuracy of forest_pipeline is: {round(forest_pipeline.score(X_train,y_train),2)}\"\"\")"
   ]
  },
  {
   "cell_type": "markdown",
   "id": "f6a6e697",
   "metadata": {},
   "source": [
    "### 4.3 Support Vector Model"
   ]
  },
  {
   "cell_type": "code",
   "execution_count": null,
   "id": "8c7c11a9",
   "metadata": {},
   "outputs": [],
   "source": [
    "svc_pipeline = Pipeline(steps = \n",
    "                        [('column_transformer', column_transformer),\n",
    "                         ('svc', SVC(kernel= \"poly\", C=1))\n",
    "                        ])"
   ]
  },
  {
   "cell_type": "code",
   "execution_count": null,
   "id": "7e5c9071",
   "metadata": {},
   "outputs": [],
   "source": [
    "svc_pipeline.fit(X_train, y_train)"
   ]
  },
  {
   "cell_type": "code",
   "execution_count": null,
   "id": "c71e1be9",
   "metadata": {},
   "outputs": [],
   "source": [
    "# Create a predictions array in order to submit to Kaggle\n",
    "predictions_svc = svc_pipeline.predict(X_test)"
   ]
  },
  {
   "cell_type": "code",
   "execution_count": null,
   "id": "1fe18723",
   "metadata": {},
   "outputs": [],
   "source": [
    "predictions_svc"
   ]
  },
  {
   "cell_type": "code",
   "execution_count": null,
   "id": "94f9dbc5",
   "metadata": {},
   "outputs": [],
   "source": [
    "print(f\"\"\"The train accuracy of svc_pipeline is: {round(svc_pipeline.score(X_train,y_train),2)}\"\"\")"
   ]
  },
  {
   "cell_type": "markdown",
   "id": "6879bb7c",
   "metadata": {},
   "source": [
    "## 5. Create a CSV in order to submit to Kaggle"
   ]
  },
  {
   "cell_type": "code",
   "execution_count": null,
   "id": "f077f8c0",
   "metadata": {},
   "outputs": [],
   "source": [
    "# Choose which predictions should be submitted to Kaggle\n",
    "submission = pd.DataFrame({'PassengerId':X_test['PassengerId'],'Survived':predictions_svc})"
   ]
  },
  {
   "cell_type": "code",
   "execution_count": null,
   "id": "d681bdbc",
   "metadata": {},
   "outputs": [],
   "source": [
    "filename = 'Titanic_Predictions_DB.csv'\n",
    "\n",
    "submission.to_csv(filename,index=False)\n",
    "\n",
    "print('Saved file: ' + filename)"
   ]
  }
 ],
 "metadata": {
  "kernelspec": {
   "display_name": "Python 3 (ipykernel)",
   "language": "python",
   "name": "python3"
  },
  "language_info": {
   "codemirror_mode": {
    "name": "ipython",
    "version": 3
   },
   "file_extension": ".py",
   "mimetype": "text/x-python",
   "name": "python",
   "nbconvert_exporter": "python",
   "pygments_lexer": "ipython3",
   "version": "3.9.12"
  }
 },
 "nbformat": 4,
 "nbformat_minor": 5
}
