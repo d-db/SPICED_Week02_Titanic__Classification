{
 "cells": [
  {
   "cell_type": "markdown",
   "id": "15652e46",
   "metadata": {},
   "source": [
    "## Introduction to this notebook"
   ]
  },
  {
   "cell_type": "markdown",
   "id": "58d78b1a",
   "metadata": {},
   "source": [
    "After todays lession about 'Feature Engeneering' using 'ColumnTransformer()' and 'Pipline()' I would like to achive similar accuracy results like in the 3_WP notebook by using these functions in shorter time and with more concise code."
   ]
  },
  {
   "cell_type": "markdown",
   "id": "3b935d90",
   "metadata": {},
   "source": [
    "## 1. Load data and some basic EDA"
   ]
  },
  {
   "cell_type": "code",
   "execution_count": 1,
   "id": "21477daa",
   "metadata": {},
   "outputs": [],
   "source": [
    "import pandas as pd\n",
    "import matplotlib.pyplot as plt\n",
    "import seaborn as sns\n",
    "import numpy as np\n",
    "import math\n",
    "\n",
    "# models\n",
    "from sklearn.linear_model import LogisticRegression\n",
    "from sklearn.ensemble import RandomForestClassifier\n",
    "from sklearn.svm import SVC\n",
    "\n",
    "from sklearn.model_selection import train_test_split\n",
    "\n",
    "# new utils\n",
    "from sklearn.impute import SimpleImputer\n",
    "from sklearn.preprocessing import OneHotEncoder, KBinsDiscretizer\n",
    "from sklearn.preprocessing import RobustScaler, StandardScaler\n",
    "from sklearn.preprocessing import FunctionTransformer\n",
    "from sklearn.compose import ColumnTransformer\n",
    "from sklearn.pipeline import Pipeline\n",
    "from sklearn import set_config\n",
    "\n",
    "# to visualize the column transformer and pipeline\n",
    "set_config(display='diagram')"
   ]
  },
  {
   "cell_type": "code",
   "execution_count": 2,
   "id": "08867d26",
   "metadata": {},
   "outputs": [],
   "source": [
    "df = pd.read_csv(\"./data/Titanic/train.csv\")"
   ]
  },
  {
   "cell_type": "code",
   "execution_count": null,
   "id": "d50a7ce2",
   "metadata": {},
   "outputs": [],
   "source": [
    "df.head()"
   ]
  },
  {
   "cell_type": "code",
   "execution_count": null,
   "id": "15d523a7",
   "metadata": {},
   "outputs": [],
   "source": [
    "df.info()"
   ]
  },
  {
   "cell_type": "code",
   "execution_count": null,
   "id": "4d2cf151",
   "metadata": {},
   "outputs": [],
   "source": [
    "sns.heatmap(df.isna());"
   ]
  },
  {
   "cell_type": "markdown",
   "id": "302a5a1b",
   "metadata": {},
   "source": [
    "## 3. Train-Test Split"
   ]
  },
  {
   "cell_type": "code",
   "execution_count": 3,
   "id": "3faf62e0",
   "metadata": {},
   "outputs": [],
   "source": [
    "y = df[\"Survived\"]\n",
    "X = df.loc[:, df.columns != \"Survived\"]"
   ]
  },
  {
   "cell_type": "code",
   "execution_count": 4,
   "id": "4b0b6513",
   "metadata": {},
   "outputs": [
    {
     "data": {
      "text/plain": [
       "((712, 11), (179, 11), (712,), (179,))"
      ]
     },
     "execution_count": 4,
     "metadata": {},
     "output_type": "execute_result"
    }
   ],
   "source": [
    "X_train, X_test, y_train, y_test = train_test_split(X, y, test_size = .2, random_state = 85)\n",
    "X_train.shape, X_test.shape, y_train.shape, y_test.shape"
   ]
  },
  {
   "cell_type": "code",
   "execution_count": null,
   "id": "1b9aa0e6",
   "metadata": {},
   "outputs": [],
   "source": [
    "X.head()"
   ]
  },
  {
   "cell_type": "markdown",
   "id": "a41e6831",
   "metadata": {},
   "source": [
    "## 3. Define ColumnTransformers"
   ]
  },
  {
   "cell_type": "markdown",
   "id": "16cd9def",
   "metadata": {},
   "source": [
    "### 3.1 Problem: How to use the simple Python Functions with the FunctionTransformer()"
   ]
  },
  {
   "cell_type": "code",
   "execution_count": 1,
   "id": "30a94fd5",
   "metadata": {},
   "outputs": [
    {
     "ename": "NameError",
     "evalue": "name 'Pipeline' is not defined",
     "output_type": "error",
     "traceback": [
      "\u001b[0;31m---------------------------------------------------------------------------\u001b[0m",
      "\u001b[0;31mNameError\u001b[0m                                 Traceback (most recent call last)",
      "Input \u001b[0;32mIn [1]\u001b[0m, in \u001b[0;36m<cell line: 14>\u001b[0;34m()\u001b[0m\n\u001b[1;32m     11\u001b[0m                 df[column_1]\u001b[38;5;241m.\u001b[39miloc[i] \u001b[38;5;241m=\u001b[39m \u001b[38;5;241m25\u001b[39m\n\u001b[1;32m     12\u001b[0m     \u001b[38;5;28;01mreturn\u001b[39;00m df\n\u001b[0;32m---> 14\u001b[0m age_pipeline \u001b[38;5;241m=\u001b[39m \u001b[43mPipeline\u001b[49m(steps \u001b[38;5;241m=\u001b[39m \n\u001b[1;32m     15\u001b[0m                          [(\u001b[38;5;124m\"\u001b[39m\u001b[38;5;124mimpute_age_class\u001b[39m\u001b[38;5;124m\"\u001b[39m, FunctionTransformer(impute_age_class, validate\u001b[38;5;241m=\u001b[39m\u001b[38;5;28;01mFalse\u001b[39;00m, kw_args\u001b[38;5;241m=\u001b[39m{\u001b[38;5;124m'\u001b[39m\u001b[38;5;124mcolumn_1\u001b[39m\u001b[38;5;124m'\u001b[39m: \u001b[38;5;124m'\u001b[39m\u001b[38;5;124mAge\u001b[39m\u001b[38;5;124m'\u001b[39m, \u001b[38;5;124m'\u001b[39m\u001b[38;5;124mcolumn_2\u001b[39m\u001b[38;5;124m'\u001b[39m: \u001b[38;5;124m'\u001b[39m\u001b[38;5;124mPclass\u001b[39m\u001b[38;5;124m'\u001b[39m})),\n\u001b[1;32m     16\u001b[0m                           (\u001b[38;5;124m\"\u001b[39m\u001b[38;5;124mohe\u001b[39m\u001b[38;5;124m\"\u001b[39m, OneHotEncoder(handle_unknown\u001b[38;5;241m=\u001b[39m\u001b[38;5;124m\"\u001b[39m\u001b[38;5;124mignore\u001b[39m\u001b[38;5;124m\"\u001b[39m))\n\u001b[1;32m     17\u001b[0m ])\n",
      "\u001b[0;31mNameError\u001b[0m: name 'Pipeline' is not defined"
     ]
    }
   ],
   "source": [
    "# If i is np.isnan() check class and replace with median age of the class\n",
    "\n",
    "def impute_age_class(df, column_1, column_2):\n",
    "    for i in range(len(df)):\n",
    "        if np.isnan(df[column_1].iloc[i]):\n",
    "            if df[column_2].iloc[i] == 1:\n",
    "                df[column_1].iloc[i] = 38\n",
    "            elif df[column_2].iloc[i] == 2:\n",
    "                df[column_1].iloc[i] = 30\n",
    "            else:\n",
    "                df[column_1].iloc[i] = 25\n",
    "    return df\n",
    "\n",
    "age_pipeline = Pipeline(steps = \n",
    "                         [(\"impute_age_class\", FunctionTransformer(impute_age_class, validate=False, kw_args={'column_1': 'Age', 'column_2': 'Pclass'})),\n",
    "                          (\"Scale\", StandardS)\n",
    "])"
   ]
  },
  {
   "cell_type": "code",
   "execution_count": null,
   "id": "7e371457",
   "metadata": {},
   "outputs": [],
   "source": []
  },
  {
   "cell_type": "code",
   "execution_count": 6,
   "id": "f5a877b4",
   "metadata": {},
   "outputs": [],
   "source": [
    "# Merge the columns parent/children and sibling/spouse together, create a new column \"Family\" and bin the values\n",
    "\n",
    "def merge_family(df, column_1, column_2):\n",
    "    df[\"Family\"] = df[column_1] + df[column_2]\n",
    "    return df\n",
    "\n",
    "family_pipeline = Pipeline(steps = \n",
    "                         [(\"create_family\", FunctionTransformer(merge_family, validate=False, kw_args={'column_1': 'SibSp', 'column_2': 'Parch'})),\n",
    "                          (\"ohe\", OneHotEncoder(handle_unknown=\"ignore\"))\n",
    "])"
   ]
  },
  {
   "cell_type": "code",
   "execution_count": 7,
   "id": "ae7cae13",
   "metadata": {},
   "outputs": [],
   "source": [
    "# Extract the title from \"Name\" and create a new column \n",
    "\n",
    "def extract_title(df, column_1):\n",
    "    df[\"Title\"] = df[column_1].map(lambda name:name.split(',')[1].split(\".\")[0].strip())\n",
    "    return df\n",
    "\n",
    "title_pipeline = Pipeline(steps = \n",
    "                         [(\"create_family\", FunctionTransformer(extract_title, validate=False, kw_args={'column_1': 'Name'})),\n",
    "                          (\"ohe\", OneHotEncoder(handle_unknown=\"ignore\"))\n",
    "])"
   ]
  },
  {
   "cell_type": "code",
   "execution_count": 8,
   "id": "e132234a",
   "metadata": {},
   "outputs": [],
   "source": [
    "numeric_features = [\"Fare\"]\n",
    "numeric_transformer = StandardScaler()\n",
    "\n",
    "categorical_features = [\"Sex\", \"Pclass\"]\n",
    "categorical_transformer = OneHotEncoder(handle_unknown=\"ignore\")\n",
    "\n",
    "embarked_transformer = Pipeline(steps=\n",
    "                        [(\"imputer\", SimpleImputer(strategy=\"most_frequent\")), \n",
    "                       (\"ohe\", OneHotEncoder(handle_unknown=\"ignore\"))\n",
    "])"
   ]
  },
  {
   "cell_type": "code",
   "execution_count": 9,
   "id": "bed60eb5",
   "metadata": {},
   "outputs": [],
   "source": [
    "# Define the preprocessor\n",
    "\n",
    "preprocessor = [\n",
    "        (\"num\", numeric_transformer, numeric_features),\n",
    "        (\"cat\", categorical_transformer, categorical_features),\n",
    "        (\"embarked\", embarked_transformer, [\"Embarked\"]),\n",
    "        ((\"age_pipline\", age_pipeline, [\"Age\", \"Pclass\"])),\n",
    "        (('family_pipeline', family_pipeline, [\"SibSp\", \"Parch\"])),\n",
    "        (('title_pipeline', title_pipeline, [\"Name\"]))\n",
    "    ]"
   ]
  },
  {
   "cell_type": "code",
   "execution_count": 10,
   "id": "4c208111",
   "metadata": {},
   "outputs": [],
   "source": [
    "column_transformer = ColumnTransformer(preprocessor,\n",
    "                                        remainder = 'drop')"
   ]
  },
  {
   "cell_type": "code",
   "execution_count": 11,
   "id": "acc89cdf",
   "metadata": {},
   "outputs": [
    {
     "data": {
      "text/html": [
       "<style>#sk-7f1102e8-aaea-482d-9259-6c40e644022f {color: black;background-color: white;}#sk-7f1102e8-aaea-482d-9259-6c40e644022f pre{padding: 0;}#sk-7f1102e8-aaea-482d-9259-6c40e644022f div.sk-toggleable {background-color: white;}#sk-7f1102e8-aaea-482d-9259-6c40e644022f label.sk-toggleable__label {cursor: pointer;display: block;width: 100%;margin-bottom: 0;padding: 0.3em;box-sizing: border-box;text-align: center;}#sk-7f1102e8-aaea-482d-9259-6c40e644022f label.sk-toggleable__label-arrow:before {content: \"▸\";float: left;margin-right: 0.25em;color: #696969;}#sk-7f1102e8-aaea-482d-9259-6c40e644022f label.sk-toggleable__label-arrow:hover:before {color: black;}#sk-7f1102e8-aaea-482d-9259-6c40e644022f div.sk-estimator:hover label.sk-toggleable__label-arrow:before {color: black;}#sk-7f1102e8-aaea-482d-9259-6c40e644022f div.sk-toggleable__content {max-height: 0;max-width: 0;overflow: hidden;text-align: left;background-color: #f0f8ff;}#sk-7f1102e8-aaea-482d-9259-6c40e644022f div.sk-toggleable__content pre {margin: 0.2em;color: black;border-radius: 0.25em;background-color: #f0f8ff;}#sk-7f1102e8-aaea-482d-9259-6c40e644022f input.sk-toggleable__control:checked~div.sk-toggleable__content {max-height: 200px;max-width: 100%;overflow: auto;}#sk-7f1102e8-aaea-482d-9259-6c40e644022f input.sk-toggleable__control:checked~label.sk-toggleable__label-arrow:before {content: \"▾\";}#sk-7f1102e8-aaea-482d-9259-6c40e644022f div.sk-estimator input.sk-toggleable__control:checked~label.sk-toggleable__label {background-color: #d4ebff;}#sk-7f1102e8-aaea-482d-9259-6c40e644022f div.sk-label input.sk-toggleable__control:checked~label.sk-toggleable__label {background-color: #d4ebff;}#sk-7f1102e8-aaea-482d-9259-6c40e644022f input.sk-hidden--visually {border: 0;clip: rect(1px 1px 1px 1px);clip: rect(1px, 1px, 1px, 1px);height: 1px;margin: -1px;overflow: hidden;padding: 0;position: absolute;width: 1px;}#sk-7f1102e8-aaea-482d-9259-6c40e644022f div.sk-estimator {font-family: monospace;background-color: #f0f8ff;border: 1px dotted black;border-radius: 0.25em;box-sizing: border-box;margin-bottom: 0.5em;}#sk-7f1102e8-aaea-482d-9259-6c40e644022f div.sk-estimator:hover {background-color: #d4ebff;}#sk-7f1102e8-aaea-482d-9259-6c40e644022f div.sk-parallel-item::after {content: \"\";width: 100%;border-bottom: 1px solid gray;flex-grow: 1;}#sk-7f1102e8-aaea-482d-9259-6c40e644022f div.sk-label:hover label.sk-toggleable__label {background-color: #d4ebff;}#sk-7f1102e8-aaea-482d-9259-6c40e644022f div.sk-serial::before {content: \"\";position: absolute;border-left: 1px solid gray;box-sizing: border-box;top: 2em;bottom: 0;left: 50%;}#sk-7f1102e8-aaea-482d-9259-6c40e644022f div.sk-serial {display: flex;flex-direction: column;align-items: center;background-color: white;padding-right: 0.2em;padding-left: 0.2em;}#sk-7f1102e8-aaea-482d-9259-6c40e644022f div.sk-item {z-index: 1;}#sk-7f1102e8-aaea-482d-9259-6c40e644022f div.sk-parallel {display: flex;align-items: stretch;justify-content: center;background-color: white;}#sk-7f1102e8-aaea-482d-9259-6c40e644022f div.sk-parallel::before {content: \"\";position: absolute;border-left: 1px solid gray;box-sizing: border-box;top: 2em;bottom: 0;left: 50%;}#sk-7f1102e8-aaea-482d-9259-6c40e644022f div.sk-parallel-item {display: flex;flex-direction: column;position: relative;background-color: white;}#sk-7f1102e8-aaea-482d-9259-6c40e644022f div.sk-parallel-item:first-child::after {align-self: flex-end;width: 50%;}#sk-7f1102e8-aaea-482d-9259-6c40e644022f div.sk-parallel-item:last-child::after {align-self: flex-start;width: 50%;}#sk-7f1102e8-aaea-482d-9259-6c40e644022f div.sk-parallel-item:only-child::after {width: 0;}#sk-7f1102e8-aaea-482d-9259-6c40e644022f div.sk-dashed-wrapped {border: 1px dashed gray;margin: 0 0.4em 0.5em 0.4em;box-sizing: border-box;padding-bottom: 0.4em;background-color: white;position: relative;}#sk-7f1102e8-aaea-482d-9259-6c40e644022f div.sk-label label {font-family: monospace;font-weight: bold;background-color: white;display: inline-block;line-height: 1.2em;}#sk-7f1102e8-aaea-482d-9259-6c40e644022f div.sk-label-container {position: relative;z-index: 2;text-align: center;}#sk-7f1102e8-aaea-482d-9259-6c40e644022f div.sk-container {/* jupyter's `normalize.less` sets `[hidden] { display: none; }` but bootstrap.min.css set `[hidden] { display: none !important; }` so we also need the `!important` here to be able to override the default hidden behavior on the sphinx rendered scikit-learn.org. See: https://github.com/scikit-learn/scikit-learn/issues/21755 */display: inline-block !important;position: relative;}#sk-7f1102e8-aaea-482d-9259-6c40e644022f div.sk-text-repr-fallback {display: none;}</style><div id=\"sk-7f1102e8-aaea-482d-9259-6c40e644022f\" class=\"sk-top-container\"><div class=\"sk-text-repr-fallback\"><pre>ColumnTransformer(transformers=[(&#x27;num&#x27;, StandardScaler(), [&#x27;Fare&#x27;]),\n",
       "                                (&#x27;cat&#x27;, OneHotEncoder(handle_unknown=&#x27;ignore&#x27;),\n",
       "                                 [&#x27;Sex&#x27;, &#x27;Pclass&#x27;]),\n",
       "                                (&#x27;embarked&#x27;,\n",
       "                                 Pipeline(steps=[(&#x27;imputer&#x27;,\n",
       "                                                  SimpleImputer(strategy=&#x27;most_frequent&#x27;)),\n",
       "                                                 (&#x27;ohe&#x27;,\n",
       "                                                  OneHotEncoder(handle_unknown=&#x27;ignore&#x27;))]),\n",
       "                                 [&#x27;Embarked&#x27;]),\n",
       "                                (&#x27;age_pipline&#x27;,\n",
       "                                 Pipeline(steps=[(&#x27;impute_age_class&#x27;,\n",
       "                                                  FunctionTransformer(func=&lt;...\n",
       "                                                  FunctionTransformer(func=&lt;function merge_family at 0x7fb8258111f0&gt;,\n",
       "                                                                      kw_args={&#x27;column_1&#x27;: &#x27;SibSp&#x27;,\n",
       "                                                                               &#x27;column_2&#x27;: &#x27;Parch&#x27;})),\n",
       "                                                 (&#x27;ohe&#x27;,\n",
       "                                                  OneHotEncoder(handle_unknown=&#x27;ignore&#x27;))]),\n",
       "                                 [&#x27;SibSp&#x27;, &#x27;Parch&#x27;]),\n",
       "                                (&#x27;title_pipeline&#x27;,\n",
       "                                 Pipeline(steps=[(&#x27;create_family&#x27;,\n",
       "                                                  FunctionTransformer(func=&lt;function extract_title at 0x7fb825811280&gt;,\n",
       "                                                                      kw_args={&#x27;column_1&#x27;: &#x27;Name&#x27;})),\n",
       "                                                 (&#x27;ohe&#x27;,\n",
       "                                                  OneHotEncoder(handle_unknown=&#x27;ignore&#x27;))]),\n",
       "                                 [&#x27;Name&#x27;])])</pre><b>Please rerun this cell to show the HTML repr or trust the notebook.</b></div><div class=\"sk-container\" hidden><div class=\"sk-item sk-dashed-wrapped\"><div class=\"sk-label-container\"><div class=\"sk-label sk-toggleable\"><input class=\"sk-toggleable__control sk-hidden--visually\" id=\"fbe8ebc4-4634-4fb3-92b8-3fd55bbf2a7c\" type=\"checkbox\" ><label for=\"fbe8ebc4-4634-4fb3-92b8-3fd55bbf2a7c\" class=\"sk-toggleable__label sk-toggleable__label-arrow\">ColumnTransformer</label><div class=\"sk-toggleable__content\"><pre>ColumnTransformer(transformers=[(&#x27;num&#x27;, StandardScaler(), [&#x27;Fare&#x27;]),\n",
       "                                (&#x27;cat&#x27;, OneHotEncoder(handle_unknown=&#x27;ignore&#x27;),\n",
       "                                 [&#x27;Sex&#x27;, &#x27;Pclass&#x27;]),\n",
       "                                (&#x27;embarked&#x27;,\n",
       "                                 Pipeline(steps=[(&#x27;imputer&#x27;,\n",
       "                                                  SimpleImputer(strategy=&#x27;most_frequent&#x27;)),\n",
       "                                                 (&#x27;ohe&#x27;,\n",
       "                                                  OneHotEncoder(handle_unknown=&#x27;ignore&#x27;))]),\n",
       "                                 [&#x27;Embarked&#x27;]),\n",
       "                                (&#x27;age_pipline&#x27;,\n",
       "                                 Pipeline(steps=[(&#x27;impute_age_class&#x27;,\n",
       "                                                  FunctionTransformer(func=&lt;...\n",
       "                                                  FunctionTransformer(func=&lt;function merge_family at 0x7fb8258111f0&gt;,\n",
       "                                                                      kw_args={&#x27;column_1&#x27;: &#x27;SibSp&#x27;,\n",
       "                                                                               &#x27;column_2&#x27;: &#x27;Parch&#x27;})),\n",
       "                                                 (&#x27;ohe&#x27;,\n",
       "                                                  OneHotEncoder(handle_unknown=&#x27;ignore&#x27;))]),\n",
       "                                 [&#x27;SibSp&#x27;, &#x27;Parch&#x27;]),\n",
       "                                (&#x27;title_pipeline&#x27;,\n",
       "                                 Pipeline(steps=[(&#x27;create_family&#x27;,\n",
       "                                                  FunctionTransformer(func=&lt;function extract_title at 0x7fb825811280&gt;,\n",
       "                                                                      kw_args={&#x27;column_1&#x27;: &#x27;Name&#x27;})),\n",
       "                                                 (&#x27;ohe&#x27;,\n",
       "                                                  OneHotEncoder(handle_unknown=&#x27;ignore&#x27;))]),\n",
       "                                 [&#x27;Name&#x27;])])</pre></div></div></div><div class=\"sk-parallel\"><div class=\"sk-parallel-item\"><div class=\"sk-item\"><div class=\"sk-label-container\"><div class=\"sk-label sk-toggleable\"><input class=\"sk-toggleable__control sk-hidden--visually\" id=\"39a53b6f-15b7-4849-846b-683953148f8a\" type=\"checkbox\" ><label for=\"39a53b6f-15b7-4849-846b-683953148f8a\" class=\"sk-toggleable__label sk-toggleable__label-arrow\">num</label><div class=\"sk-toggleable__content\"><pre>[&#x27;Fare&#x27;]</pre></div></div></div><div class=\"sk-serial\"><div class=\"sk-item\"><div class=\"sk-estimator sk-toggleable\"><input class=\"sk-toggleable__control sk-hidden--visually\" id=\"a46252c6-341e-4196-8a58-708d54a5d605\" type=\"checkbox\" ><label for=\"a46252c6-341e-4196-8a58-708d54a5d605\" class=\"sk-toggleable__label sk-toggleable__label-arrow\">StandardScaler</label><div class=\"sk-toggleable__content\"><pre>StandardScaler()</pre></div></div></div></div></div></div><div class=\"sk-parallel-item\"><div class=\"sk-item\"><div class=\"sk-label-container\"><div class=\"sk-label sk-toggleable\"><input class=\"sk-toggleable__control sk-hidden--visually\" id=\"777144d0-6734-4730-b36e-1eb90288ccac\" type=\"checkbox\" ><label for=\"777144d0-6734-4730-b36e-1eb90288ccac\" class=\"sk-toggleable__label sk-toggleable__label-arrow\">cat</label><div class=\"sk-toggleable__content\"><pre>[&#x27;Sex&#x27;, &#x27;Pclass&#x27;]</pre></div></div></div><div class=\"sk-serial\"><div class=\"sk-item\"><div class=\"sk-estimator sk-toggleable\"><input class=\"sk-toggleable__control sk-hidden--visually\" id=\"8105ba5f-753c-4ae7-8c99-042c69354373\" type=\"checkbox\" ><label for=\"8105ba5f-753c-4ae7-8c99-042c69354373\" class=\"sk-toggleable__label sk-toggleable__label-arrow\">OneHotEncoder</label><div class=\"sk-toggleable__content\"><pre>OneHotEncoder(handle_unknown=&#x27;ignore&#x27;)</pre></div></div></div></div></div></div><div class=\"sk-parallel-item\"><div class=\"sk-item\"><div class=\"sk-label-container\"><div class=\"sk-label sk-toggleable\"><input class=\"sk-toggleable__control sk-hidden--visually\" id=\"6640d875-d721-4525-9885-ff99dc1a7980\" type=\"checkbox\" ><label for=\"6640d875-d721-4525-9885-ff99dc1a7980\" class=\"sk-toggleable__label sk-toggleable__label-arrow\">embarked</label><div class=\"sk-toggleable__content\"><pre>[&#x27;Embarked&#x27;]</pre></div></div></div><div class=\"sk-serial\"><div class=\"sk-item\"><div class=\"sk-serial\"><div class=\"sk-item\"><div class=\"sk-estimator sk-toggleable\"><input class=\"sk-toggleable__control sk-hidden--visually\" id=\"b3bab124-3052-42d9-9849-38dc15be424b\" type=\"checkbox\" ><label for=\"b3bab124-3052-42d9-9849-38dc15be424b\" class=\"sk-toggleable__label sk-toggleable__label-arrow\">SimpleImputer</label><div class=\"sk-toggleable__content\"><pre>SimpleImputer(strategy=&#x27;most_frequent&#x27;)</pre></div></div></div><div class=\"sk-item\"><div class=\"sk-estimator sk-toggleable\"><input class=\"sk-toggleable__control sk-hidden--visually\" id=\"e88410f6-67ed-48ee-bd3e-76185b7265a5\" type=\"checkbox\" ><label for=\"e88410f6-67ed-48ee-bd3e-76185b7265a5\" class=\"sk-toggleable__label sk-toggleable__label-arrow\">OneHotEncoder</label><div class=\"sk-toggleable__content\"><pre>OneHotEncoder(handle_unknown=&#x27;ignore&#x27;)</pre></div></div></div></div></div></div></div></div><div class=\"sk-parallel-item\"><div class=\"sk-item\"><div class=\"sk-label-container\"><div class=\"sk-label sk-toggleable\"><input class=\"sk-toggleable__control sk-hidden--visually\" id=\"07a47a15-ede9-4455-a793-2d8b5a5afba2\" type=\"checkbox\" ><label for=\"07a47a15-ede9-4455-a793-2d8b5a5afba2\" class=\"sk-toggleable__label sk-toggleable__label-arrow\">age_pipline</label><div class=\"sk-toggleable__content\"><pre>[&#x27;Age&#x27;, &#x27;Pclass&#x27;]</pre></div></div></div><div class=\"sk-serial\"><div class=\"sk-item\"><div class=\"sk-serial\"><div class=\"sk-item\"><div class=\"sk-estimator sk-toggleable\"><input class=\"sk-toggleable__control sk-hidden--visually\" id=\"d4c41b0f-176d-42df-9580-f9d45bb4f036\" type=\"checkbox\" ><label for=\"d4c41b0f-176d-42df-9580-f9d45bb4f036\" class=\"sk-toggleable__label sk-toggleable__label-arrow\">FunctionTransformer</label><div class=\"sk-toggleable__content\"><pre>FunctionTransformer(func=&lt;function impute_age_class at 0x7fb825811040&gt;,\n",
       "                    kw_args={&#x27;column_1&#x27;: &#x27;Age&#x27;, &#x27;column_2&#x27;: &#x27;Pclass&#x27;})</pre></div></div></div><div class=\"sk-item\"><div class=\"sk-estimator sk-toggleable\"><input class=\"sk-toggleable__control sk-hidden--visually\" id=\"2ea298f9-eec7-4806-9ed0-3e47ed1371db\" type=\"checkbox\" ><label for=\"2ea298f9-eec7-4806-9ed0-3e47ed1371db\" class=\"sk-toggleable__label sk-toggleable__label-arrow\">OneHotEncoder</label><div class=\"sk-toggleable__content\"><pre>OneHotEncoder(handle_unknown=&#x27;ignore&#x27;)</pre></div></div></div></div></div></div></div></div><div class=\"sk-parallel-item\"><div class=\"sk-item\"><div class=\"sk-label-container\"><div class=\"sk-label sk-toggleable\"><input class=\"sk-toggleable__control sk-hidden--visually\" id=\"a6e55fd8-2645-480d-b9d5-07a974cc6961\" type=\"checkbox\" ><label for=\"a6e55fd8-2645-480d-b9d5-07a974cc6961\" class=\"sk-toggleable__label sk-toggleable__label-arrow\">family_pipeline</label><div class=\"sk-toggleable__content\"><pre>[&#x27;SibSp&#x27;, &#x27;Parch&#x27;]</pre></div></div></div><div class=\"sk-serial\"><div class=\"sk-item\"><div class=\"sk-serial\"><div class=\"sk-item\"><div class=\"sk-estimator sk-toggleable\"><input class=\"sk-toggleable__control sk-hidden--visually\" id=\"470c73fe-7fff-4035-9f5d-72f3ce56c6be\" type=\"checkbox\" ><label for=\"470c73fe-7fff-4035-9f5d-72f3ce56c6be\" class=\"sk-toggleable__label sk-toggleable__label-arrow\">FunctionTransformer</label><div class=\"sk-toggleable__content\"><pre>FunctionTransformer(func=&lt;function merge_family at 0x7fb8258111f0&gt;,\n",
       "                    kw_args={&#x27;column_1&#x27;: &#x27;SibSp&#x27;, &#x27;column_2&#x27;: &#x27;Parch&#x27;})</pre></div></div></div><div class=\"sk-item\"><div class=\"sk-estimator sk-toggleable\"><input class=\"sk-toggleable__control sk-hidden--visually\" id=\"048ec8a5-6340-40be-a6a5-e5c5281f30e3\" type=\"checkbox\" ><label for=\"048ec8a5-6340-40be-a6a5-e5c5281f30e3\" class=\"sk-toggleable__label sk-toggleable__label-arrow\">OneHotEncoder</label><div class=\"sk-toggleable__content\"><pre>OneHotEncoder(handle_unknown=&#x27;ignore&#x27;)</pre></div></div></div></div></div></div></div></div><div class=\"sk-parallel-item\"><div class=\"sk-item\"><div class=\"sk-label-container\"><div class=\"sk-label sk-toggleable\"><input class=\"sk-toggleable__control sk-hidden--visually\" id=\"ce6bdabc-f263-4cc4-af01-5201b01eda63\" type=\"checkbox\" ><label for=\"ce6bdabc-f263-4cc4-af01-5201b01eda63\" class=\"sk-toggleable__label sk-toggleable__label-arrow\">title_pipeline</label><div class=\"sk-toggleable__content\"><pre>[&#x27;Name&#x27;]</pre></div></div></div><div class=\"sk-serial\"><div class=\"sk-item\"><div class=\"sk-serial\"><div class=\"sk-item\"><div class=\"sk-estimator sk-toggleable\"><input class=\"sk-toggleable__control sk-hidden--visually\" id=\"c05068f6-fb09-4ed4-a8b6-ffe0ca108ac0\" type=\"checkbox\" ><label for=\"c05068f6-fb09-4ed4-a8b6-ffe0ca108ac0\" class=\"sk-toggleable__label sk-toggleable__label-arrow\">FunctionTransformer</label><div class=\"sk-toggleable__content\"><pre>FunctionTransformer(func=&lt;function extract_title at 0x7fb825811280&gt;,\n",
       "                    kw_args={&#x27;column_1&#x27;: &#x27;Name&#x27;})</pre></div></div></div><div class=\"sk-item\"><div class=\"sk-estimator sk-toggleable\"><input class=\"sk-toggleable__control sk-hidden--visually\" id=\"555c1ee5-818a-40af-9d40-1110a86efa55\" type=\"checkbox\" ><label for=\"555c1ee5-818a-40af-9d40-1110a86efa55\" class=\"sk-toggleable__label sk-toggleable__label-arrow\">OneHotEncoder</label><div class=\"sk-toggleable__content\"><pre>OneHotEncoder(handle_unknown=&#x27;ignore&#x27;)</pre></div></div></div></div></div></div></div></div></div></div></div></div>"
      ],
      "text/plain": [
       "ColumnTransformer(transformers=[('num', StandardScaler(), ['Fare']),\n",
       "                                ('cat', OneHotEncoder(handle_unknown='ignore'),\n",
       "                                 ['Sex', 'Pclass']),\n",
       "                                ('embarked',\n",
       "                                 Pipeline(steps=[('imputer',\n",
       "                                                  SimpleImputer(strategy='most_frequent')),\n",
       "                                                 ('ohe',\n",
       "                                                  OneHotEncoder(handle_unknown='ignore'))]),\n",
       "                                 ['Embarked']),\n",
       "                                ('age_pipline',\n",
       "                                 Pipeline(steps=[('impute_age_class',\n",
       "                                                  FunctionTransformer(func=<...\n",
       "                                                  FunctionTransformer(func=<function merge_family at 0x7fb8258111f0>,\n",
       "                                                                      kw_args={'column_1': 'SibSp',\n",
       "                                                                               'column_2': 'Parch'})),\n",
       "                                                 ('ohe',\n",
       "                                                  OneHotEncoder(handle_unknown='ignore'))]),\n",
       "                                 ['SibSp', 'Parch']),\n",
       "                                ('title_pipeline',\n",
       "                                 Pipeline(steps=[('create_family',\n",
       "                                                  FunctionTransformer(func=<function extract_title at 0x7fb825811280>,\n",
       "                                                                      kw_args={'column_1': 'Name'})),\n",
       "                                                 ('ohe',\n",
       "                                                  OneHotEncoder(handle_unknown='ignore'))]),\n",
       "                                 ['Name'])])"
      ]
     },
     "execution_count": 11,
     "metadata": {},
     "output_type": "execute_result"
    }
   ],
   "source": [
    "column_transformer"
   ]
  },
  {
   "cell_type": "markdown",
   "id": "e3ed974e",
   "metadata": {},
   "source": [
    "## 4. Train ML models"
   ]
  },
  {
   "cell_type": "markdown",
   "id": "316055a5",
   "metadata": {},
   "source": [
    "### 4.1 Logistic Regression"
   ]
  },
  {
   "cell_type": "markdown",
   "id": "8dce0ccf",
   "metadata": {},
   "source": [
    "### 4.1.1 Normal Model"
   ]
  },
  {
   "cell_type": "code",
   "execution_count": 12,
   "id": "dc7ba80b",
   "metadata": {},
   "outputs": [],
   "source": [
    "log_reg_pipeline = Pipeline(steps = \n",
    "                        [('column_transformer', column_transformer),\n",
    "                         ('log_reg', LogisticRegression(max_iter = 1000, class_weight = 'balanced'))\n",
    "                        ])"
   ]
  },
  {
   "cell_type": "code",
   "execution_count": 13,
   "id": "69151b17",
   "metadata": {},
   "outputs": [
    {
     "name": "stderr",
     "output_type": "stream",
     "text": [
      "/var/folders/tr/90xr4qzn78v1dd60234t4jxr0000gn/T/ipykernel_99178/725775979.py:11: SettingWithCopyWarning: \n",
      "A value is trying to be set on a copy of a slice from a DataFrame\n",
      "\n",
      "See the caveats in the documentation: https://pandas.pydata.org/pandas-docs/stable/user_guide/indexing.html#returning-a-view-versus-a-copy\n",
      "  df[column_1].iloc[i] = 25\n",
      "/var/folders/tr/90xr4qzn78v1dd60234t4jxr0000gn/T/ipykernel_99178/725775979.py:7: SettingWithCopyWarning: \n",
      "A value is trying to be set on a copy of a slice from a DataFrame\n",
      "\n",
      "See the caveats in the documentation: https://pandas.pydata.org/pandas-docs/stable/user_guide/indexing.html#returning-a-view-versus-a-copy\n",
      "  df[column_1].iloc[i] = 38\n",
      "/var/folders/tr/90xr4qzn78v1dd60234t4jxr0000gn/T/ipykernel_99178/725775979.py:9: SettingWithCopyWarning: \n",
      "A value is trying to be set on a copy of a slice from a DataFrame\n",
      "\n",
      "See the caveats in the documentation: https://pandas.pydata.org/pandas-docs/stable/user_guide/indexing.html#returning-a-view-versus-a-copy\n",
      "  df[column_1].iloc[i] = 30\n"
     ]
    },
    {
     "data": {
      "text/html": [
       "<style>#sk-41f770a7-c1a4-45d6-bf18-6fa26379126c {color: black;background-color: white;}#sk-41f770a7-c1a4-45d6-bf18-6fa26379126c pre{padding: 0;}#sk-41f770a7-c1a4-45d6-bf18-6fa26379126c div.sk-toggleable {background-color: white;}#sk-41f770a7-c1a4-45d6-bf18-6fa26379126c label.sk-toggleable__label {cursor: pointer;display: block;width: 100%;margin-bottom: 0;padding: 0.3em;box-sizing: border-box;text-align: center;}#sk-41f770a7-c1a4-45d6-bf18-6fa26379126c label.sk-toggleable__label-arrow:before {content: \"▸\";float: left;margin-right: 0.25em;color: #696969;}#sk-41f770a7-c1a4-45d6-bf18-6fa26379126c label.sk-toggleable__label-arrow:hover:before {color: black;}#sk-41f770a7-c1a4-45d6-bf18-6fa26379126c div.sk-estimator:hover label.sk-toggleable__label-arrow:before {color: black;}#sk-41f770a7-c1a4-45d6-bf18-6fa26379126c div.sk-toggleable__content {max-height: 0;max-width: 0;overflow: hidden;text-align: left;background-color: #f0f8ff;}#sk-41f770a7-c1a4-45d6-bf18-6fa26379126c div.sk-toggleable__content pre {margin: 0.2em;color: black;border-radius: 0.25em;background-color: #f0f8ff;}#sk-41f770a7-c1a4-45d6-bf18-6fa26379126c input.sk-toggleable__control:checked~div.sk-toggleable__content {max-height: 200px;max-width: 100%;overflow: auto;}#sk-41f770a7-c1a4-45d6-bf18-6fa26379126c input.sk-toggleable__control:checked~label.sk-toggleable__label-arrow:before {content: \"▾\";}#sk-41f770a7-c1a4-45d6-bf18-6fa26379126c div.sk-estimator input.sk-toggleable__control:checked~label.sk-toggleable__label {background-color: #d4ebff;}#sk-41f770a7-c1a4-45d6-bf18-6fa26379126c div.sk-label input.sk-toggleable__control:checked~label.sk-toggleable__label {background-color: #d4ebff;}#sk-41f770a7-c1a4-45d6-bf18-6fa26379126c input.sk-hidden--visually {border: 0;clip: rect(1px 1px 1px 1px);clip: rect(1px, 1px, 1px, 1px);height: 1px;margin: -1px;overflow: hidden;padding: 0;position: absolute;width: 1px;}#sk-41f770a7-c1a4-45d6-bf18-6fa26379126c div.sk-estimator {font-family: monospace;background-color: #f0f8ff;border: 1px dotted black;border-radius: 0.25em;box-sizing: border-box;margin-bottom: 0.5em;}#sk-41f770a7-c1a4-45d6-bf18-6fa26379126c div.sk-estimator:hover {background-color: #d4ebff;}#sk-41f770a7-c1a4-45d6-bf18-6fa26379126c div.sk-parallel-item::after {content: \"\";width: 100%;border-bottom: 1px solid gray;flex-grow: 1;}#sk-41f770a7-c1a4-45d6-bf18-6fa26379126c div.sk-label:hover label.sk-toggleable__label {background-color: #d4ebff;}#sk-41f770a7-c1a4-45d6-bf18-6fa26379126c div.sk-serial::before {content: \"\";position: absolute;border-left: 1px solid gray;box-sizing: border-box;top: 2em;bottom: 0;left: 50%;}#sk-41f770a7-c1a4-45d6-bf18-6fa26379126c div.sk-serial {display: flex;flex-direction: column;align-items: center;background-color: white;padding-right: 0.2em;padding-left: 0.2em;}#sk-41f770a7-c1a4-45d6-bf18-6fa26379126c div.sk-item {z-index: 1;}#sk-41f770a7-c1a4-45d6-bf18-6fa26379126c div.sk-parallel {display: flex;align-items: stretch;justify-content: center;background-color: white;}#sk-41f770a7-c1a4-45d6-bf18-6fa26379126c div.sk-parallel::before {content: \"\";position: absolute;border-left: 1px solid gray;box-sizing: border-box;top: 2em;bottom: 0;left: 50%;}#sk-41f770a7-c1a4-45d6-bf18-6fa26379126c div.sk-parallel-item {display: flex;flex-direction: column;position: relative;background-color: white;}#sk-41f770a7-c1a4-45d6-bf18-6fa26379126c div.sk-parallel-item:first-child::after {align-self: flex-end;width: 50%;}#sk-41f770a7-c1a4-45d6-bf18-6fa26379126c div.sk-parallel-item:last-child::after {align-self: flex-start;width: 50%;}#sk-41f770a7-c1a4-45d6-bf18-6fa26379126c div.sk-parallel-item:only-child::after {width: 0;}#sk-41f770a7-c1a4-45d6-bf18-6fa26379126c div.sk-dashed-wrapped {border: 1px dashed gray;margin: 0 0.4em 0.5em 0.4em;box-sizing: border-box;padding-bottom: 0.4em;background-color: white;position: relative;}#sk-41f770a7-c1a4-45d6-bf18-6fa26379126c div.sk-label label {font-family: monospace;font-weight: bold;background-color: white;display: inline-block;line-height: 1.2em;}#sk-41f770a7-c1a4-45d6-bf18-6fa26379126c div.sk-label-container {position: relative;z-index: 2;text-align: center;}#sk-41f770a7-c1a4-45d6-bf18-6fa26379126c div.sk-container {/* jupyter's `normalize.less` sets `[hidden] { display: none; }` but bootstrap.min.css set `[hidden] { display: none !important; }` so we also need the `!important` here to be able to override the default hidden behavior on the sphinx rendered scikit-learn.org. See: https://github.com/scikit-learn/scikit-learn/issues/21755 */display: inline-block !important;position: relative;}#sk-41f770a7-c1a4-45d6-bf18-6fa26379126c div.sk-text-repr-fallback {display: none;}</style><div id=\"sk-41f770a7-c1a4-45d6-bf18-6fa26379126c\" class=\"sk-top-container\"><div class=\"sk-text-repr-fallback\"><pre>Pipeline(steps=[(&#x27;column_transformer&#x27;,\n",
       "                 ColumnTransformer(transformers=[(&#x27;num&#x27;, StandardScaler(),\n",
       "                                                  [&#x27;Fare&#x27;]),\n",
       "                                                 (&#x27;cat&#x27;,\n",
       "                                                  OneHotEncoder(handle_unknown=&#x27;ignore&#x27;),\n",
       "                                                  [&#x27;Sex&#x27;, &#x27;Pclass&#x27;]),\n",
       "                                                 (&#x27;embarked&#x27;,\n",
       "                                                  Pipeline(steps=[(&#x27;imputer&#x27;,\n",
       "                                                                   SimpleImputer(strategy=&#x27;most_frequent&#x27;)),\n",
       "                                                                  (&#x27;ohe&#x27;,\n",
       "                                                                   OneHotEncoder(handle_unknown=&#x27;ignore&#x27;))]),\n",
       "                                                  [&#x27;Embarked&#x27;]),\n",
       "                                                 (&#x27;age_pipline&#x27;,\n",
       "                                                  Pipeline(steps=[(&#x27;impute...\n",
       "                                                                                                &#x27;column_2&#x27;: &#x27;Parch&#x27;})),\n",
       "                                                                  (&#x27;ohe&#x27;,\n",
       "                                                                   OneHotEncoder(handle_unknown=&#x27;ignore&#x27;))]),\n",
       "                                                  [&#x27;SibSp&#x27;, &#x27;Parch&#x27;]),\n",
       "                                                 (&#x27;title_pipeline&#x27;,\n",
       "                                                  Pipeline(steps=[(&#x27;create_family&#x27;,\n",
       "                                                                   FunctionTransformer(func=&lt;function extract_title at 0x7fb825811280&gt;,\n",
       "                                                                                       kw_args={&#x27;column_1&#x27;: &#x27;Name&#x27;})),\n",
       "                                                                  (&#x27;ohe&#x27;,\n",
       "                                                                   OneHotEncoder(handle_unknown=&#x27;ignore&#x27;))]),\n",
       "                                                  [&#x27;Name&#x27;])])),\n",
       "                (&#x27;log_reg&#x27;,\n",
       "                 LogisticRegression(class_weight=&#x27;balanced&#x27;, max_iter=1000))])</pre><b>Please rerun this cell to show the HTML repr or trust the notebook.</b></div><div class=\"sk-container\" hidden><div class=\"sk-item sk-dashed-wrapped\"><div class=\"sk-label-container\"><div class=\"sk-label sk-toggleable\"><input class=\"sk-toggleable__control sk-hidden--visually\" id=\"a07066f3-7662-4f4d-b3e2-683046cd6bfa\" type=\"checkbox\" ><label for=\"a07066f3-7662-4f4d-b3e2-683046cd6bfa\" class=\"sk-toggleable__label sk-toggleable__label-arrow\">Pipeline</label><div class=\"sk-toggleable__content\"><pre>Pipeline(steps=[(&#x27;column_transformer&#x27;,\n",
       "                 ColumnTransformer(transformers=[(&#x27;num&#x27;, StandardScaler(),\n",
       "                                                  [&#x27;Fare&#x27;]),\n",
       "                                                 (&#x27;cat&#x27;,\n",
       "                                                  OneHotEncoder(handle_unknown=&#x27;ignore&#x27;),\n",
       "                                                  [&#x27;Sex&#x27;, &#x27;Pclass&#x27;]),\n",
       "                                                 (&#x27;embarked&#x27;,\n",
       "                                                  Pipeline(steps=[(&#x27;imputer&#x27;,\n",
       "                                                                   SimpleImputer(strategy=&#x27;most_frequent&#x27;)),\n",
       "                                                                  (&#x27;ohe&#x27;,\n",
       "                                                                   OneHotEncoder(handle_unknown=&#x27;ignore&#x27;))]),\n",
       "                                                  [&#x27;Embarked&#x27;]),\n",
       "                                                 (&#x27;age_pipline&#x27;,\n",
       "                                                  Pipeline(steps=[(&#x27;impute...\n",
       "                                                                                                &#x27;column_2&#x27;: &#x27;Parch&#x27;})),\n",
       "                                                                  (&#x27;ohe&#x27;,\n",
       "                                                                   OneHotEncoder(handle_unknown=&#x27;ignore&#x27;))]),\n",
       "                                                  [&#x27;SibSp&#x27;, &#x27;Parch&#x27;]),\n",
       "                                                 (&#x27;title_pipeline&#x27;,\n",
       "                                                  Pipeline(steps=[(&#x27;create_family&#x27;,\n",
       "                                                                   FunctionTransformer(func=&lt;function extract_title at 0x7fb825811280&gt;,\n",
       "                                                                                       kw_args={&#x27;column_1&#x27;: &#x27;Name&#x27;})),\n",
       "                                                                  (&#x27;ohe&#x27;,\n",
       "                                                                   OneHotEncoder(handle_unknown=&#x27;ignore&#x27;))]),\n",
       "                                                  [&#x27;Name&#x27;])])),\n",
       "                (&#x27;log_reg&#x27;,\n",
       "                 LogisticRegression(class_weight=&#x27;balanced&#x27;, max_iter=1000))])</pre></div></div></div><div class=\"sk-serial\"><div class=\"sk-item sk-dashed-wrapped\"><div class=\"sk-label-container\"><div class=\"sk-label sk-toggleable\"><input class=\"sk-toggleable__control sk-hidden--visually\" id=\"4b53c2b4-bdcb-48ce-92d1-809db3baaa6e\" type=\"checkbox\" ><label for=\"4b53c2b4-bdcb-48ce-92d1-809db3baaa6e\" class=\"sk-toggleable__label sk-toggleable__label-arrow\">column_transformer: ColumnTransformer</label><div class=\"sk-toggleable__content\"><pre>ColumnTransformer(transformers=[(&#x27;num&#x27;, StandardScaler(), [&#x27;Fare&#x27;]),\n",
       "                                (&#x27;cat&#x27;, OneHotEncoder(handle_unknown=&#x27;ignore&#x27;),\n",
       "                                 [&#x27;Sex&#x27;, &#x27;Pclass&#x27;]),\n",
       "                                (&#x27;embarked&#x27;,\n",
       "                                 Pipeline(steps=[(&#x27;imputer&#x27;,\n",
       "                                                  SimpleImputer(strategy=&#x27;most_frequent&#x27;)),\n",
       "                                                 (&#x27;ohe&#x27;,\n",
       "                                                  OneHotEncoder(handle_unknown=&#x27;ignore&#x27;))]),\n",
       "                                 [&#x27;Embarked&#x27;]),\n",
       "                                (&#x27;age_pipline&#x27;,\n",
       "                                 Pipeline(steps=[(&#x27;impute_age_class&#x27;,\n",
       "                                                  FunctionTransformer(func=&lt;...\n",
       "                                                  FunctionTransformer(func=&lt;function merge_family at 0x7fb8258111f0&gt;,\n",
       "                                                                      kw_args={&#x27;column_1&#x27;: &#x27;SibSp&#x27;,\n",
       "                                                                               &#x27;column_2&#x27;: &#x27;Parch&#x27;})),\n",
       "                                                 (&#x27;ohe&#x27;,\n",
       "                                                  OneHotEncoder(handle_unknown=&#x27;ignore&#x27;))]),\n",
       "                                 [&#x27;SibSp&#x27;, &#x27;Parch&#x27;]),\n",
       "                                (&#x27;title_pipeline&#x27;,\n",
       "                                 Pipeline(steps=[(&#x27;create_family&#x27;,\n",
       "                                                  FunctionTransformer(func=&lt;function extract_title at 0x7fb825811280&gt;,\n",
       "                                                                      kw_args={&#x27;column_1&#x27;: &#x27;Name&#x27;})),\n",
       "                                                 (&#x27;ohe&#x27;,\n",
       "                                                  OneHotEncoder(handle_unknown=&#x27;ignore&#x27;))]),\n",
       "                                 [&#x27;Name&#x27;])])</pre></div></div></div><div class=\"sk-parallel\"><div class=\"sk-parallel-item\"><div class=\"sk-item\"><div class=\"sk-label-container\"><div class=\"sk-label sk-toggleable\"><input class=\"sk-toggleable__control sk-hidden--visually\" id=\"0cac8813-aa9b-4a7c-8e6a-1e30cc33138b\" type=\"checkbox\" ><label for=\"0cac8813-aa9b-4a7c-8e6a-1e30cc33138b\" class=\"sk-toggleable__label sk-toggleable__label-arrow\">num</label><div class=\"sk-toggleable__content\"><pre>[&#x27;Fare&#x27;]</pre></div></div></div><div class=\"sk-serial\"><div class=\"sk-item\"><div class=\"sk-estimator sk-toggleable\"><input class=\"sk-toggleable__control sk-hidden--visually\" id=\"b47fc257-4cf1-48de-90be-2ed8e31a1628\" type=\"checkbox\" ><label for=\"b47fc257-4cf1-48de-90be-2ed8e31a1628\" class=\"sk-toggleable__label sk-toggleable__label-arrow\">StandardScaler</label><div class=\"sk-toggleable__content\"><pre>StandardScaler()</pre></div></div></div></div></div></div><div class=\"sk-parallel-item\"><div class=\"sk-item\"><div class=\"sk-label-container\"><div class=\"sk-label sk-toggleable\"><input class=\"sk-toggleable__control sk-hidden--visually\" id=\"3bce0f26-3cc1-4466-bfed-64f0377efefa\" type=\"checkbox\" ><label for=\"3bce0f26-3cc1-4466-bfed-64f0377efefa\" class=\"sk-toggleable__label sk-toggleable__label-arrow\">cat</label><div class=\"sk-toggleable__content\"><pre>[&#x27;Sex&#x27;, &#x27;Pclass&#x27;]</pre></div></div></div><div class=\"sk-serial\"><div class=\"sk-item\"><div class=\"sk-estimator sk-toggleable\"><input class=\"sk-toggleable__control sk-hidden--visually\" id=\"5c54ec0d-911e-4281-87c1-616eaa52c0e5\" type=\"checkbox\" ><label for=\"5c54ec0d-911e-4281-87c1-616eaa52c0e5\" class=\"sk-toggleable__label sk-toggleable__label-arrow\">OneHotEncoder</label><div class=\"sk-toggleable__content\"><pre>OneHotEncoder(handle_unknown=&#x27;ignore&#x27;)</pre></div></div></div></div></div></div><div class=\"sk-parallel-item\"><div class=\"sk-item\"><div class=\"sk-label-container\"><div class=\"sk-label sk-toggleable\"><input class=\"sk-toggleable__control sk-hidden--visually\" id=\"7f92c8e4-cb2f-45ed-a7df-d51d35b9e764\" type=\"checkbox\" ><label for=\"7f92c8e4-cb2f-45ed-a7df-d51d35b9e764\" class=\"sk-toggleable__label sk-toggleable__label-arrow\">embarked</label><div class=\"sk-toggleable__content\"><pre>[&#x27;Embarked&#x27;]</pre></div></div></div><div class=\"sk-serial\"><div class=\"sk-item\"><div class=\"sk-serial\"><div class=\"sk-item\"><div class=\"sk-estimator sk-toggleable\"><input class=\"sk-toggleable__control sk-hidden--visually\" id=\"f567b634-0cc2-4e39-b4d3-36ae6a294635\" type=\"checkbox\" ><label for=\"f567b634-0cc2-4e39-b4d3-36ae6a294635\" class=\"sk-toggleable__label sk-toggleable__label-arrow\">SimpleImputer</label><div class=\"sk-toggleable__content\"><pre>SimpleImputer(strategy=&#x27;most_frequent&#x27;)</pre></div></div></div><div class=\"sk-item\"><div class=\"sk-estimator sk-toggleable\"><input class=\"sk-toggleable__control sk-hidden--visually\" id=\"8654e927-8d3a-4867-a26f-e3fc55ec0fa7\" type=\"checkbox\" ><label for=\"8654e927-8d3a-4867-a26f-e3fc55ec0fa7\" class=\"sk-toggleable__label sk-toggleable__label-arrow\">OneHotEncoder</label><div class=\"sk-toggleable__content\"><pre>OneHotEncoder(handle_unknown=&#x27;ignore&#x27;)</pre></div></div></div></div></div></div></div></div><div class=\"sk-parallel-item\"><div class=\"sk-item\"><div class=\"sk-label-container\"><div class=\"sk-label sk-toggleable\"><input class=\"sk-toggleable__control sk-hidden--visually\" id=\"d53ddc65-dfaf-44e5-886a-5ddc34ef6db6\" type=\"checkbox\" ><label for=\"d53ddc65-dfaf-44e5-886a-5ddc34ef6db6\" class=\"sk-toggleable__label sk-toggleable__label-arrow\">age_pipline</label><div class=\"sk-toggleable__content\"><pre>[&#x27;Age&#x27;, &#x27;Pclass&#x27;]</pre></div></div></div><div class=\"sk-serial\"><div class=\"sk-item\"><div class=\"sk-serial\"><div class=\"sk-item\"><div class=\"sk-estimator sk-toggleable\"><input class=\"sk-toggleable__control sk-hidden--visually\" id=\"dfc248ad-22a7-481c-adc9-e199e9d3c7a6\" type=\"checkbox\" ><label for=\"dfc248ad-22a7-481c-adc9-e199e9d3c7a6\" class=\"sk-toggleable__label sk-toggleable__label-arrow\">FunctionTransformer</label><div class=\"sk-toggleable__content\"><pre>FunctionTransformer(func=&lt;function impute_age_class at 0x7fb825811040&gt;,\n",
       "                    kw_args={&#x27;column_1&#x27;: &#x27;Age&#x27;, &#x27;column_2&#x27;: &#x27;Pclass&#x27;})</pre></div></div></div><div class=\"sk-item\"><div class=\"sk-estimator sk-toggleable\"><input class=\"sk-toggleable__control sk-hidden--visually\" id=\"d6883fff-112b-4b03-9637-15af34ab56d6\" type=\"checkbox\" ><label for=\"d6883fff-112b-4b03-9637-15af34ab56d6\" class=\"sk-toggleable__label sk-toggleable__label-arrow\">OneHotEncoder</label><div class=\"sk-toggleable__content\"><pre>OneHotEncoder(handle_unknown=&#x27;ignore&#x27;)</pre></div></div></div></div></div></div></div></div><div class=\"sk-parallel-item\"><div class=\"sk-item\"><div class=\"sk-label-container\"><div class=\"sk-label sk-toggleable\"><input class=\"sk-toggleable__control sk-hidden--visually\" id=\"882a78de-c679-4ae5-91fb-3d5bfcbb3658\" type=\"checkbox\" ><label for=\"882a78de-c679-4ae5-91fb-3d5bfcbb3658\" class=\"sk-toggleable__label sk-toggleable__label-arrow\">family_pipeline</label><div class=\"sk-toggleable__content\"><pre>[&#x27;SibSp&#x27;, &#x27;Parch&#x27;]</pre></div></div></div><div class=\"sk-serial\"><div class=\"sk-item\"><div class=\"sk-serial\"><div class=\"sk-item\"><div class=\"sk-estimator sk-toggleable\"><input class=\"sk-toggleable__control sk-hidden--visually\" id=\"90ce6e07-8ca0-42b8-8ff0-d958e931b74a\" type=\"checkbox\" ><label for=\"90ce6e07-8ca0-42b8-8ff0-d958e931b74a\" class=\"sk-toggleable__label sk-toggleable__label-arrow\">FunctionTransformer</label><div class=\"sk-toggleable__content\"><pre>FunctionTransformer(func=&lt;function merge_family at 0x7fb8258111f0&gt;,\n",
       "                    kw_args={&#x27;column_1&#x27;: &#x27;SibSp&#x27;, &#x27;column_2&#x27;: &#x27;Parch&#x27;})</pre></div></div></div><div class=\"sk-item\"><div class=\"sk-estimator sk-toggleable\"><input class=\"sk-toggleable__control sk-hidden--visually\" id=\"a046a9fc-45f4-424f-9cca-3022ebcfe65f\" type=\"checkbox\" ><label for=\"a046a9fc-45f4-424f-9cca-3022ebcfe65f\" class=\"sk-toggleable__label sk-toggleable__label-arrow\">OneHotEncoder</label><div class=\"sk-toggleable__content\"><pre>OneHotEncoder(handle_unknown=&#x27;ignore&#x27;)</pre></div></div></div></div></div></div></div></div><div class=\"sk-parallel-item\"><div class=\"sk-item\"><div class=\"sk-label-container\"><div class=\"sk-label sk-toggleable\"><input class=\"sk-toggleable__control sk-hidden--visually\" id=\"85980e5f-7cb4-48ad-a880-5c293ebd48d1\" type=\"checkbox\" ><label for=\"85980e5f-7cb4-48ad-a880-5c293ebd48d1\" class=\"sk-toggleable__label sk-toggleable__label-arrow\">title_pipeline</label><div class=\"sk-toggleable__content\"><pre>[&#x27;Name&#x27;]</pre></div></div></div><div class=\"sk-serial\"><div class=\"sk-item\"><div class=\"sk-serial\"><div class=\"sk-item\"><div class=\"sk-estimator sk-toggleable\"><input class=\"sk-toggleable__control sk-hidden--visually\" id=\"a467d4fe-9716-4abd-8515-78348097ba9c\" type=\"checkbox\" ><label for=\"a467d4fe-9716-4abd-8515-78348097ba9c\" class=\"sk-toggleable__label sk-toggleable__label-arrow\">FunctionTransformer</label><div class=\"sk-toggleable__content\"><pre>FunctionTransformer(func=&lt;function extract_title at 0x7fb825811280&gt;,\n",
       "                    kw_args={&#x27;column_1&#x27;: &#x27;Name&#x27;})</pre></div></div></div><div class=\"sk-item\"><div class=\"sk-estimator sk-toggleable\"><input class=\"sk-toggleable__control sk-hidden--visually\" id=\"4ea6084d-dcb4-4a03-98b2-37703fcd3d0c\" type=\"checkbox\" ><label for=\"4ea6084d-dcb4-4a03-98b2-37703fcd3d0c\" class=\"sk-toggleable__label sk-toggleable__label-arrow\">OneHotEncoder</label><div class=\"sk-toggleable__content\"><pre>OneHotEncoder(handle_unknown=&#x27;ignore&#x27;)</pre></div></div></div></div></div></div></div></div></div></div><div class=\"sk-item\"><div class=\"sk-estimator sk-toggleable\"><input class=\"sk-toggleable__control sk-hidden--visually\" id=\"aa7af1af-9c81-4c65-b4b9-7f1702219789\" type=\"checkbox\" ><label for=\"aa7af1af-9c81-4c65-b4b9-7f1702219789\" class=\"sk-toggleable__label sk-toggleable__label-arrow\">LogisticRegression</label><div class=\"sk-toggleable__content\"><pre>LogisticRegression(class_weight=&#x27;balanced&#x27;, max_iter=1000)</pre></div></div></div></div></div></div></div>"
      ],
      "text/plain": [
       "Pipeline(steps=[('column_transformer',\n",
       "                 ColumnTransformer(transformers=[('num', StandardScaler(),\n",
       "                                                  ['Fare']),\n",
       "                                                 ('cat',\n",
       "                                                  OneHotEncoder(handle_unknown='ignore'),\n",
       "                                                  ['Sex', 'Pclass']),\n",
       "                                                 ('embarked',\n",
       "                                                  Pipeline(steps=[('imputer',\n",
       "                                                                   SimpleImputer(strategy='most_frequent')),\n",
       "                                                                  ('ohe',\n",
       "                                                                   OneHotEncoder(handle_unknown='ignore'))]),\n",
       "                                                  ['Embarked']),\n",
       "                                                 ('age_pipline',\n",
       "                                                  Pipeline(steps=[('impute...\n",
       "                                                                                                'column_2': 'Parch'})),\n",
       "                                                                  ('ohe',\n",
       "                                                                   OneHotEncoder(handle_unknown='ignore'))]),\n",
       "                                                  ['SibSp', 'Parch']),\n",
       "                                                 ('title_pipeline',\n",
       "                                                  Pipeline(steps=[('create_family',\n",
       "                                                                   FunctionTransformer(func=<function extract_title at 0x7fb825811280>,\n",
       "                                                                                       kw_args={'column_1': 'Name'})),\n",
       "                                                                  ('ohe',\n",
       "                                                                   OneHotEncoder(handle_unknown='ignore'))]),\n",
       "                                                  ['Name'])])),\n",
       "                ('log_reg',\n",
       "                 LogisticRegression(class_weight='balanced', max_iter=1000))])"
      ]
     },
     "execution_count": 13,
     "metadata": {},
     "output_type": "execute_result"
    }
   ],
   "source": [
    "log_reg_pipeline.fit(X_train, y_train)"
   ]
  },
  {
   "cell_type": "code",
   "execution_count": 14,
   "id": "1b410df1",
   "metadata": {},
   "outputs": [
    {
     "name": "stderr",
     "output_type": "stream",
     "text": [
      "/var/folders/tr/90xr4qzn78v1dd60234t4jxr0000gn/T/ipykernel_99178/725775979.py:11: SettingWithCopyWarning: \n",
      "A value is trying to be set on a copy of a slice from a DataFrame\n",
      "\n",
      "See the caveats in the documentation: https://pandas.pydata.org/pandas-docs/stable/user_guide/indexing.html#returning-a-view-versus-a-copy\n",
      "  df[column_1].iloc[i] = 25\n",
      "/var/folders/tr/90xr4qzn78v1dd60234t4jxr0000gn/T/ipykernel_99178/725775979.py:7: SettingWithCopyWarning: \n",
      "A value is trying to be set on a copy of a slice from a DataFrame\n",
      "\n",
      "See the caveats in the documentation: https://pandas.pydata.org/pandas-docs/stable/user_guide/indexing.html#returning-a-view-versus-a-copy\n",
      "  df[column_1].iloc[i] = 38\n",
      "/var/folders/tr/90xr4qzn78v1dd60234t4jxr0000gn/T/ipykernel_99178/725775979.py:9: SettingWithCopyWarning: \n",
      "A value is trying to be set on a copy of a slice from a DataFrame\n",
      "\n",
      "See the caveats in the documentation: https://pandas.pydata.org/pandas-docs/stable/user_guide/indexing.html#returning-a-view-versus-a-copy\n",
      "  df[column_1].iloc[i] = 30\n",
      "/var/folders/tr/90xr4qzn78v1dd60234t4jxr0000gn/T/ipykernel_99178/725775979.py:11: SettingWithCopyWarning: \n",
      "A value is trying to be set on a copy of a slice from a DataFrame\n",
      "\n",
      "See the caveats in the documentation: https://pandas.pydata.org/pandas-docs/stable/user_guide/indexing.html#returning-a-view-versus-a-copy\n",
      "  df[column_1].iloc[i] = 25\n",
      "/var/folders/tr/90xr4qzn78v1dd60234t4jxr0000gn/T/ipykernel_99178/725775979.py:7: SettingWithCopyWarning: \n",
      "A value is trying to be set on a copy of a slice from a DataFrame\n",
      "\n",
      "See the caveats in the documentation: https://pandas.pydata.org/pandas-docs/stable/user_guide/indexing.html#returning-a-view-versus-a-copy\n",
      "  df[column_1].iloc[i] = 38\n",
      "/var/folders/tr/90xr4qzn78v1dd60234t4jxr0000gn/T/ipykernel_99178/725775979.py:9: SettingWithCopyWarning: \n",
      "A value is trying to be set on a copy of a slice from a DataFrame\n",
      "\n",
      "See the caveats in the documentation: https://pandas.pydata.org/pandas-docs/stable/user_guide/indexing.html#returning-a-view-versus-a-copy\n",
      "  df[column_1].iloc[i] = 30\n"
     ]
    },
    {
     "name": "stdout",
     "output_type": "stream",
     "text": [
      "The train accuracy of log_reg_pipeline is: 0.89\n",
      "The test accuracy of log_reg_pipeline is: 0.81\n"
     ]
    }
   ],
   "source": [
    "print(f\"\"\"The train accuracy of log_reg_pipeline is: {round(log_reg_pipeline.score(X_train,y_train),2)}\n",
    "The test accuracy of log_reg_pipeline is: {round(log_reg_pipeline.score(X_test,y_test),2)}\"\"\")"
   ]
  },
  {
   "cell_type": "markdown",
   "id": "a54177d1",
   "metadata": {},
   "source": [
    "### 4.1.2 Evaluating classifiers"
   ]
  },
  {
   "cell_type": "code",
   "execution_count": null,
   "id": "643b842b",
   "metadata": {},
   "outputs": [],
   "source": [
    "from sklearn.metrics import accuracy_score \n",
    "\n",
    "ypred = log_reg_pipeline.predict(X_train)\n",
    "print(f\"Accuracy: {round(accuracy_score(y_train, ypred),2)}\")"
   ]
  },
  {
   "cell_type": "code",
   "execution_count": null,
   "id": "af97de8c",
   "metadata": {},
   "outputs": [],
   "source": [
    "from sklearn.metrics import precision_score, recall_score, f1_score\n",
    "\n",
    "print(f\"\"\"Precision = {round(precision_score(y_train,ypred),2)} \n",
    "Recall = {round(recall_score(y_train,ypred),2)}\n",
    "F1 = {round(f1_score(y_train,ypred),2)}\"\"\")"
   ]
  },
  {
   "cell_type": "code",
   "execution_count": null,
   "id": "7d87cb6b",
   "metadata": {},
   "outputs": [],
   "source": [
    "from sklearn.metrics import confusion_matrix, ConfusionMatrixDisplay\n",
    "from sklearn.metrics import plot_confusion_matrix\n",
    "\n",
    "conf = confusion_matrix(y_train, ypred)\n",
    "conf"
   ]
  },
  {
   "cell_type": "code",
   "execution_count": null,
   "id": "bf5387a2",
   "metadata": {},
   "outputs": [],
   "source": [
    "plot_confusion_matrix(log_reg_pipeline, X_train, y_train, normalize=None)"
   ]
  },
  {
   "cell_type": "code",
   "execution_count": null,
   "id": "b29e3a0b",
   "metadata": {},
   "outputs": [],
   "source": [
    "disp = ConfusionMatrixDisplay(confusion_matrix=conf, display_labels=log_reg_pipeline.classes_)\n",
    "disp.plot()\n",
    "plt.show()"
   ]
  },
  {
   "cell_type": "markdown",
   "id": "03749d92",
   "metadata": {},
   "source": [
    "### 4.2 Random Forest"
   ]
  },
  {
   "cell_type": "code",
   "execution_count": 15,
   "id": "f32c1001",
   "metadata": {},
   "outputs": [],
   "source": [
    "forest_pipeline = Pipeline(steps = \n",
    "                        [('column_transformer', column_transformer),\n",
    "                         ('forest', RandomForestClassifier(n_estimators = 35, max_depth = 3))\n",
    "                        ])"
   ]
  },
  {
   "cell_type": "code",
   "execution_count": 16,
   "id": "8838e5a3",
   "metadata": {},
   "outputs": [
    {
     "name": "stderr",
     "output_type": "stream",
     "text": [
      "/var/folders/tr/90xr4qzn78v1dd60234t4jxr0000gn/T/ipykernel_99178/725775979.py:11: SettingWithCopyWarning: \n",
      "A value is trying to be set on a copy of a slice from a DataFrame\n",
      "\n",
      "See the caveats in the documentation: https://pandas.pydata.org/pandas-docs/stable/user_guide/indexing.html#returning-a-view-versus-a-copy\n",
      "  df[column_1].iloc[i] = 25\n",
      "/var/folders/tr/90xr4qzn78v1dd60234t4jxr0000gn/T/ipykernel_99178/725775979.py:7: SettingWithCopyWarning: \n",
      "A value is trying to be set on a copy of a slice from a DataFrame\n",
      "\n",
      "See the caveats in the documentation: https://pandas.pydata.org/pandas-docs/stable/user_guide/indexing.html#returning-a-view-versus-a-copy\n",
      "  df[column_1].iloc[i] = 38\n",
      "/var/folders/tr/90xr4qzn78v1dd60234t4jxr0000gn/T/ipykernel_99178/725775979.py:9: SettingWithCopyWarning: \n",
      "A value is trying to be set on a copy of a slice from a DataFrame\n",
      "\n",
      "See the caveats in the documentation: https://pandas.pydata.org/pandas-docs/stable/user_guide/indexing.html#returning-a-view-versus-a-copy\n",
      "  df[column_1].iloc[i] = 30\n"
     ]
    },
    {
     "data": {
      "text/html": [
       "<style>#sk-692d9133-08b9-4a1e-91d4-928a7f06d50c {color: black;background-color: white;}#sk-692d9133-08b9-4a1e-91d4-928a7f06d50c pre{padding: 0;}#sk-692d9133-08b9-4a1e-91d4-928a7f06d50c div.sk-toggleable {background-color: white;}#sk-692d9133-08b9-4a1e-91d4-928a7f06d50c label.sk-toggleable__label {cursor: pointer;display: block;width: 100%;margin-bottom: 0;padding: 0.3em;box-sizing: border-box;text-align: center;}#sk-692d9133-08b9-4a1e-91d4-928a7f06d50c label.sk-toggleable__label-arrow:before {content: \"▸\";float: left;margin-right: 0.25em;color: #696969;}#sk-692d9133-08b9-4a1e-91d4-928a7f06d50c label.sk-toggleable__label-arrow:hover:before {color: black;}#sk-692d9133-08b9-4a1e-91d4-928a7f06d50c div.sk-estimator:hover label.sk-toggleable__label-arrow:before {color: black;}#sk-692d9133-08b9-4a1e-91d4-928a7f06d50c div.sk-toggleable__content {max-height: 0;max-width: 0;overflow: hidden;text-align: left;background-color: #f0f8ff;}#sk-692d9133-08b9-4a1e-91d4-928a7f06d50c div.sk-toggleable__content pre {margin: 0.2em;color: black;border-radius: 0.25em;background-color: #f0f8ff;}#sk-692d9133-08b9-4a1e-91d4-928a7f06d50c input.sk-toggleable__control:checked~div.sk-toggleable__content {max-height: 200px;max-width: 100%;overflow: auto;}#sk-692d9133-08b9-4a1e-91d4-928a7f06d50c input.sk-toggleable__control:checked~label.sk-toggleable__label-arrow:before {content: \"▾\";}#sk-692d9133-08b9-4a1e-91d4-928a7f06d50c div.sk-estimator input.sk-toggleable__control:checked~label.sk-toggleable__label {background-color: #d4ebff;}#sk-692d9133-08b9-4a1e-91d4-928a7f06d50c div.sk-label input.sk-toggleable__control:checked~label.sk-toggleable__label {background-color: #d4ebff;}#sk-692d9133-08b9-4a1e-91d4-928a7f06d50c input.sk-hidden--visually {border: 0;clip: rect(1px 1px 1px 1px);clip: rect(1px, 1px, 1px, 1px);height: 1px;margin: -1px;overflow: hidden;padding: 0;position: absolute;width: 1px;}#sk-692d9133-08b9-4a1e-91d4-928a7f06d50c div.sk-estimator {font-family: monospace;background-color: #f0f8ff;border: 1px dotted black;border-radius: 0.25em;box-sizing: border-box;margin-bottom: 0.5em;}#sk-692d9133-08b9-4a1e-91d4-928a7f06d50c div.sk-estimator:hover {background-color: #d4ebff;}#sk-692d9133-08b9-4a1e-91d4-928a7f06d50c div.sk-parallel-item::after {content: \"\";width: 100%;border-bottom: 1px solid gray;flex-grow: 1;}#sk-692d9133-08b9-4a1e-91d4-928a7f06d50c div.sk-label:hover label.sk-toggleable__label {background-color: #d4ebff;}#sk-692d9133-08b9-4a1e-91d4-928a7f06d50c div.sk-serial::before {content: \"\";position: absolute;border-left: 1px solid gray;box-sizing: border-box;top: 2em;bottom: 0;left: 50%;}#sk-692d9133-08b9-4a1e-91d4-928a7f06d50c div.sk-serial {display: flex;flex-direction: column;align-items: center;background-color: white;padding-right: 0.2em;padding-left: 0.2em;}#sk-692d9133-08b9-4a1e-91d4-928a7f06d50c div.sk-item {z-index: 1;}#sk-692d9133-08b9-4a1e-91d4-928a7f06d50c div.sk-parallel {display: flex;align-items: stretch;justify-content: center;background-color: white;}#sk-692d9133-08b9-4a1e-91d4-928a7f06d50c div.sk-parallel::before {content: \"\";position: absolute;border-left: 1px solid gray;box-sizing: border-box;top: 2em;bottom: 0;left: 50%;}#sk-692d9133-08b9-4a1e-91d4-928a7f06d50c div.sk-parallel-item {display: flex;flex-direction: column;position: relative;background-color: white;}#sk-692d9133-08b9-4a1e-91d4-928a7f06d50c div.sk-parallel-item:first-child::after {align-self: flex-end;width: 50%;}#sk-692d9133-08b9-4a1e-91d4-928a7f06d50c div.sk-parallel-item:last-child::after {align-self: flex-start;width: 50%;}#sk-692d9133-08b9-4a1e-91d4-928a7f06d50c div.sk-parallel-item:only-child::after {width: 0;}#sk-692d9133-08b9-4a1e-91d4-928a7f06d50c div.sk-dashed-wrapped {border: 1px dashed gray;margin: 0 0.4em 0.5em 0.4em;box-sizing: border-box;padding-bottom: 0.4em;background-color: white;position: relative;}#sk-692d9133-08b9-4a1e-91d4-928a7f06d50c div.sk-label label {font-family: monospace;font-weight: bold;background-color: white;display: inline-block;line-height: 1.2em;}#sk-692d9133-08b9-4a1e-91d4-928a7f06d50c div.sk-label-container {position: relative;z-index: 2;text-align: center;}#sk-692d9133-08b9-4a1e-91d4-928a7f06d50c div.sk-container {/* jupyter's `normalize.less` sets `[hidden] { display: none; }` but bootstrap.min.css set `[hidden] { display: none !important; }` so we also need the `!important` here to be able to override the default hidden behavior on the sphinx rendered scikit-learn.org. See: https://github.com/scikit-learn/scikit-learn/issues/21755 */display: inline-block !important;position: relative;}#sk-692d9133-08b9-4a1e-91d4-928a7f06d50c div.sk-text-repr-fallback {display: none;}</style><div id=\"sk-692d9133-08b9-4a1e-91d4-928a7f06d50c\" class=\"sk-top-container\"><div class=\"sk-text-repr-fallback\"><pre>Pipeline(steps=[(&#x27;column_transformer&#x27;,\n",
       "                 ColumnTransformer(transformers=[(&#x27;num&#x27;, StandardScaler(),\n",
       "                                                  [&#x27;Fare&#x27;]),\n",
       "                                                 (&#x27;cat&#x27;,\n",
       "                                                  OneHotEncoder(handle_unknown=&#x27;ignore&#x27;),\n",
       "                                                  [&#x27;Sex&#x27;, &#x27;Pclass&#x27;]),\n",
       "                                                 (&#x27;embarked&#x27;,\n",
       "                                                  Pipeline(steps=[(&#x27;imputer&#x27;,\n",
       "                                                                   SimpleImputer(strategy=&#x27;most_frequent&#x27;)),\n",
       "                                                                  (&#x27;ohe&#x27;,\n",
       "                                                                   OneHotEncoder(handle_unknown=&#x27;ignore&#x27;))]),\n",
       "                                                  [&#x27;Embarked&#x27;]),\n",
       "                                                 (&#x27;age_pipline&#x27;,\n",
       "                                                  Pipeline(steps=[(&#x27;impute...\n",
       "                                                                                                &#x27;column_2&#x27;: &#x27;Parch&#x27;})),\n",
       "                                                                  (&#x27;ohe&#x27;,\n",
       "                                                                   OneHotEncoder(handle_unknown=&#x27;ignore&#x27;))]),\n",
       "                                                  [&#x27;SibSp&#x27;, &#x27;Parch&#x27;]),\n",
       "                                                 (&#x27;title_pipeline&#x27;,\n",
       "                                                  Pipeline(steps=[(&#x27;create_family&#x27;,\n",
       "                                                                   FunctionTransformer(func=&lt;function extract_title at 0x7fb825811280&gt;,\n",
       "                                                                                       kw_args={&#x27;column_1&#x27;: &#x27;Name&#x27;})),\n",
       "                                                                  (&#x27;ohe&#x27;,\n",
       "                                                                   OneHotEncoder(handle_unknown=&#x27;ignore&#x27;))]),\n",
       "                                                  [&#x27;Name&#x27;])])),\n",
       "                (&#x27;forest&#x27;,\n",
       "                 RandomForestClassifier(max_depth=3, n_estimators=35))])</pre><b>Please rerun this cell to show the HTML repr or trust the notebook.</b></div><div class=\"sk-container\" hidden><div class=\"sk-item sk-dashed-wrapped\"><div class=\"sk-label-container\"><div class=\"sk-label sk-toggleable\"><input class=\"sk-toggleable__control sk-hidden--visually\" id=\"5aae797c-3613-4a3e-ac9b-b5157df740d1\" type=\"checkbox\" ><label for=\"5aae797c-3613-4a3e-ac9b-b5157df740d1\" class=\"sk-toggleable__label sk-toggleable__label-arrow\">Pipeline</label><div class=\"sk-toggleable__content\"><pre>Pipeline(steps=[(&#x27;column_transformer&#x27;,\n",
       "                 ColumnTransformer(transformers=[(&#x27;num&#x27;, StandardScaler(),\n",
       "                                                  [&#x27;Fare&#x27;]),\n",
       "                                                 (&#x27;cat&#x27;,\n",
       "                                                  OneHotEncoder(handle_unknown=&#x27;ignore&#x27;),\n",
       "                                                  [&#x27;Sex&#x27;, &#x27;Pclass&#x27;]),\n",
       "                                                 (&#x27;embarked&#x27;,\n",
       "                                                  Pipeline(steps=[(&#x27;imputer&#x27;,\n",
       "                                                                   SimpleImputer(strategy=&#x27;most_frequent&#x27;)),\n",
       "                                                                  (&#x27;ohe&#x27;,\n",
       "                                                                   OneHotEncoder(handle_unknown=&#x27;ignore&#x27;))]),\n",
       "                                                  [&#x27;Embarked&#x27;]),\n",
       "                                                 (&#x27;age_pipline&#x27;,\n",
       "                                                  Pipeline(steps=[(&#x27;impute...\n",
       "                                                                                                &#x27;column_2&#x27;: &#x27;Parch&#x27;})),\n",
       "                                                                  (&#x27;ohe&#x27;,\n",
       "                                                                   OneHotEncoder(handle_unknown=&#x27;ignore&#x27;))]),\n",
       "                                                  [&#x27;SibSp&#x27;, &#x27;Parch&#x27;]),\n",
       "                                                 (&#x27;title_pipeline&#x27;,\n",
       "                                                  Pipeline(steps=[(&#x27;create_family&#x27;,\n",
       "                                                                   FunctionTransformer(func=&lt;function extract_title at 0x7fb825811280&gt;,\n",
       "                                                                                       kw_args={&#x27;column_1&#x27;: &#x27;Name&#x27;})),\n",
       "                                                                  (&#x27;ohe&#x27;,\n",
       "                                                                   OneHotEncoder(handle_unknown=&#x27;ignore&#x27;))]),\n",
       "                                                  [&#x27;Name&#x27;])])),\n",
       "                (&#x27;forest&#x27;,\n",
       "                 RandomForestClassifier(max_depth=3, n_estimators=35))])</pre></div></div></div><div class=\"sk-serial\"><div class=\"sk-item sk-dashed-wrapped\"><div class=\"sk-label-container\"><div class=\"sk-label sk-toggleable\"><input class=\"sk-toggleable__control sk-hidden--visually\" id=\"605169bf-022c-467f-87f0-845016b9c19a\" type=\"checkbox\" ><label for=\"605169bf-022c-467f-87f0-845016b9c19a\" class=\"sk-toggleable__label sk-toggleable__label-arrow\">column_transformer: ColumnTransformer</label><div class=\"sk-toggleable__content\"><pre>ColumnTransformer(transformers=[(&#x27;num&#x27;, StandardScaler(), [&#x27;Fare&#x27;]),\n",
       "                                (&#x27;cat&#x27;, OneHotEncoder(handle_unknown=&#x27;ignore&#x27;),\n",
       "                                 [&#x27;Sex&#x27;, &#x27;Pclass&#x27;]),\n",
       "                                (&#x27;embarked&#x27;,\n",
       "                                 Pipeline(steps=[(&#x27;imputer&#x27;,\n",
       "                                                  SimpleImputer(strategy=&#x27;most_frequent&#x27;)),\n",
       "                                                 (&#x27;ohe&#x27;,\n",
       "                                                  OneHotEncoder(handle_unknown=&#x27;ignore&#x27;))]),\n",
       "                                 [&#x27;Embarked&#x27;]),\n",
       "                                (&#x27;age_pipline&#x27;,\n",
       "                                 Pipeline(steps=[(&#x27;impute_age_class&#x27;,\n",
       "                                                  FunctionTransformer(func=&lt;...\n",
       "                                                  FunctionTransformer(func=&lt;function merge_family at 0x7fb8258111f0&gt;,\n",
       "                                                                      kw_args={&#x27;column_1&#x27;: &#x27;SibSp&#x27;,\n",
       "                                                                               &#x27;column_2&#x27;: &#x27;Parch&#x27;})),\n",
       "                                                 (&#x27;ohe&#x27;,\n",
       "                                                  OneHotEncoder(handle_unknown=&#x27;ignore&#x27;))]),\n",
       "                                 [&#x27;SibSp&#x27;, &#x27;Parch&#x27;]),\n",
       "                                (&#x27;title_pipeline&#x27;,\n",
       "                                 Pipeline(steps=[(&#x27;create_family&#x27;,\n",
       "                                                  FunctionTransformer(func=&lt;function extract_title at 0x7fb825811280&gt;,\n",
       "                                                                      kw_args={&#x27;column_1&#x27;: &#x27;Name&#x27;})),\n",
       "                                                 (&#x27;ohe&#x27;,\n",
       "                                                  OneHotEncoder(handle_unknown=&#x27;ignore&#x27;))]),\n",
       "                                 [&#x27;Name&#x27;])])</pre></div></div></div><div class=\"sk-parallel\"><div class=\"sk-parallel-item\"><div class=\"sk-item\"><div class=\"sk-label-container\"><div class=\"sk-label sk-toggleable\"><input class=\"sk-toggleable__control sk-hidden--visually\" id=\"e105508b-a99e-4ccb-8fd1-3c8119baae25\" type=\"checkbox\" ><label for=\"e105508b-a99e-4ccb-8fd1-3c8119baae25\" class=\"sk-toggleable__label sk-toggleable__label-arrow\">num</label><div class=\"sk-toggleable__content\"><pre>[&#x27;Fare&#x27;]</pre></div></div></div><div class=\"sk-serial\"><div class=\"sk-item\"><div class=\"sk-estimator sk-toggleable\"><input class=\"sk-toggleable__control sk-hidden--visually\" id=\"a311ed14-c204-4a17-8e01-1d1f097fcfda\" type=\"checkbox\" ><label for=\"a311ed14-c204-4a17-8e01-1d1f097fcfda\" class=\"sk-toggleable__label sk-toggleable__label-arrow\">StandardScaler</label><div class=\"sk-toggleable__content\"><pre>StandardScaler()</pre></div></div></div></div></div></div><div class=\"sk-parallel-item\"><div class=\"sk-item\"><div class=\"sk-label-container\"><div class=\"sk-label sk-toggleable\"><input class=\"sk-toggleable__control sk-hidden--visually\" id=\"527144d7-770d-494c-9807-74daa824628c\" type=\"checkbox\" ><label for=\"527144d7-770d-494c-9807-74daa824628c\" class=\"sk-toggleable__label sk-toggleable__label-arrow\">cat</label><div class=\"sk-toggleable__content\"><pre>[&#x27;Sex&#x27;, &#x27;Pclass&#x27;]</pre></div></div></div><div class=\"sk-serial\"><div class=\"sk-item\"><div class=\"sk-estimator sk-toggleable\"><input class=\"sk-toggleable__control sk-hidden--visually\" id=\"6ae322c3-5ccc-4446-b4df-b626439b2b4a\" type=\"checkbox\" ><label for=\"6ae322c3-5ccc-4446-b4df-b626439b2b4a\" class=\"sk-toggleable__label sk-toggleable__label-arrow\">OneHotEncoder</label><div class=\"sk-toggleable__content\"><pre>OneHotEncoder(handle_unknown=&#x27;ignore&#x27;)</pre></div></div></div></div></div></div><div class=\"sk-parallel-item\"><div class=\"sk-item\"><div class=\"sk-label-container\"><div class=\"sk-label sk-toggleable\"><input class=\"sk-toggleable__control sk-hidden--visually\" id=\"59784334-a733-4e8d-80bf-04376e9c4697\" type=\"checkbox\" ><label for=\"59784334-a733-4e8d-80bf-04376e9c4697\" class=\"sk-toggleable__label sk-toggleable__label-arrow\">embarked</label><div class=\"sk-toggleable__content\"><pre>[&#x27;Embarked&#x27;]</pre></div></div></div><div class=\"sk-serial\"><div class=\"sk-item\"><div class=\"sk-serial\"><div class=\"sk-item\"><div class=\"sk-estimator sk-toggleable\"><input class=\"sk-toggleable__control sk-hidden--visually\" id=\"f3206268-60cc-4e6f-a677-af39a8dd877c\" type=\"checkbox\" ><label for=\"f3206268-60cc-4e6f-a677-af39a8dd877c\" class=\"sk-toggleable__label sk-toggleable__label-arrow\">SimpleImputer</label><div class=\"sk-toggleable__content\"><pre>SimpleImputer(strategy=&#x27;most_frequent&#x27;)</pre></div></div></div><div class=\"sk-item\"><div class=\"sk-estimator sk-toggleable\"><input class=\"sk-toggleable__control sk-hidden--visually\" id=\"80cdd64a-d23e-4e17-81ec-8f7b41c4be09\" type=\"checkbox\" ><label for=\"80cdd64a-d23e-4e17-81ec-8f7b41c4be09\" class=\"sk-toggleable__label sk-toggleable__label-arrow\">OneHotEncoder</label><div class=\"sk-toggleable__content\"><pre>OneHotEncoder(handle_unknown=&#x27;ignore&#x27;)</pre></div></div></div></div></div></div></div></div><div class=\"sk-parallel-item\"><div class=\"sk-item\"><div class=\"sk-label-container\"><div class=\"sk-label sk-toggleable\"><input class=\"sk-toggleable__control sk-hidden--visually\" id=\"739c5be5-3b6b-4dbe-81c5-ebeacd232415\" type=\"checkbox\" ><label for=\"739c5be5-3b6b-4dbe-81c5-ebeacd232415\" class=\"sk-toggleable__label sk-toggleable__label-arrow\">age_pipline</label><div class=\"sk-toggleable__content\"><pre>[&#x27;Age&#x27;, &#x27;Pclass&#x27;]</pre></div></div></div><div class=\"sk-serial\"><div class=\"sk-item\"><div class=\"sk-serial\"><div class=\"sk-item\"><div class=\"sk-estimator sk-toggleable\"><input class=\"sk-toggleable__control sk-hidden--visually\" id=\"53d77ed9-d60e-4d81-86c0-2d2077ad1a1c\" type=\"checkbox\" ><label for=\"53d77ed9-d60e-4d81-86c0-2d2077ad1a1c\" class=\"sk-toggleable__label sk-toggleable__label-arrow\">FunctionTransformer</label><div class=\"sk-toggleable__content\"><pre>FunctionTransformer(func=&lt;function impute_age_class at 0x7fb825811040&gt;,\n",
       "                    kw_args={&#x27;column_1&#x27;: &#x27;Age&#x27;, &#x27;column_2&#x27;: &#x27;Pclass&#x27;})</pre></div></div></div><div class=\"sk-item\"><div class=\"sk-estimator sk-toggleable\"><input class=\"sk-toggleable__control sk-hidden--visually\" id=\"65aa5556-c4d4-42b3-a862-d2aabc562907\" type=\"checkbox\" ><label for=\"65aa5556-c4d4-42b3-a862-d2aabc562907\" class=\"sk-toggleable__label sk-toggleable__label-arrow\">OneHotEncoder</label><div class=\"sk-toggleable__content\"><pre>OneHotEncoder(handle_unknown=&#x27;ignore&#x27;)</pre></div></div></div></div></div></div></div></div><div class=\"sk-parallel-item\"><div class=\"sk-item\"><div class=\"sk-label-container\"><div class=\"sk-label sk-toggleable\"><input class=\"sk-toggleable__control sk-hidden--visually\" id=\"87b3905a-fce6-4180-93ec-6b7e9c3aa216\" type=\"checkbox\" ><label for=\"87b3905a-fce6-4180-93ec-6b7e9c3aa216\" class=\"sk-toggleable__label sk-toggleable__label-arrow\">family_pipeline</label><div class=\"sk-toggleable__content\"><pre>[&#x27;SibSp&#x27;, &#x27;Parch&#x27;]</pre></div></div></div><div class=\"sk-serial\"><div class=\"sk-item\"><div class=\"sk-serial\"><div class=\"sk-item\"><div class=\"sk-estimator sk-toggleable\"><input class=\"sk-toggleable__control sk-hidden--visually\" id=\"d47bb488-908f-4311-8445-ce4ab2f89c5d\" type=\"checkbox\" ><label for=\"d47bb488-908f-4311-8445-ce4ab2f89c5d\" class=\"sk-toggleable__label sk-toggleable__label-arrow\">FunctionTransformer</label><div class=\"sk-toggleable__content\"><pre>FunctionTransformer(func=&lt;function merge_family at 0x7fb8258111f0&gt;,\n",
       "                    kw_args={&#x27;column_1&#x27;: &#x27;SibSp&#x27;, &#x27;column_2&#x27;: &#x27;Parch&#x27;})</pre></div></div></div><div class=\"sk-item\"><div class=\"sk-estimator sk-toggleable\"><input class=\"sk-toggleable__control sk-hidden--visually\" id=\"44b359a0-b227-42d2-8e14-529ae5ffcf7c\" type=\"checkbox\" ><label for=\"44b359a0-b227-42d2-8e14-529ae5ffcf7c\" class=\"sk-toggleable__label sk-toggleable__label-arrow\">OneHotEncoder</label><div class=\"sk-toggleable__content\"><pre>OneHotEncoder(handle_unknown=&#x27;ignore&#x27;)</pre></div></div></div></div></div></div></div></div><div class=\"sk-parallel-item\"><div class=\"sk-item\"><div class=\"sk-label-container\"><div class=\"sk-label sk-toggleable\"><input class=\"sk-toggleable__control sk-hidden--visually\" id=\"56df36f4-ed88-43d4-aa57-4333ea62e30d\" type=\"checkbox\" ><label for=\"56df36f4-ed88-43d4-aa57-4333ea62e30d\" class=\"sk-toggleable__label sk-toggleable__label-arrow\">title_pipeline</label><div class=\"sk-toggleable__content\"><pre>[&#x27;Name&#x27;]</pre></div></div></div><div class=\"sk-serial\"><div class=\"sk-item\"><div class=\"sk-serial\"><div class=\"sk-item\"><div class=\"sk-estimator sk-toggleable\"><input class=\"sk-toggleable__control sk-hidden--visually\" id=\"d63a243a-d50f-4c81-b996-6953bbb5bbe0\" type=\"checkbox\" ><label for=\"d63a243a-d50f-4c81-b996-6953bbb5bbe0\" class=\"sk-toggleable__label sk-toggleable__label-arrow\">FunctionTransformer</label><div class=\"sk-toggleable__content\"><pre>FunctionTransformer(func=&lt;function extract_title at 0x7fb825811280&gt;,\n",
       "                    kw_args={&#x27;column_1&#x27;: &#x27;Name&#x27;})</pre></div></div></div><div class=\"sk-item\"><div class=\"sk-estimator sk-toggleable\"><input class=\"sk-toggleable__control sk-hidden--visually\" id=\"4c513d07-8e65-45eb-86d4-4028a5b0b17a\" type=\"checkbox\" ><label for=\"4c513d07-8e65-45eb-86d4-4028a5b0b17a\" class=\"sk-toggleable__label sk-toggleable__label-arrow\">OneHotEncoder</label><div class=\"sk-toggleable__content\"><pre>OneHotEncoder(handle_unknown=&#x27;ignore&#x27;)</pre></div></div></div></div></div></div></div></div></div></div><div class=\"sk-item\"><div class=\"sk-estimator sk-toggleable\"><input class=\"sk-toggleable__control sk-hidden--visually\" id=\"52f6be9e-b066-4898-beea-7b34c8cfcf49\" type=\"checkbox\" ><label for=\"52f6be9e-b066-4898-beea-7b34c8cfcf49\" class=\"sk-toggleable__label sk-toggleable__label-arrow\">RandomForestClassifier</label><div class=\"sk-toggleable__content\"><pre>RandomForestClassifier(max_depth=3, n_estimators=35)</pre></div></div></div></div></div></div></div>"
      ],
      "text/plain": [
       "Pipeline(steps=[('column_transformer',\n",
       "                 ColumnTransformer(transformers=[('num', StandardScaler(),\n",
       "                                                  ['Fare']),\n",
       "                                                 ('cat',\n",
       "                                                  OneHotEncoder(handle_unknown='ignore'),\n",
       "                                                  ['Sex', 'Pclass']),\n",
       "                                                 ('embarked',\n",
       "                                                  Pipeline(steps=[('imputer',\n",
       "                                                                   SimpleImputer(strategy='most_frequent')),\n",
       "                                                                  ('ohe',\n",
       "                                                                   OneHotEncoder(handle_unknown='ignore'))]),\n",
       "                                                  ['Embarked']),\n",
       "                                                 ('age_pipline',\n",
       "                                                  Pipeline(steps=[('impute...\n",
       "                                                                                                'column_2': 'Parch'})),\n",
       "                                                                  ('ohe',\n",
       "                                                                   OneHotEncoder(handle_unknown='ignore'))]),\n",
       "                                                  ['SibSp', 'Parch']),\n",
       "                                                 ('title_pipeline',\n",
       "                                                  Pipeline(steps=[('create_family',\n",
       "                                                                   FunctionTransformer(func=<function extract_title at 0x7fb825811280>,\n",
       "                                                                                       kw_args={'column_1': 'Name'})),\n",
       "                                                                  ('ohe',\n",
       "                                                                   OneHotEncoder(handle_unknown='ignore'))]),\n",
       "                                                  ['Name'])])),\n",
       "                ('forest',\n",
       "                 RandomForestClassifier(max_depth=3, n_estimators=35))])"
      ]
     },
     "execution_count": 16,
     "metadata": {},
     "output_type": "execute_result"
    }
   ],
   "source": [
    "forest_pipeline.fit(X_train, y_train)"
   ]
  },
  {
   "cell_type": "code",
   "execution_count": null,
   "id": "2a21bca9",
   "metadata": {},
   "outputs": [],
   "source": [
    "X_train.isna().sum()"
   ]
  },
  {
   "cell_type": "code",
   "execution_count": 17,
   "id": "9e51c32c",
   "metadata": {},
   "outputs": [
    {
     "name": "stderr",
     "output_type": "stream",
     "text": [
      "/var/folders/tr/90xr4qzn78v1dd60234t4jxr0000gn/T/ipykernel_99178/725775979.py:11: SettingWithCopyWarning: \n",
      "A value is trying to be set on a copy of a slice from a DataFrame\n",
      "\n",
      "See the caveats in the documentation: https://pandas.pydata.org/pandas-docs/stable/user_guide/indexing.html#returning-a-view-versus-a-copy\n",
      "  df[column_1].iloc[i] = 25\n",
      "/var/folders/tr/90xr4qzn78v1dd60234t4jxr0000gn/T/ipykernel_99178/725775979.py:7: SettingWithCopyWarning: \n",
      "A value is trying to be set on a copy of a slice from a DataFrame\n",
      "\n",
      "See the caveats in the documentation: https://pandas.pydata.org/pandas-docs/stable/user_guide/indexing.html#returning-a-view-versus-a-copy\n",
      "  df[column_1].iloc[i] = 38\n",
      "/var/folders/tr/90xr4qzn78v1dd60234t4jxr0000gn/T/ipykernel_99178/725775979.py:9: SettingWithCopyWarning: \n",
      "A value is trying to be set on a copy of a slice from a DataFrame\n",
      "\n",
      "See the caveats in the documentation: https://pandas.pydata.org/pandas-docs/stable/user_guide/indexing.html#returning-a-view-versus-a-copy\n",
      "  df[column_1].iloc[i] = 30\n",
      "/var/folders/tr/90xr4qzn78v1dd60234t4jxr0000gn/T/ipykernel_99178/725775979.py:11: SettingWithCopyWarning: \n",
      "A value is trying to be set on a copy of a slice from a DataFrame\n",
      "\n",
      "See the caveats in the documentation: https://pandas.pydata.org/pandas-docs/stable/user_guide/indexing.html#returning-a-view-versus-a-copy\n",
      "  df[column_1].iloc[i] = 25\n",
      "/var/folders/tr/90xr4qzn78v1dd60234t4jxr0000gn/T/ipykernel_99178/725775979.py:7: SettingWithCopyWarning: \n",
      "A value is trying to be set on a copy of a slice from a DataFrame\n",
      "\n",
      "See the caveats in the documentation: https://pandas.pydata.org/pandas-docs/stable/user_guide/indexing.html#returning-a-view-versus-a-copy\n",
      "  df[column_1].iloc[i] = 38\n",
      "/var/folders/tr/90xr4qzn78v1dd60234t4jxr0000gn/T/ipykernel_99178/725775979.py:9: SettingWithCopyWarning: \n",
      "A value is trying to be set on a copy of a slice from a DataFrame\n",
      "\n",
      "See the caveats in the documentation: https://pandas.pydata.org/pandas-docs/stable/user_guide/indexing.html#returning-a-view-versus-a-copy\n",
      "  df[column_1].iloc[i] = 30\n"
     ]
    },
    {
     "name": "stdout",
     "output_type": "stream",
     "text": [
      "The train accuracy of forest_pipeline is: 0.8\n",
      "The test accuracy of forest_pipeline is: 0.8\n"
     ]
    }
   ],
   "source": [
    "print(f\"\"\"The train accuracy of forest_pipeline is: {round(forest_pipeline.score(X_train,y_train),2)}\n",
    "The test accuracy of forest_pipeline is: {round(forest_pipeline.score(X_test,y_test),2)}\"\"\")"
   ]
  },
  {
   "cell_type": "markdown",
   "id": "f6a6e697",
   "metadata": {},
   "source": [
    "### 4.3 Support Vector Model"
   ]
  },
  {
   "cell_type": "code",
   "execution_count": 18,
   "id": "8c7c11a9",
   "metadata": {},
   "outputs": [],
   "source": [
    "svc_pipeline = Pipeline(steps = \n",
    "                        [('column_transformer', column_transformer),\n",
    "                         ('svc', SVC(kernel= \"poly\", C=1))\n",
    "                        ])"
   ]
  },
  {
   "cell_type": "code",
   "execution_count": 19,
   "id": "7e5c9071",
   "metadata": {},
   "outputs": [
    {
     "name": "stderr",
     "output_type": "stream",
     "text": [
      "/var/folders/tr/90xr4qzn78v1dd60234t4jxr0000gn/T/ipykernel_99178/725775979.py:11: SettingWithCopyWarning: \n",
      "A value is trying to be set on a copy of a slice from a DataFrame\n",
      "\n",
      "See the caveats in the documentation: https://pandas.pydata.org/pandas-docs/stable/user_guide/indexing.html#returning-a-view-versus-a-copy\n",
      "  df[column_1].iloc[i] = 25\n",
      "/var/folders/tr/90xr4qzn78v1dd60234t4jxr0000gn/T/ipykernel_99178/725775979.py:7: SettingWithCopyWarning: \n",
      "A value is trying to be set on a copy of a slice from a DataFrame\n",
      "\n",
      "See the caveats in the documentation: https://pandas.pydata.org/pandas-docs/stable/user_guide/indexing.html#returning-a-view-versus-a-copy\n",
      "  df[column_1].iloc[i] = 38\n",
      "/var/folders/tr/90xr4qzn78v1dd60234t4jxr0000gn/T/ipykernel_99178/725775979.py:9: SettingWithCopyWarning: \n",
      "A value is trying to be set on a copy of a slice from a DataFrame\n",
      "\n",
      "See the caveats in the documentation: https://pandas.pydata.org/pandas-docs/stable/user_guide/indexing.html#returning-a-view-versus-a-copy\n",
      "  df[column_1].iloc[i] = 30\n"
     ]
    },
    {
     "data": {
      "text/html": [
       "<style>#sk-ce7ed151-690e-4ffa-aeb6-9324e02b391a {color: black;background-color: white;}#sk-ce7ed151-690e-4ffa-aeb6-9324e02b391a pre{padding: 0;}#sk-ce7ed151-690e-4ffa-aeb6-9324e02b391a div.sk-toggleable {background-color: white;}#sk-ce7ed151-690e-4ffa-aeb6-9324e02b391a label.sk-toggleable__label {cursor: pointer;display: block;width: 100%;margin-bottom: 0;padding: 0.3em;box-sizing: border-box;text-align: center;}#sk-ce7ed151-690e-4ffa-aeb6-9324e02b391a label.sk-toggleable__label-arrow:before {content: \"▸\";float: left;margin-right: 0.25em;color: #696969;}#sk-ce7ed151-690e-4ffa-aeb6-9324e02b391a label.sk-toggleable__label-arrow:hover:before {color: black;}#sk-ce7ed151-690e-4ffa-aeb6-9324e02b391a div.sk-estimator:hover label.sk-toggleable__label-arrow:before {color: black;}#sk-ce7ed151-690e-4ffa-aeb6-9324e02b391a div.sk-toggleable__content {max-height: 0;max-width: 0;overflow: hidden;text-align: left;background-color: #f0f8ff;}#sk-ce7ed151-690e-4ffa-aeb6-9324e02b391a div.sk-toggleable__content pre {margin: 0.2em;color: black;border-radius: 0.25em;background-color: #f0f8ff;}#sk-ce7ed151-690e-4ffa-aeb6-9324e02b391a input.sk-toggleable__control:checked~div.sk-toggleable__content {max-height: 200px;max-width: 100%;overflow: auto;}#sk-ce7ed151-690e-4ffa-aeb6-9324e02b391a input.sk-toggleable__control:checked~label.sk-toggleable__label-arrow:before {content: \"▾\";}#sk-ce7ed151-690e-4ffa-aeb6-9324e02b391a div.sk-estimator input.sk-toggleable__control:checked~label.sk-toggleable__label {background-color: #d4ebff;}#sk-ce7ed151-690e-4ffa-aeb6-9324e02b391a div.sk-label input.sk-toggleable__control:checked~label.sk-toggleable__label {background-color: #d4ebff;}#sk-ce7ed151-690e-4ffa-aeb6-9324e02b391a input.sk-hidden--visually {border: 0;clip: rect(1px 1px 1px 1px);clip: rect(1px, 1px, 1px, 1px);height: 1px;margin: -1px;overflow: hidden;padding: 0;position: absolute;width: 1px;}#sk-ce7ed151-690e-4ffa-aeb6-9324e02b391a div.sk-estimator {font-family: monospace;background-color: #f0f8ff;border: 1px dotted black;border-radius: 0.25em;box-sizing: border-box;margin-bottom: 0.5em;}#sk-ce7ed151-690e-4ffa-aeb6-9324e02b391a div.sk-estimator:hover {background-color: #d4ebff;}#sk-ce7ed151-690e-4ffa-aeb6-9324e02b391a div.sk-parallel-item::after {content: \"\";width: 100%;border-bottom: 1px solid gray;flex-grow: 1;}#sk-ce7ed151-690e-4ffa-aeb6-9324e02b391a div.sk-label:hover label.sk-toggleable__label {background-color: #d4ebff;}#sk-ce7ed151-690e-4ffa-aeb6-9324e02b391a div.sk-serial::before {content: \"\";position: absolute;border-left: 1px solid gray;box-sizing: border-box;top: 2em;bottom: 0;left: 50%;}#sk-ce7ed151-690e-4ffa-aeb6-9324e02b391a div.sk-serial {display: flex;flex-direction: column;align-items: center;background-color: white;padding-right: 0.2em;padding-left: 0.2em;}#sk-ce7ed151-690e-4ffa-aeb6-9324e02b391a div.sk-item {z-index: 1;}#sk-ce7ed151-690e-4ffa-aeb6-9324e02b391a div.sk-parallel {display: flex;align-items: stretch;justify-content: center;background-color: white;}#sk-ce7ed151-690e-4ffa-aeb6-9324e02b391a div.sk-parallel::before {content: \"\";position: absolute;border-left: 1px solid gray;box-sizing: border-box;top: 2em;bottom: 0;left: 50%;}#sk-ce7ed151-690e-4ffa-aeb6-9324e02b391a div.sk-parallel-item {display: flex;flex-direction: column;position: relative;background-color: white;}#sk-ce7ed151-690e-4ffa-aeb6-9324e02b391a div.sk-parallel-item:first-child::after {align-self: flex-end;width: 50%;}#sk-ce7ed151-690e-4ffa-aeb6-9324e02b391a div.sk-parallel-item:last-child::after {align-self: flex-start;width: 50%;}#sk-ce7ed151-690e-4ffa-aeb6-9324e02b391a div.sk-parallel-item:only-child::after {width: 0;}#sk-ce7ed151-690e-4ffa-aeb6-9324e02b391a div.sk-dashed-wrapped {border: 1px dashed gray;margin: 0 0.4em 0.5em 0.4em;box-sizing: border-box;padding-bottom: 0.4em;background-color: white;position: relative;}#sk-ce7ed151-690e-4ffa-aeb6-9324e02b391a div.sk-label label {font-family: monospace;font-weight: bold;background-color: white;display: inline-block;line-height: 1.2em;}#sk-ce7ed151-690e-4ffa-aeb6-9324e02b391a div.sk-label-container {position: relative;z-index: 2;text-align: center;}#sk-ce7ed151-690e-4ffa-aeb6-9324e02b391a div.sk-container {/* jupyter's `normalize.less` sets `[hidden] { display: none; }` but bootstrap.min.css set `[hidden] { display: none !important; }` so we also need the `!important` here to be able to override the default hidden behavior on the sphinx rendered scikit-learn.org. See: https://github.com/scikit-learn/scikit-learn/issues/21755 */display: inline-block !important;position: relative;}#sk-ce7ed151-690e-4ffa-aeb6-9324e02b391a div.sk-text-repr-fallback {display: none;}</style><div id=\"sk-ce7ed151-690e-4ffa-aeb6-9324e02b391a\" class=\"sk-top-container\"><div class=\"sk-text-repr-fallback\"><pre>Pipeline(steps=[(&#x27;column_transformer&#x27;,\n",
       "                 ColumnTransformer(transformers=[(&#x27;num&#x27;, StandardScaler(),\n",
       "                                                  [&#x27;Fare&#x27;]),\n",
       "                                                 (&#x27;cat&#x27;,\n",
       "                                                  OneHotEncoder(handle_unknown=&#x27;ignore&#x27;),\n",
       "                                                  [&#x27;Sex&#x27;, &#x27;Pclass&#x27;]),\n",
       "                                                 (&#x27;embarked&#x27;,\n",
       "                                                  Pipeline(steps=[(&#x27;imputer&#x27;,\n",
       "                                                                   SimpleImputer(strategy=&#x27;most_frequent&#x27;)),\n",
       "                                                                  (&#x27;ohe&#x27;,\n",
       "                                                                   OneHotEncoder(handle_unknown=&#x27;ignore&#x27;))]),\n",
       "                                                  [&#x27;Embarked&#x27;]),\n",
       "                                                 (&#x27;age_pipline&#x27;,\n",
       "                                                  Pipeline(steps=[(&#x27;impute...\n",
       "                                                                                       kw_args={&#x27;column_1&#x27;: &#x27;SibSp&#x27;,\n",
       "                                                                                                &#x27;column_2&#x27;: &#x27;Parch&#x27;})),\n",
       "                                                                  (&#x27;ohe&#x27;,\n",
       "                                                                   OneHotEncoder(handle_unknown=&#x27;ignore&#x27;))]),\n",
       "                                                  [&#x27;SibSp&#x27;, &#x27;Parch&#x27;]),\n",
       "                                                 (&#x27;title_pipeline&#x27;,\n",
       "                                                  Pipeline(steps=[(&#x27;create_family&#x27;,\n",
       "                                                                   FunctionTransformer(func=&lt;function extract_title at 0x7fb825811280&gt;,\n",
       "                                                                                       kw_args={&#x27;column_1&#x27;: &#x27;Name&#x27;})),\n",
       "                                                                  (&#x27;ohe&#x27;,\n",
       "                                                                   OneHotEncoder(handle_unknown=&#x27;ignore&#x27;))]),\n",
       "                                                  [&#x27;Name&#x27;])])),\n",
       "                (&#x27;svc&#x27;, SVC(C=1, kernel=&#x27;poly&#x27;))])</pre><b>Please rerun this cell to show the HTML repr or trust the notebook.</b></div><div class=\"sk-container\" hidden><div class=\"sk-item sk-dashed-wrapped\"><div class=\"sk-label-container\"><div class=\"sk-label sk-toggleable\"><input class=\"sk-toggleable__control sk-hidden--visually\" id=\"16b233bd-2e26-4891-bd18-5d285248bed7\" type=\"checkbox\" ><label for=\"16b233bd-2e26-4891-bd18-5d285248bed7\" class=\"sk-toggleable__label sk-toggleable__label-arrow\">Pipeline</label><div class=\"sk-toggleable__content\"><pre>Pipeline(steps=[(&#x27;column_transformer&#x27;,\n",
       "                 ColumnTransformer(transformers=[(&#x27;num&#x27;, StandardScaler(),\n",
       "                                                  [&#x27;Fare&#x27;]),\n",
       "                                                 (&#x27;cat&#x27;,\n",
       "                                                  OneHotEncoder(handle_unknown=&#x27;ignore&#x27;),\n",
       "                                                  [&#x27;Sex&#x27;, &#x27;Pclass&#x27;]),\n",
       "                                                 (&#x27;embarked&#x27;,\n",
       "                                                  Pipeline(steps=[(&#x27;imputer&#x27;,\n",
       "                                                                   SimpleImputer(strategy=&#x27;most_frequent&#x27;)),\n",
       "                                                                  (&#x27;ohe&#x27;,\n",
       "                                                                   OneHotEncoder(handle_unknown=&#x27;ignore&#x27;))]),\n",
       "                                                  [&#x27;Embarked&#x27;]),\n",
       "                                                 (&#x27;age_pipline&#x27;,\n",
       "                                                  Pipeline(steps=[(&#x27;impute...\n",
       "                                                                                       kw_args={&#x27;column_1&#x27;: &#x27;SibSp&#x27;,\n",
       "                                                                                                &#x27;column_2&#x27;: &#x27;Parch&#x27;})),\n",
       "                                                                  (&#x27;ohe&#x27;,\n",
       "                                                                   OneHotEncoder(handle_unknown=&#x27;ignore&#x27;))]),\n",
       "                                                  [&#x27;SibSp&#x27;, &#x27;Parch&#x27;]),\n",
       "                                                 (&#x27;title_pipeline&#x27;,\n",
       "                                                  Pipeline(steps=[(&#x27;create_family&#x27;,\n",
       "                                                                   FunctionTransformer(func=&lt;function extract_title at 0x7fb825811280&gt;,\n",
       "                                                                                       kw_args={&#x27;column_1&#x27;: &#x27;Name&#x27;})),\n",
       "                                                                  (&#x27;ohe&#x27;,\n",
       "                                                                   OneHotEncoder(handle_unknown=&#x27;ignore&#x27;))]),\n",
       "                                                  [&#x27;Name&#x27;])])),\n",
       "                (&#x27;svc&#x27;, SVC(C=1, kernel=&#x27;poly&#x27;))])</pre></div></div></div><div class=\"sk-serial\"><div class=\"sk-item sk-dashed-wrapped\"><div class=\"sk-label-container\"><div class=\"sk-label sk-toggleable\"><input class=\"sk-toggleable__control sk-hidden--visually\" id=\"73c95ef5-d7e6-44fd-a09b-31b8b8e09047\" type=\"checkbox\" ><label for=\"73c95ef5-d7e6-44fd-a09b-31b8b8e09047\" class=\"sk-toggleable__label sk-toggleable__label-arrow\">column_transformer: ColumnTransformer</label><div class=\"sk-toggleable__content\"><pre>ColumnTransformer(transformers=[(&#x27;num&#x27;, StandardScaler(), [&#x27;Fare&#x27;]),\n",
       "                                (&#x27;cat&#x27;, OneHotEncoder(handle_unknown=&#x27;ignore&#x27;),\n",
       "                                 [&#x27;Sex&#x27;, &#x27;Pclass&#x27;]),\n",
       "                                (&#x27;embarked&#x27;,\n",
       "                                 Pipeline(steps=[(&#x27;imputer&#x27;,\n",
       "                                                  SimpleImputer(strategy=&#x27;most_frequent&#x27;)),\n",
       "                                                 (&#x27;ohe&#x27;,\n",
       "                                                  OneHotEncoder(handle_unknown=&#x27;ignore&#x27;))]),\n",
       "                                 [&#x27;Embarked&#x27;]),\n",
       "                                (&#x27;age_pipline&#x27;,\n",
       "                                 Pipeline(steps=[(&#x27;impute_age_class&#x27;,\n",
       "                                                  FunctionTransformer(func=&lt;...\n",
       "                                                  FunctionTransformer(func=&lt;function merge_family at 0x7fb8258111f0&gt;,\n",
       "                                                                      kw_args={&#x27;column_1&#x27;: &#x27;SibSp&#x27;,\n",
       "                                                                               &#x27;column_2&#x27;: &#x27;Parch&#x27;})),\n",
       "                                                 (&#x27;ohe&#x27;,\n",
       "                                                  OneHotEncoder(handle_unknown=&#x27;ignore&#x27;))]),\n",
       "                                 [&#x27;SibSp&#x27;, &#x27;Parch&#x27;]),\n",
       "                                (&#x27;title_pipeline&#x27;,\n",
       "                                 Pipeline(steps=[(&#x27;create_family&#x27;,\n",
       "                                                  FunctionTransformer(func=&lt;function extract_title at 0x7fb825811280&gt;,\n",
       "                                                                      kw_args={&#x27;column_1&#x27;: &#x27;Name&#x27;})),\n",
       "                                                 (&#x27;ohe&#x27;,\n",
       "                                                  OneHotEncoder(handle_unknown=&#x27;ignore&#x27;))]),\n",
       "                                 [&#x27;Name&#x27;])])</pre></div></div></div><div class=\"sk-parallel\"><div class=\"sk-parallel-item\"><div class=\"sk-item\"><div class=\"sk-label-container\"><div class=\"sk-label sk-toggleable\"><input class=\"sk-toggleable__control sk-hidden--visually\" id=\"627086d7-8130-4818-bbbb-55767b5e74b8\" type=\"checkbox\" ><label for=\"627086d7-8130-4818-bbbb-55767b5e74b8\" class=\"sk-toggleable__label sk-toggleable__label-arrow\">num</label><div class=\"sk-toggleable__content\"><pre>[&#x27;Fare&#x27;]</pre></div></div></div><div class=\"sk-serial\"><div class=\"sk-item\"><div class=\"sk-estimator sk-toggleable\"><input class=\"sk-toggleable__control sk-hidden--visually\" id=\"782b4f69-1f44-446f-b1eb-9cee789ecc90\" type=\"checkbox\" ><label for=\"782b4f69-1f44-446f-b1eb-9cee789ecc90\" class=\"sk-toggleable__label sk-toggleable__label-arrow\">StandardScaler</label><div class=\"sk-toggleable__content\"><pre>StandardScaler()</pre></div></div></div></div></div></div><div class=\"sk-parallel-item\"><div class=\"sk-item\"><div class=\"sk-label-container\"><div class=\"sk-label sk-toggleable\"><input class=\"sk-toggleable__control sk-hidden--visually\" id=\"adc44157-48e7-4d84-ad18-2358307b6c52\" type=\"checkbox\" ><label for=\"adc44157-48e7-4d84-ad18-2358307b6c52\" class=\"sk-toggleable__label sk-toggleable__label-arrow\">cat</label><div class=\"sk-toggleable__content\"><pre>[&#x27;Sex&#x27;, &#x27;Pclass&#x27;]</pre></div></div></div><div class=\"sk-serial\"><div class=\"sk-item\"><div class=\"sk-estimator sk-toggleable\"><input class=\"sk-toggleable__control sk-hidden--visually\" id=\"1cca7ca2-e969-47fb-b81a-6b20c12ce641\" type=\"checkbox\" ><label for=\"1cca7ca2-e969-47fb-b81a-6b20c12ce641\" class=\"sk-toggleable__label sk-toggleable__label-arrow\">OneHotEncoder</label><div class=\"sk-toggleable__content\"><pre>OneHotEncoder(handle_unknown=&#x27;ignore&#x27;)</pre></div></div></div></div></div></div><div class=\"sk-parallel-item\"><div class=\"sk-item\"><div class=\"sk-label-container\"><div class=\"sk-label sk-toggleable\"><input class=\"sk-toggleable__control sk-hidden--visually\" id=\"cd9d9141-83c3-470c-9574-74e0f516e238\" type=\"checkbox\" ><label for=\"cd9d9141-83c3-470c-9574-74e0f516e238\" class=\"sk-toggleable__label sk-toggleable__label-arrow\">embarked</label><div class=\"sk-toggleable__content\"><pre>[&#x27;Embarked&#x27;]</pre></div></div></div><div class=\"sk-serial\"><div class=\"sk-item\"><div class=\"sk-serial\"><div class=\"sk-item\"><div class=\"sk-estimator sk-toggleable\"><input class=\"sk-toggleable__control sk-hidden--visually\" id=\"9dfdceae-a239-482f-bc64-89e99137b0ea\" type=\"checkbox\" ><label for=\"9dfdceae-a239-482f-bc64-89e99137b0ea\" class=\"sk-toggleable__label sk-toggleable__label-arrow\">SimpleImputer</label><div class=\"sk-toggleable__content\"><pre>SimpleImputer(strategy=&#x27;most_frequent&#x27;)</pre></div></div></div><div class=\"sk-item\"><div class=\"sk-estimator sk-toggleable\"><input class=\"sk-toggleable__control sk-hidden--visually\" id=\"f2f3d557-877b-46f6-a73c-dd3b7072e298\" type=\"checkbox\" ><label for=\"f2f3d557-877b-46f6-a73c-dd3b7072e298\" class=\"sk-toggleable__label sk-toggleable__label-arrow\">OneHotEncoder</label><div class=\"sk-toggleable__content\"><pre>OneHotEncoder(handle_unknown=&#x27;ignore&#x27;)</pre></div></div></div></div></div></div></div></div><div class=\"sk-parallel-item\"><div class=\"sk-item\"><div class=\"sk-label-container\"><div class=\"sk-label sk-toggleable\"><input class=\"sk-toggleable__control sk-hidden--visually\" id=\"06440857-7749-4105-9e32-5384a56330ea\" type=\"checkbox\" ><label for=\"06440857-7749-4105-9e32-5384a56330ea\" class=\"sk-toggleable__label sk-toggleable__label-arrow\">age_pipline</label><div class=\"sk-toggleable__content\"><pre>[&#x27;Age&#x27;, &#x27;Pclass&#x27;]</pre></div></div></div><div class=\"sk-serial\"><div class=\"sk-item\"><div class=\"sk-serial\"><div class=\"sk-item\"><div class=\"sk-estimator sk-toggleable\"><input class=\"sk-toggleable__control sk-hidden--visually\" id=\"be62a127-5b96-4170-acdc-d1205f2a509e\" type=\"checkbox\" ><label for=\"be62a127-5b96-4170-acdc-d1205f2a509e\" class=\"sk-toggleable__label sk-toggleable__label-arrow\">FunctionTransformer</label><div class=\"sk-toggleable__content\"><pre>FunctionTransformer(func=&lt;function impute_age_class at 0x7fb825811040&gt;,\n",
       "                    kw_args={&#x27;column_1&#x27;: &#x27;Age&#x27;, &#x27;column_2&#x27;: &#x27;Pclass&#x27;})</pre></div></div></div><div class=\"sk-item\"><div class=\"sk-estimator sk-toggleable\"><input class=\"sk-toggleable__control sk-hidden--visually\" id=\"3e81999f-d3bb-4707-a7e4-8ead1ff8da89\" type=\"checkbox\" ><label for=\"3e81999f-d3bb-4707-a7e4-8ead1ff8da89\" class=\"sk-toggleable__label sk-toggleable__label-arrow\">OneHotEncoder</label><div class=\"sk-toggleable__content\"><pre>OneHotEncoder(handle_unknown=&#x27;ignore&#x27;)</pre></div></div></div></div></div></div></div></div><div class=\"sk-parallel-item\"><div class=\"sk-item\"><div class=\"sk-label-container\"><div class=\"sk-label sk-toggleable\"><input class=\"sk-toggleable__control sk-hidden--visually\" id=\"70b0e2b7-ea6d-4c31-9a78-fbe0b42b83fa\" type=\"checkbox\" ><label for=\"70b0e2b7-ea6d-4c31-9a78-fbe0b42b83fa\" class=\"sk-toggleable__label sk-toggleable__label-arrow\">family_pipeline</label><div class=\"sk-toggleable__content\"><pre>[&#x27;SibSp&#x27;, &#x27;Parch&#x27;]</pre></div></div></div><div class=\"sk-serial\"><div class=\"sk-item\"><div class=\"sk-serial\"><div class=\"sk-item\"><div class=\"sk-estimator sk-toggleable\"><input class=\"sk-toggleable__control sk-hidden--visually\" id=\"35ffa0c6-692c-405b-bf01-0550d83ec96e\" type=\"checkbox\" ><label for=\"35ffa0c6-692c-405b-bf01-0550d83ec96e\" class=\"sk-toggleable__label sk-toggleable__label-arrow\">FunctionTransformer</label><div class=\"sk-toggleable__content\"><pre>FunctionTransformer(func=&lt;function merge_family at 0x7fb8258111f0&gt;,\n",
       "                    kw_args={&#x27;column_1&#x27;: &#x27;SibSp&#x27;, &#x27;column_2&#x27;: &#x27;Parch&#x27;})</pre></div></div></div><div class=\"sk-item\"><div class=\"sk-estimator sk-toggleable\"><input class=\"sk-toggleable__control sk-hidden--visually\" id=\"5488c1f2-e8c0-4086-beab-1f8e369df460\" type=\"checkbox\" ><label for=\"5488c1f2-e8c0-4086-beab-1f8e369df460\" class=\"sk-toggleable__label sk-toggleable__label-arrow\">OneHotEncoder</label><div class=\"sk-toggleable__content\"><pre>OneHotEncoder(handle_unknown=&#x27;ignore&#x27;)</pre></div></div></div></div></div></div></div></div><div class=\"sk-parallel-item\"><div class=\"sk-item\"><div class=\"sk-label-container\"><div class=\"sk-label sk-toggleable\"><input class=\"sk-toggleable__control sk-hidden--visually\" id=\"e807bb44-3cce-4f64-93d9-8da4ad14d64c\" type=\"checkbox\" ><label for=\"e807bb44-3cce-4f64-93d9-8da4ad14d64c\" class=\"sk-toggleable__label sk-toggleable__label-arrow\">title_pipeline</label><div class=\"sk-toggleable__content\"><pre>[&#x27;Name&#x27;]</pre></div></div></div><div class=\"sk-serial\"><div class=\"sk-item\"><div class=\"sk-serial\"><div class=\"sk-item\"><div class=\"sk-estimator sk-toggleable\"><input class=\"sk-toggleable__control sk-hidden--visually\" id=\"a8fc1591-8c63-4f7d-badf-2cba1e99e9e5\" type=\"checkbox\" ><label for=\"a8fc1591-8c63-4f7d-badf-2cba1e99e9e5\" class=\"sk-toggleable__label sk-toggleable__label-arrow\">FunctionTransformer</label><div class=\"sk-toggleable__content\"><pre>FunctionTransformer(func=&lt;function extract_title at 0x7fb825811280&gt;,\n",
       "                    kw_args={&#x27;column_1&#x27;: &#x27;Name&#x27;})</pre></div></div></div><div class=\"sk-item\"><div class=\"sk-estimator sk-toggleable\"><input class=\"sk-toggleable__control sk-hidden--visually\" id=\"08e53da2-4ed7-4d25-89b4-e55e4e1a0334\" type=\"checkbox\" ><label for=\"08e53da2-4ed7-4d25-89b4-e55e4e1a0334\" class=\"sk-toggleable__label sk-toggleable__label-arrow\">OneHotEncoder</label><div class=\"sk-toggleable__content\"><pre>OneHotEncoder(handle_unknown=&#x27;ignore&#x27;)</pre></div></div></div></div></div></div></div></div></div></div><div class=\"sk-item\"><div class=\"sk-estimator sk-toggleable\"><input class=\"sk-toggleable__control sk-hidden--visually\" id=\"65b382af-55d6-467e-a5a0-5f69bf9bbbd3\" type=\"checkbox\" ><label for=\"65b382af-55d6-467e-a5a0-5f69bf9bbbd3\" class=\"sk-toggleable__label sk-toggleable__label-arrow\">SVC</label><div class=\"sk-toggleable__content\"><pre>SVC(C=1, kernel=&#x27;poly&#x27;)</pre></div></div></div></div></div></div></div>"
      ],
      "text/plain": [
       "Pipeline(steps=[('column_transformer',\n",
       "                 ColumnTransformer(transformers=[('num', StandardScaler(),\n",
       "                                                  ['Fare']),\n",
       "                                                 ('cat',\n",
       "                                                  OneHotEncoder(handle_unknown='ignore'),\n",
       "                                                  ['Sex', 'Pclass']),\n",
       "                                                 ('embarked',\n",
       "                                                  Pipeline(steps=[('imputer',\n",
       "                                                                   SimpleImputer(strategy='most_frequent')),\n",
       "                                                                  ('ohe',\n",
       "                                                                   OneHotEncoder(handle_unknown='ignore'))]),\n",
       "                                                  ['Embarked']),\n",
       "                                                 ('age_pipline',\n",
       "                                                  Pipeline(steps=[('impute...\n",
       "                                                                                       kw_args={'column_1': 'SibSp',\n",
       "                                                                                                'column_2': 'Parch'})),\n",
       "                                                                  ('ohe',\n",
       "                                                                   OneHotEncoder(handle_unknown='ignore'))]),\n",
       "                                                  ['SibSp', 'Parch']),\n",
       "                                                 ('title_pipeline',\n",
       "                                                  Pipeline(steps=[('create_family',\n",
       "                                                                   FunctionTransformer(func=<function extract_title at 0x7fb825811280>,\n",
       "                                                                                       kw_args={'column_1': 'Name'})),\n",
       "                                                                  ('ohe',\n",
       "                                                                   OneHotEncoder(handle_unknown='ignore'))]),\n",
       "                                                  ['Name'])])),\n",
       "                ('svc', SVC(C=1, kernel='poly'))])"
      ]
     },
     "execution_count": 19,
     "metadata": {},
     "output_type": "execute_result"
    }
   ],
   "source": [
    "svc_pipeline.fit(X_train, y_train)"
   ]
  },
  {
   "cell_type": "code",
   "execution_count": 20,
   "id": "94f9dbc5",
   "metadata": {},
   "outputs": [
    {
     "name": "stderr",
     "output_type": "stream",
     "text": [
      "/var/folders/tr/90xr4qzn78v1dd60234t4jxr0000gn/T/ipykernel_99178/725775979.py:11: SettingWithCopyWarning: \n",
      "A value is trying to be set on a copy of a slice from a DataFrame\n",
      "\n",
      "See the caveats in the documentation: https://pandas.pydata.org/pandas-docs/stable/user_guide/indexing.html#returning-a-view-versus-a-copy\n",
      "  df[column_1].iloc[i] = 25\n",
      "/var/folders/tr/90xr4qzn78v1dd60234t4jxr0000gn/T/ipykernel_99178/725775979.py:7: SettingWithCopyWarning: \n",
      "A value is trying to be set on a copy of a slice from a DataFrame\n",
      "\n",
      "See the caveats in the documentation: https://pandas.pydata.org/pandas-docs/stable/user_guide/indexing.html#returning-a-view-versus-a-copy\n",
      "  df[column_1].iloc[i] = 38\n",
      "/var/folders/tr/90xr4qzn78v1dd60234t4jxr0000gn/T/ipykernel_99178/725775979.py:9: SettingWithCopyWarning: \n",
      "A value is trying to be set on a copy of a slice from a DataFrame\n",
      "\n",
      "See the caveats in the documentation: https://pandas.pydata.org/pandas-docs/stable/user_guide/indexing.html#returning-a-view-versus-a-copy\n",
      "  df[column_1].iloc[i] = 30\n",
      "/var/folders/tr/90xr4qzn78v1dd60234t4jxr0000gn/T/ipykernel_99178/725775979.py:11: SettingWithCopyWarning: \n",
      "A value is trying to be set on a copy of a slice from a DataFrame\n",
      "\n",
      "See the caveats in the documentation: https://pandas.pydata.org/pandas-docs/stable/user_guide/indexing.html#returning-a-view-versus-a-copy\n",
      "  df[column_1].iloc[i] = 25\n",
      "/var/folders/tr/90xr4qzn78v1dd60234t4jxr0000gn/T/ipykernel_99178/725775979.py:7: SettingWithCopyWarning: \n",
      "A value is trying to be set on a copy of a slice from a DataFrame\n",
      "\n",
      "See the caveats in the documentation: https://pandas.pydata.org/pandas-docs/stable/user_guide/indexing.html#returning-a-view-versus-a-copy\n",
      "  df[column_1].iloc[i] = 38\n",
      "/var/folders/tr/90xr4qzn78v1dd60234t4jxr0000gn/T/ipykernel_99178/725775979.py:9: SettingWithCopyWarning: \n",
      "A value is trying to be set on a copy of a slice from a DataFrame\n",
      "\n",
      "See the caveats in the documentation: https://pandas.pydata.org/pandas-docs/stable/user_guide/indexing.html#returning-a-view-versus-a-copy\n",
      "  df[column_1].iloc[i] = 30\n"
     ]
    },
    {
     "name": "stdout",
     "output_type": "stream",
     "text": [
      "The train accuracy of svc_pipeline is: 0.87\n",
      "The test accuracy of svc_pipeline is: 0.82\n"
     ]
    }
   ],
   "source": [
    "print(f\"\"\"The train accuracy of svc_pipeline is: {round(svc_pipeline.score(X_train,y_train),2)}\n",
    "The test accuracy of svc_pipeline is: {round(svc_pipeline.score(X_test,y_test),2)}\"\"\")"
   ]
  },
  {
   "cell_type": "code",
   "execution_count": null,
   "id": "f077f8c0",
   "metadata": {},
   "outputs": [],
   "source": [
    "predictions = svc_pipeline.predict(X_test)"
   ]
  },
  {
   "cell_type": "code",
   "execution_count": null,
   "id": "60c2fb27",
   "metadata": {},
   "outputs": [],
   "source": [
    "predictions"
   ]
  },
  {
   "cell_type": "code",
   "execution_count": null,
   "id": "16c180bb",
   "metadata": {},
   "outputs": [],
   "source": []
  }
 ],
 "metadata": {
  "kernelspec": {
   "display_name": "Python 3 (ipykernel)",
   "language": "python",
   "name": "python3"
  },
  "language_info": {
   "codemirror_mode": {
    "name": "ipython",
    "version": 3
   },
   "file_extension": ".py",
   "mimetype": "text/x-python",
   "name": "python",
   "nbconvert_exporter": "python",
   "pygments_lexer": "ipython3",
   "version": "3.9.12"
  }
 },
 "nbformat": 4,
 "nbformat_minor": 5
}
