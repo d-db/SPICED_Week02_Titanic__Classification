{
 "cells": [
  {
   "cell_type": "markdown",
   "id": "15652e46",
   "metadata": {},
   "source": [
    "## Introduction to this notebook"
   ]
  },
  {
   "cell_type": "markdown",
   "id": "58d78b1a",
   "metadata": {},
   "source": [
    "After todays lession about 'Feature Engeneering' using 'ColumnTransformer()' and 'Pipline()' I would like to achive similar accuracy results like in the 3_WP notebook by using these functions in shorter time and with more concise code."
   ]
  },
  {
   "cell_type": "markdown",
   "id": "3b935d90",
   "metadata": {},
   "source": [
    "## 1. Load data and some basic EDA"
   ]
  },
  {
   "cell_type": "code",
   "execution_count": 1,
   "id": "21477daa",
   "metadata": {},
   "outputs": [],
   "source": [
    "import pandas as pd\n",
    "import matplotlib.pyplot as plt\n",
    "import seaborn as sns\n",
    "import numpy as np\n",
    "import math\n",
    "\n",
    "# models\n",
    "from sklearn.linear_model import LogisticRegression\n",
    "from sklearn.ensemble import RandomForestClassifier\n",
    "from sklearn.svm import SVC\n",
    "\n",
    "from sklearn.model_selection import train_test_split\n",
    "\n",
    "# new utils\n",
    "from sklearn.impute import SimpleImputer\n",
    "from sklearn.preprocessing import OneHotEncoder, KBinsDiscretizer\n",
    "from sklearn.preprocessing import RobustScaler, StandardScaler\n",
    "from sklearn.preprocessing import FunctionTransformer\n",
    "from sklearn.compose import ColumnTransformer\n",
    "from sklearn.pipeline import Pipeline\n",
    "from sklearn import set_config\n",
    "\n",
    "# to visualize the column transformer and pipeline\n",
    "set_config(display='diagram')"
   ]
  },
  {
   "cell_type": "code",
   "execution_count": 2,
   "id": "08867d26",
   "metadata": {},
   "outputs": [],
   "source": [
    "df = pd.read_csv(\"./data/Titanic/train.csv\")"
   ]
  },
  {
   "cell_type": "code",
   "execution_count": 3,
   "id": "d50a7ce2",
   "metadata": {},
   "outputs": [
    {
     "data": {
      "text/html": [
       "<div>\n",
       "<style scoped>\n",
       "    .dataframe tbody tr th:only-of-type {\n",
       "        vertical-align: middle;\n",
       "    }\n",
       "\n",
       "    .dataframe tbody tr th {\n",
       "        vertical-align: top;\n",
       "    }\n",
       "\n",
       "    .dataframe thead th {\n",
       "        text-align: right;\n",
       "    }\n",
       "</style>\n",
       "<table border=\"1\" class=\"dataframe\">\n",
       "  <thead>\n",
       "    <tr style=\"text-align: right;\">\n",
       "      <th></th>\n",
       "      <th>PassengerId</th>\n",
       "      <th>Survived</th>\n",
       "      <th>Pclass</th>\n",
       "      <th>Name</th>\n",
       "      <th>Sex</th>\n",
       "      <th>Age</th>\n",
       "      <th>SibSp</th>\n",
       "      <th>Parch</th>\n",
       "      <th>Ticket</th>\n",
       "      <th>Fare</th>\n",
       "      <th>Cabin</th>\n",
       "      <th>Embarked</th>\n",
       "    </tr>\n",
       "  </thead>\n",
       "  <tbody>\n",
       "    <tr>\n",
       "      <th>0</th>\n",
       "      <td>1</td>\n",
       "      <td>0</td>\n",
       "      <td>3</td>\n",
       "      <td>Braund, Mr. Owen Harris</td>\n",
       "      <td>male</td>\n",
       "      <td>22.0</td>\n",
       "      <td>1</td>\n",
       "      <td>0</td>\n",
       "      <td>A/5 21171</td>\n",
       "      <td>7.2500</td>\n",
       "      <td>NaN</td>\n",
       "      <td>S</td>\n",
       "    </tr>\n",
       "    <tr>\n",
       "      <th>1</th>\n",
       "      <td>2</td>\n",
       "      <td>1</td>\n",
       "      <td>1</td>\n",
       "      <td>Cumings, Mrs. John Bradley (Florence Briggs Th...</td>\n",
       "      <td>female</td>\n",
       "      <td>38.0</td>\n",
       "      <td>1</td>\n",
       "      <td>0</td>\n",
       "      <td>PC 17599</td>\n",
       "      <td>71.2833</td>\n",
       "      <td>C85</td>\n",
       "      <td>C</td>\n",
       "    </tr>\n",
       "    <tr>\n",
       "      <th>2</th>\n",
       "      <td>3</td>\n",
       "      <td>1</td>\n",
       "      <td>3</td>\n",
       "      <td>Heikkinen, Miss. Laina</td>\n",
       "      <td>female</td>\n",
       "      <td>26.0</td>\n",
       "      <td>0</td>\n",
       "      <td>0</td>\n",
       "      <td>STON/O2. 3101282</td>\n",
       "      <td>7.9250</td>\n",
       "      <td>NaN</td>\n",
       "      <td>S</td>\n",
       "    </tr>\n",
       "    <tr>\n",
       "      <th>3</th>\n",
       "      <td>4</td>\n",
       "      <td>1</td>\n",
       "      <td>1</td>\n",
       "      <td>Futrelle, Mrs. Jacques Heath (Lily May Peel)</td>\n",
       "      <td>female</td>\n",
       "      <td>35.0</td>\n",
       "      <td>1</td>\n",
       "      <td>0</td>\n",
       "      <td>113803</td>\n",
       "      <td>53.1000</td>\n",
       "      <td>C123</td>\n",
       "      <td>S</td>\n",
       "    </tr>\n",
       "    <tr>\n",
       "      <th>4</th>\n",
       "      <td>5</td>\n",
       "      <td>0</td>\n",
       "      <td>3</td>\n",
       "      <td>Allen, Mr. William Henry</td>\n",
       "      <td>male</td>\n",
       "      <td>35.0</td>\n",
       "      <td>0</td>\n",
       "      <td>0</td>\n",
       "      <td>373450</td>\n",
       "      <td>8.0500</td>\n",
       "      <td>NaN</td>\n",
       "      <td>S</td>\n",
       "    </tr>\n",
       "  </tbody>\n",
       "</table>\n",
       "</div>"
      ],
      "text/plain": [
       "   PassengerId  Survived  Pclass  \\\n",
       "0            1         0       3   \n",
       "1            2         1       1   \n",
       "2            3         1       3   \n",
       "3            4         1       1   \n",
       "4            5         0       3   \n",
       "\n",
       "                                                Name     Sex   Age  SibSp  \\\n",
       "0                            Braund, Mr. Owen Harris    male  22.0      1   \n",
       "1  Cumings, Mrs. John Bradley (Florence Briggs Th...  female  38.0      1   \n",
       "2                             Heikkinen, Miss. Laina  female  26.0      0   \n",
       "3       Futrelle, Mrs. Jacques Heath (Lily May Peel)  female  35.0      1   \n",
       "4                           Allen, Mr. William Henry    male  35.0      0   \n",
       "\n",
       "   Parch            Ticket     Fare Cabin Embarked  \n",
       "0      0         A/5 21171   7.2500   NaN        S  \n",
       "1      0          PC 17599  71.2833   C85        C  \n",
       "2      0  STON/O2. 3101282   7.9250   NaN        S  \n",
       "3      0            113803  53.1000  C123        S  \n",
       "4      0            373450   8.0500   NaN        S  "
      ]
     },
     "execution_count": 3,
     "metadata": {},
     "output_type": "execute_result"
    }
   ],
   "source": [
    "df.head()"
   ]
  },
  {
   "cell_type": "code",
   "execution_count": 4,
   "id": "15d523a7",
   "metadata": {},
   "outputs": [
    {
     "name": "stdout",
     "output_type": "stream",
     "text": [
      "<class 'pandas.core.frame.DataFrame'>\n",
      "RangeIndex: 891 entries, 0 to 890\n",
      "Data columns (total 12 columns):\n",
      " #   Column       Non-Null Count  Dtype  \n",
      "---  ------       --------------  -----  \n",
      " 0   PassengerId  891 non-null    int64  \n",
      " 1   Survived     891 non-null    int64  \n",
      " 2   Pclass       891 non-null    int64  \n",
      " 3   Name         891 non-null    object \n",
      " 4   Sex          891 non-null    object \n",
      " 5   Age          714 non-null    float64\n",
      " 6   SibSp        891 non-null    int64  \n",
      " 7   Parch        891 non-null    int64  \n",
      " 8   Ticket       891 non-null    object \n",
      " 9   Fare         891 non-null    float64\n",
      " 10  Cabin        204 non-null    object \n",
      " 11  Embarked     889 non-null    object \n",
      "dtypes: float64(2), int64(5), object(5)\n",
      "memory usage: 83.7+ KB\n"
     ]
    }
   ],
   "source": [
    "df.info()"
   ]
  },
  {
   "cell_type": "code",
   "execution_count": 5,
   "id": "4d2cf151",
   "metadata": {},
   "outputs": [
    {
     "data": {
      "image/png": "[encoded data removed]",
      "text/plain": [
       "<Figure size 432x288 with 2 Axes>"
      ]
     },
     "metadata": {
      "needs_background": "light"
     },
     "output_type": "display_data"
    }
   ],
   "source": [
    "sns.heatmap(df.isna());"
   ]
  },
  {
   "cell_type": "markdown",
   "id": "5da22e39",
   "metadata": {},
   "source": [
    "## 2. Feature Engineering outside of scikit-learn"
   ]
  },
  {
   "cell_type": "code",
   "execution_count": 6,
   "id": "ad42e127",
   "metadata": {},
   "outputs": [],
   "source": [
    "# Fill the 177 NaNs in the \"Age\" column depending on the \"Survived and \"Pclass\"\n",
    "\n",
    "df['Age'].fillna(df.groupby(['Survived','Pclass'])['Age'].transform('mean').round(0), inplace=True)"
   ]
  },
  {
   "cell_type": "code",
   "execution_count": null,
   "id": "8e442acb",
   "metadata": {},
   "outputs": [],
   "source": [
    "df.groupby(['Survived','Pclass'])['Age'].transform('mean')"
   ]
  },
  {
   "cell_type": "code",
   "execution_count": 7,
   "id": "43d7290f",
   "metadata": {},
   "outputs": [],
   "source": [
    "# Merge the columns parent/children and sibling/spouse together, create a new column \"Family\" and bin the values\n",
    "\n",
    "df[\"Family\"] = df[\"SibSp\"] + df[\"Parch\"]"
   ]
  },
  {
   "cell_type": "code",
   "execution_count": 8,
   "id": "5f41b77e",
   "metadata": {},
   "outputs": [],
   "source": [
    "# Extract the title from \"Name\" and create a new column\n",
    "\n",
    "df[\"Title\"] = df[\"Name\"].map(lambda name:name.split(',')[1].split(\".\")[0].strip())"
   ]
  },
  {
   "cell_type": "code",
   "execution_count": null,
   "id": "b9e13009",
   "metadata": {},
   "outputs": [],
   "source": [
    "df.isnull().sum()"
   ]
  },
  {
   "cell_type": "markdown",
   "id": "302a5a1b",
   "metadata": {},
   "source": [
    "## 3. Train-Test Split"
   ]
  },
  {
   "cell_type": "code",
   "execution_count": 9,
   "id": "3faf62e0",
   "metadata": {},
   "outputs": [],
   "source": [
    "y = df[\"Survived\"]\n",
    "X = df.loc[:, df.columns != \"Survived\"]"
   ]
  },
  {
   "cell_type": "code",
   "execution_count": 10,
   "id": "4b0b6513",
   "metadata": {},
   "outputs": [
    {
     "data": {
      "text/plain": [
       "((712, 13), (179, 13), (712,), (179,))"
      ]
     },
     "execution_count": 10,
     "metadata": {},
     "output_type": "execute_result"
    }
   ],
   "source": [
    "X_train, X_test, y_train, y_test = train_test_split(X, y, test_size = .2, random_state = 85)\n",
    "X_train.shape, X_test.shape, y_train.shape, y_test.shape"
   ]
  },
  {
   "cell_type": "code",
   "execution_count": null,
   "id": "1b9aa0e6",
   "metadata": {},
   "outputs": [],
   "source": [
    "X.head()"
   ]
  },
  {
   "cell_type": "markdown",
   "id": "a41e6831",
   "metadata": {},
   "source": [
    "## 3. Define ColumnTransformers"
   ]
  },
  {
   "cell_type": "markdown",
   "id": "16cd9def",
   "metadata": {},
   "source": [
    "### 3.1 Problem: How to use the simple Python Functions with the FunctionTransformer()"
   ]
  },
  {
   "cell_type": "code",
   "execution_count": 11,
   "id": "30a94fd5",
   "metadata": {},
   "outputs": [],
   "source": [
    "# If i is np.isnan() check class and replace with median age of the class\n",
    "\n",
    "def impute_age_class(df):\n",
    "    return df[\"Age\"].fillna(df.groupby([\"Survived\", \"Pclass\"])[\"Age\"].transform('mean'))\n",
    "\n",
    "age_pipeline = Pipeline(steps = \n",
    "                         [(\"impute_age_class\", FunctionTransformer(impute_age_class)),\n",
    "                          (\"binning\", KBinsDiscretizer())\n",
    "])\n",
    "\n",
    "transformers = [('age_pipeline', FunctionTransformer(impute_age_class), [\"Pclass\", \"Age\"])]"
   ]
  },
  {
   "cell_type": "code",
   "execution_count": null,
   "id": "f5a877b4",
   "metadata": {},
   "outputs": [],
   "source": [
    "# Merge the columns parent/children and sibling/spouse together, create a new column \"Family\" and bin the values\n",
    "\n",
    "def merge_family(df):\n",
    "    return df[\"Family\"] = df[\"SibSp\"] + df[\"Parch\"] #Invalid Syntax\n",
    "\n",
    "family_pipeline = Pipeline(steps = \n",
    "                         [(\"merge_family\", FunctionTransformer(merge_family)),\n",
    "                          (\"binning\", KBinsDiscretizer())\n",
    "])\n",
    "\n",
    "transformers = [('family_pipeline', age_pipeline, [\"SibSp\", \"Parch\"])]"
   ]
  },
  {
   "cell_type": "code",
   "execution_count": null,
   "id": "ae7cae13",
   "metadata": {},
   "outputs": [],
   "source": [
    "# Extract the title from \"Name\" and create a new column \n",
    "\n",
    "def extract_title(df):\n",
    "    return df[\"Title\"] = df[\"Name\"].map(lambda name:name.split(',')[1].split(\".\")[0].strip()) #Invalid Syntax\n",
    "\n",
    "title_pipeline = Pipeline(steps = \n",
    "                         [(\"extract_title\", FunctionTransformer(extract_title)),\n",
    "                          (\"binning\", KBinsDiscretizer())\n",
    "])\n",
    "\n",
    "transformers = [('title_pipeline', age_pipeline, [\"Title\"])]"
   ]
  },
  {
   "cell_type": "markdown",
   "id": "5dcad847",
   "metadata": {},
   "source": [
    "### 3.2 Function for the FunctionTransformer() from SPICED"
   ]
  },
  {
   "cell_type": "code",
   "execution_count": null,
   "id": "3ec6247e",
   "metadata": {},
   "outputs": [],
   "source": [
    "# Function from SPICED in order to calculate the length of the name\n",
    "\n",
    "def name_length(df):\n",
    "    length = df[df.columns[0]].str.len()\n",
    "    return length.values.reshape(-1, 1)"
   ]
  },
  {
   "cell_type": "markdown",
   "id": "8f10c0d3",
   "metadata": {},
   "source": [
    "### 3.3 Use standard functions for Pipeline()"
   ]
  },
  {
   "cell_type": "code",
   "execution_count": 12,
   "id": "789c2e13",
   "metadata": {},
   "outputs": [],
   "source": [
    "numeric_features = [\"Age\", \"Fare\"]\n",
    "numeric_transformer = StandardScaler()\n",
    "\n",
    "categorical_features = [\"Sex\", \"Pclass\", \"Family\", \"Title\"]\n",
    "categorical_transformer = OneHotEncoder(handle_unknown=\"ignore\")\n",
    "\n",
    "embarked_transformer = Pipeline(\n",
    "    steps=[(\"imputer\", SimpleImputer(strategy=\"most_frequent\")), (\"ohe\", OneHotEncoder(handle_unknown=\"ignore\"))]\n",
    ")\n",
    "\n",
    "#name_transformer = FunctionTransformer(name_length)"
   ]
  },
  {
   "cell_type": "code",
   "execution_count": 13,
   "id": "bed60eb5",
   "metadata": {},
   "outputs": [],
   "source": [
    "# Define the preprocessor\n",
    "\n",
    "preprocessor = [\n",
    "        (\"num\", numeric_transformer, numeric_features),\n",
    "        (\"cat\", categorical_transformer, categorical_features),\n",
    "        (\"embarked\", embarked_transformer, [\"Embarked\"])\n",
    "        #(\"name_length\", name_transformer, [\"Name\"])\n",
    "    ]"
   ]
  },
  {
   "cell_type": "code",
   "execution_count": 14,
   "id": "4c208111",
   "metadata": {},
   "outputs": [],
   "source": [
    "column_transformer = ColumnTransformer(preprocessor,\n",
    "                                        remainder = 'drop')"
   ]
  },
  {
   "cell_type": "code",
   "execution_count": 15,
   "id": "acc89cdf",
   "metadata": {},
   "outputs": [
    {
     "data": {
      "text/html": [
       "<style>#sk-5f11fee4-f1d1-4a3c-95a8-f04e44548fa6 {color: black;background-color: white;}#sk-5f11fee4-f1d1-4a3c-95a8-f04e44548fa6 pre{padding: 0;}#sk-5f11fee4-f1d1-4a3c-95a8-f04e44548fa6 div.sk-toggleable {background-color: white;}#sk-5f11fee4-f1d1-4a3c-95a8-f04e44548fa6 label.sk-toggleable__label {cursor: pointer;display: block;width: 100%;margin-bottom: 0;padding: 0.3em;box-sizing: border-box;text-align: center;}#sk-5f11fee4-f1d1-4a3c-95a8-f04e44548fa6 label.sk-toggleable__label-arrow:before {content: \"▸\";float: left;margin-right: 0.25em;color: #696969;}#sk-5f11fee4-f1d1-4a3c-95a8-f04e44548fa6 label.sk-toggleable__label-arrow:hover:before {color: black;}#sk-5f11fee4-f1d1-4a3c-95a8-f04e44548fa6 div.sk-estimator:hover label.sk-toggleable__label-arrow:before {color: black;}#sk-5f11fee4-f1d1-4a3c-95a8-f04e44548fa6 div.sk-toggleable__content {max-height: 0;max-width: 0;overflow: hidden;text-align: left;background-color: #f0f8ff;}#sk-5f11fee4-f1d1-4a3c-95a8-f04e44548fa6 div.sk-toggleable__content pre {margin: 0.2em;color: black;border-radius: 0.25em;background-color: #f0f8ff;}#sk-5f11fee4-f1d1-4a3c-95a8-f04e44548fa6 input.sk-toggleable__control:checked~div.sk-toggleable__content {max-height: 200px;max-width: 100%;overflow: auto;}#sk-5f11fee4-f1d1-4a3c-95a8-f04e44548fa6 input.sk-toggleable__control:checked~label.sk-toggleable__label-arrow:before {content: \"▾\";}#sk-5f11fee4-f1d1-4a3c-95a8-f04e44548fa6 div.sk-estimator input.sk-toggleable__control:checked~label.sk-toggleable__label {background-color: #d4ebff;}#sk-5f11fee4-f1d1-4a3c-95a8-f04e44548fa6 div.sk-label input.sk-toggleable__control:checked~label.sk-toggleable__label {background-color: #d4ebff;}#sk-5f11fee4-f1d1-4a3c-95a8-f04e44548fa6 input.sk-hidden--visually {border: 0;clip: rect(1px 1px 1px 1px);clip: rect(1px, 1px, 1px, 1px);height: 1px;margin: -1px;overflow: hidden;padding: 0;position: absolute;width: 1px;}#sk-5f11fee4-f1d1-4a3c-95a8-f04e44548fa6 div.sk-estimator {font-family: monospace;background-color: #f0f8ff;border: 1px dotted black;border-radius: 0.25em;box-sizing: border-box;margin-bottom: 0.5em;}#sk-5f11fee4-f1d1-4a3c-95a8-f04e44548fa6 div.sk-estimator:hover {background-color: #d4ebff;}#sk-5f11fee4-f1d1-4a3c-95a8-f04e44548fa6 div.sk-parallel-item::after {content: \"\";width: 100%;border-bottom: 1px solid gray;flex-grow: 1;}#sk-5f11fee4-f1d1-4a3c-95a8-f04e44548fa6 div.sk-label:hover label.sk-toggleable__label {background-color: #d4ebff;}#sk-5f11fee4-f1d1-4a3c-95a8-f04e44548fa6 div.sk-serial::before {content: \"\";position: absolute;border-left: 1px solid gray;box-sizing: border-box;top: 2em;bottom: 0;left: 50%;}#sk-5f11fee4-f1d1-4a3c-95a8-f04e44548fa6 div.sk-serial {display: flex;flex-direction: column;align-items: center;background-color: white;padding-right: 0.2em;padding-left: 0.2em;}#sk-5f11fee4-f1d1-4a3c-95a8-f04e44548fa6 div.sk-item {z-index: 1;}#sk-5f11fee4-f1d1-4a3c-95a8-f04e44548fa6 div.sk-parallel {display: flex;align-items: stretch;justify-content: center;background-color: white;}#sk-5f11fee4-f1d1-4a3c-95a8-f04e44548fa6 div.sk-parallel::before {content: \"\";position: absolute;border-left: 1px solid gray;box-sizing: border-box;top: 2em;bottom: 0;left: 50%;}#sk-5f11fee4-f1d1-4a3c-95a8-f04e44548fa6 div.sk-parallel-item {display: flex;flex-direction: column;position: relative;background-color: white;}#sk-5f11fee4-f1d1-4a3c-95a8-f04e44548fa6 div.sk-parallel-item:first-child::after {align-self: flex-end;width: 50%;}#sk-5f11fee4-f1d1-4a3c-95a8-f04e44548fa6 div.sk-parallel-item:last-child::after {align-self: flex-start;width: 50%;}#sk-5f11fee4-f1d1-4a3c-95a8-f04e44548fa6 div.sk-parallel-item:only-child::after {width: 0;}#sk-5f11fee4-f1d1-4a3c-95a8-f04e44548fa6 div.sk-dashed-wrapped {border: 1px dashed gray;margin: 0 0.4em 0.5em 0.4em;box-sizing: border-box;padding-bottom: 0.4em;background-color: white;position: relative;}#sk-5f11fee4-f1d1-4a3c-95a8-f04e44548fa6 div.sk-label label {font-family: monospace;font-weight: bold;background-color: white;display: inline-block;line-height: 1.2em;}#sk-5f11fee4-f1d1-4a3c-95a8-f04e44548fa6 div.sk-label-container {position: relative;z-index: 2;text-align: center;}#sk-5f11fee4-f1d1-4a3c-95a8-f04e44548fa6 div.sk-container {/* jupyter's `normalize.less` sets `[hidden] { display: none; }` but bootstrap.min.css set `[hidden] { display: none !important; }` so we also need the `!important` here to be able to override the default hidden behavior on the sphinx rendered scikit-learn.org. See: https://github.com/scikit-learn/scikit-learn/issues/21755 */display: inline-block !important;position: relative;}#sk-5f11fee4-f1d1-4a3c-95a8-f04e44548fa6 div.sk-text-repr-fallback {display: none;}</style><div id=\"sk-5f11fee4-f1d1-4a3c-95a8-f04e44548fa6\" class=\"sk-top-container\"><div class=\"sk-text-repr-fallback\"><pre>ColumnTransformer(transformers=[(&#x27;num&#x27;, StandardScaler(), [&#x27;Age&#x27;, &#x27;Fare&#x27;]),\n",
       "                                (&#x27;cat&#x27;, OneHotEncoder(handle_unknown=&#x27;ignore&#x27;),\n",
       "                                 [&#x27;Sex&#x27;, &#x27;Pclass&#x27;, &#x27;Family&#x27;, &#x27;Title&#x27;]),\n",
       "                                (&#x27;embarked&#x27;,\n",
       "                                 Pipeline(steps=[(&#x27;imputer&#x27;,\n",
       "                                                  SimpleImputer(strategy=&#x27;most_frequent&#x27;)),\n",
       "                                                 (&#x27;ohe&#x27;,\n",
       "                                                  OneHotEncoder(handle_unknown=&#x27;ignore&#x27;))]),\n",
       "                                 [&#x27;Embarked&#x27;])])</pre><b>Please rerun this cell to show the HTML repr or trust the notebook.</b></div><div class=\"sk-container\" hidden><div class=\"sk-item sk-dashed-wrapped\"><div class=\"sk-label-container\"><div class=\"sk-label sk-toggleable\"><input class=\"sk-toggleable__control sk-hidden--visually\" id=\"a49b3777-4f39-4c54-8eff-fcb2cc62484d\" type=\"checkbox\" ><label for=\"a49b3777-4f39-4c54-8eff-fcb2cc62484d\" class=\"sk-toggleable__label sk-toggleable__label-arrow\">ColumnTransformer</label><div class=\"sk-toggleable__content\"><pre>ColumnTransformer(transformers=[(&#x27;num&#x27;, StandardScaler(), [&#x27;Age&#x27;, &#x27;Fare&#x27;]),\n",
       "                                (&#x27;cat&#x27;, OneHotEncoder(handle_unknown=&#x27;ignore&#x27;),\n",
       "                                 [&#x27;Sex&#x27;, &#x27;Pclass&#x27;, &#x27;Family&#x27;, &#x27;Title&#x27;]),\n",
       "                                (&#x27;embarked&#x27;,\n",
       "                                 Pipeline(steps=[(&#x27;imputer&#x27;,\n",
       "                                                  SimpleImputer(strategy=&#x27;most_frequent&#x27;)),\n",
       "                                                 (&#x27;ohe&#x27;,\n",
       "                                                  OneHotEncoder(handle_unknown=&#x27;ignore&#x27;))]),\n",
       "                                 [&#x27;Embarked&#x27;])])</pre></div></div></div><div class=\"sk-parallel\"><div class=\"sk-parallel-item\"><div class=\"sk-item\"><div class=\"sk-label-container\"><div class=\"sk-label sk-toggleable\"><input class=\"sk-toggleable__control sk-hidden--visually\" id=\"a7f38833-4f91-456f-b535-e0784752fa25\" type=\"checkbox\" ><label for=\"a7f38833-4f91-456f-b535-e0784752fa25\" class=\"sk-toggleable__label sk-toggleable__label-arrow\">num</label><div class=\"sk-toggleable__content\"><pre>[&#x27;Age&#x27;, &#x27;Fare&#x27;]</pre></div></div></div><div class=\"sk-serial\"><div class=\"sk-item\"><div class=\"sk-estimator sk-toggleable\"><input class=\"sk-toggleable__control sk-hidden--visually\" id=\"e7f23b40-760a-43ee-b271-607f8557ccc6\" type=\"checkbox\" ><label for=\"e7f23b40-760a-43ee-b271-607f8557ccc6\" class=\"sk-toggleable__label sk-toggleable__label-arrow\">StandardScaler</label><div class=\"sk-toggleable__content\"><pre>StandardScaler()</pre></div></div></div></div></div></div><div class=\"sk-parallel-item\"><div class=\"sk-item\"><div class=\"sk-label-container\"><div class=\"sk-label sk-toggleable\"><input class=\"sk-toggleable__control sk-hidden--visually\" id=\"8e735063-dbcd-4982-b985-20c9b27927f0\" type=\"checkbox\" ><label for=\"8e735063-dbcd-4982-b985-20c9b27927f0\" class=\"sk-toggleable__label sk-toggleable__label-arrow\">cat</label><div class=\"sk-toggleable__content\"><pre>[&#x27;Sex&#x27;, &#x27;Pclass&#x27;, &#x27;Family&#x27;, &#x27;Title&#x27;]</pre></div></div></div><div class=\"sk-serial\"><div class=\"sk-item\"><div class=\"sk-estimator sk-toggleable\"><input class=\"sk-toggleable__control sk-hidden--visually\" id=\"55c5b70f-b349-4ac2-9527-6ded0b960341\" type=\"checkbox\" ><label for=\"55c5b70f-b349-4ac2-9527-6ded0b960341\" class=\"sk-toggleable__label sk-toggleable__label-arrow\">OneHotEncoder</label><div class=\"sk-toggleable__content\"><pre>OneHotEncoder(handle_unknown=&#x27;ignore&#x27;)</pre></div></div></div></div></div></div><div class=\"sk-parallel-item\"><div class=\"sk-item\"><div class=\"sk-label-container\"><div class=\"sk-label sk-toggleable\"><input class=\"sk-toggleable__control sk-hidden--visually\" id=\"494d411c-3f25-4e07-b3e9-fed11179e713\" type=\"checkbox\" ><label for=\"494d411c-3f25-4e07-b3e9-fed11179e713\" class=\"sk-toggleable__label sk-toggleable__label-arrow\">embarked</label><div class=\"sk-toggleable__content\"><pre>[&#x27;Embarked&#x27;]</pre></div></div></div><div class=\"sk-serial\"><div class=\"sk-item\"><div class=\"sk-serial\"><div class=\"sk-item\"><div class=\"sk-estimator sk-toggleable\"><input class=\"sk-toggleable__control sk-hidden--visually\" id=\"fd92123f-ab3f-49aa-a1ad-90a1292016e0\" type=\"checkbox\" ><label for=\"fd92123f-ab3f-49aa-a1ad-90a1292016e0\" class=\"sk-toggleable__label sk-toggleable__label-arrow\">SimpleImputer</label><div class=\"sk-toggleable__content\"><pre>SimpleImputer(strategy=&#x27;most_frequent&#x27;)</pre></div></div></div><div class=\"sk-item\"><div class=\"sk-estimator sk-toggleable\"><input class=\"sk-toggleable__control sk-hidden--visually\" id=\"59c17fc8-e5ad-48ab-928d-7ea625dddf60\" type=\"checkbox\" ><label for=\"59c17fc8-e5ad-48ab-928d-7ea625dddf60\" class=\"sk-toggleable__label sk-toggleable__label-arrow\">OneHotEncoder</label><div class=\"sk-toggleable__content\"><pre>OneHotEncoder(handle_unknown=&#x27;ignore&#x27;)</pre></div></div></div></div></div></div></div></div></div></div></div></div>"
      ],
      "text/plain": [
       "ColumnTransformer(transformers=[('num', StandardScaler(), ['Age', 'Fare']),\n",
       "                                ('cat', OneHotEncoder(handle_unknown='ignore'),\n",
       "                                 ['Sex', 'Pclass', 'Family', 'Title']),\n",
       "                                ('embarked',\n",
       "                                 Pipeline(steps=[('imputer',\n",
       "                                                  SimpleImputer(strategy='most_frequent')),\n",
       "                                                 ('ohe',\n",
       "                                                  OneHotEncoder(handle_unknown='ignore'))]),\n",
       "                                 ['Embarked'])])"
      ]
     },
     "execution_count": 15,
     "metadata": {},
     "output_type": "execute_result"
    }
   ],
   "source": [
    "column_transformer"
   ]
  },
  {
   "cell_type": "markdown",
   "id": "e3ed974e",
   "metadata": {},
   "source": [
    "## 4. Train ML models"
   ]
  },
  {
   "cell_type": "markdown",
   "id": "316055a5",
   "metadata": {},
   "source": [
    "### 4.1 Logistic Regression"
   ]
  },
  {
   "cell_type": "markdown",
   "id": "8dce0ccf",
   "metadata": {},
   "source": [
    "### 4.1.1 Normal Model"
   ]
  },
  {
   "cell_type": "code",
   "execution_count": 16,
   "id": "dc7ba80b",
   "metadata": {},
   "outputs": [],
   "source": [
    "log_reg_pipeline = Pipeline(steps = \n",
    "                        [('column_transformer', column_transformer),\n",
    "                         ('log_reg', LogisticRegression(max_iter = 1000, class_weight = 'balanced'))\n",
    "                        ])"
   ]
  },
  {
   "cell_type": "code",
   "execution_count": 17,
   "id": "69151b17",
   "metadata": {},
   "outputs": [
    {
     "data": {
      "text/html": [
       "<style>#sk-a84b9db7-665d-441a-a9ec-0576bb23fc0c {color: black;background-color: white;}#sk-a84b9db7-665d-441a-a9ec-0576bb23fc0c pre{padding: 0;}#sk-a84b9db7-665d-441a-a9ec-0576bb23fc0c div.sk-toggleable {background-color: white;}#sk-a84b9db7-665d-441a-a9ec-0576bb23fc0c label.sk-toggleable__label {cursor: pointer;display: block;width: 100%;margin-bottom: 0;padding: 0.3em;box-sizing: border-box;text-align: center;}#sk-a84b9db7-665d-441a-a9ec-0576bb23fc0c label.sk-toggleable__label-arrow:before {content: \"▸\";float: left;margin-right: 0.25em;color: #696969;}#sk-a84b9db7-665d-441a-a9ec-0576bb23fc0c label.sk-toggleable__label-arrow:hover:before {color: black;}#sk-a84b9db7-665d-441a-a9ec-0576bb23fc0c div.sk-estimator:hover label.sk-toggleable__label-arrow:before {color: black;}#sk-a84b9db7-665d-441a-a9ec-0576bb23fc0c div.sk-toggleable__content {max-height: 0;max-width: 0;overflow: hidden;text-align: left;background-color: #f0f8ff;}#sk-a84b9db7-665d-441a-a9ec-0576bb23fc0c div.sk-toggleable__content pre {margin: 0.2em;color: black;border-radius: 0.25em;background-color: #f0f8ff;}#sk-a84b9db7-665d-441a-a9ec-0576bb23fc0c input.sk-toggleable__control:checked~div.sk-toggleable__content {max-height: 200px;max-width: 100%;overflow: auto;}#sk-a84b9db7-665d-441a-a9ec-0576bb23fc0c input.sk-toggleable__control:checked~label.sk-toggleable__label-arrow:before {content: \"▾\";}#sk-a84b9db7-665d-441a-a9ec-0576bb23fc0c div.sk-estimator input.sk-toggleable__control:checked~label.sk-toggleable__label {background-color: #d4ebff;}#sk-a84b9db7-665d-441a-a9ec-0576bb23fc0c div.sk-label input.sk-toggleable__control:checked~label.sk-toggleable__label {background-color: #d4ebff;}#sk-a84b9db7-665d-441a-a9ec-0576bb23fc0c input.sk-hidden--visually {border: 0;clip: rect(1px 1px 1px 1px);clip: rect(1px, 1px, 1px, 1px);height: 1px;margin: -1px;overflow: hidden;padding: 0;position: absolute;width: 1px;}#sk-a84b9db7-665d-441a-a9ec-0576bb23fc0c div.sk-estimator {font-family: monospace;background-color: #f0f8ff;border: 1px dotted black;border-radius: 0.25em;box-sizing: border-box;margin-bottom: 0.5em;}#sk-a84b9db7-665d-441a-a9ec-0576bb23fc0c div.sk-estimator:hover {background-color: #d4ebff;}#sk-a84b9db7-665d-441a-a9ec-0576bb23fc0c div.sk-parallel-item::after {content: \"\";width: 100%;border-bottom: 1px solid gray;flex-grow: 1;}#sk-a84b9db7-665d-441a-a9ec-0576bb23fc0c div.sk-label:hover label.sk-toggleable__label {background-color: #d4ebff;}#sk-a84b9db7-665d-441a-a9ec-0576bb23fc0c div.sk-serial::before {content: \"\";position: absolute;border-left: 1px solid gray;box-sizing: border-box;top: 2em;bottom: 0;left: 50%;}#sk-a84b9db7-665d-441a-a9ec-0576bb23fc0c div.sk-serial {display: flex;flex-direction: column;align-items: center;background-color: white;padding-right: 0.2em;padding-left: 0.2em;}#sk-a84b9db7-665d-441a-a9ec-0576bb23fc0c div.sk-item {z-index: 1;}#sk-a84b9db7-665d-441a-a9ec-0576bb23fc0c div.sk-parallel {display: flex;align-items: stretch;justify-content: center;background-color: white;}#sk-a84b9db7-665d-441a-a9ec-0576bb23fc0c div.sk-parallel::before {content: \"\";position: absolute;border-left: 1px solid gray;box-sizing: border-box;top: 2em;bottom: 0;left: 50%;}#sk-a84b9db7-665d-441a-a9ec-0576bb23fc0c div.sk-parallel-item {display: flex;flex-direction: column;position: relative;background-color: white;}#sk-a84b9db7-665d-441a-a9ec-0576bb23fc0c div.sk-parallel-item:first-child::after {align-self: flex-end;width: 50%;}#sk-a84b9db7-665d-441a-a9ec-0576bb23fc0c div.sk-parallel-item:last-child::after {align-self: flex-start;width: 50%;}#sk-a84b9db7-665d-441a-a9ec-0576bb23fc0c div.sk-parallel-item:only-child::after {width: 0;}#sk-a84b9db7-665d-441a-a9ec-0576bb23fc0c div.sk-dashed-wrapped {border: 1px dashed gray;margin: 0 0.4em 0.5em 0.4em;box-sizing: border-box;padding-bottom: 0.4em;background-color: white;position: relative;}#sk-a84b9db7-665d-441a-a9ec-0576bb23fc0c div.sk-label label {font-family: monospace;font-weight: bold;background-color: white;display: inline-block;line-height: 1.2em;}#sk-a84b9db7-665d-441a-a9ec-0576bb23fc0c div.sk-label-container {position: relative;z-index: 2;text-align: center;}#sk-a84b9db7-665d-441a-a9ec-0576bb23fc0c div.sk-container {/* jupyter's `normalize.less` sets `[hidden] { display: none; }` but bootstrap.min.css set `[hidden] { display: none !important; }` so we also need the `!important` here to be able to override the default hidden behavior on the sphinx rendered scikit-learn.org. See: https://github.com/scikit-learn/scikit-learn/issues/21755 */display: inline-block !important;position: relative;}#sk-a84b9db7-665d-441a-a9ec-0576bb23fc0c div.sk-text-repr-fallback {display: none;}</style><div id=\"sk-a84b9db7-665d-441a-a9ec-0576bb23fc0c\" class=\"sk-top-container\"><div class=\"sk-text-repr-fallback\"><pre>Pipeline(steps=[(&#x27;column_transformer&#x27;,\n",
       "                 ColumnTransformer(transformers=[(&#x27;num&#x27;, StandardScaler(),\n",
       "                                                  [&#x27;Age&#x27;, &#x27;Fare&#x27;]),\n",
       "                                                 (&#x27;cat&#x27;,\n",
       "                                                  OneHotEncoder(handle_unknown=&#x27;ignore&#x27;),\n",
       "                                                  [&#x27;Sex&#x27;, &#x27;Pclass&#x27;, &#x27;Family&#x27;,\n",
       "                                                   &#x27;Title&#x27;]),\n",
       "                                                 (&#x27;embarked&#x27;,\n",
       "                                                  Pipeline(steps=[(&#x27;imputer&#x27;,\n",
       "                                                                   SimpleImputer(strategy=&#x27;most_frequent&#x27;)),\n",
       "                                                                  (&#x27;ohe&#x27;,\n",
       "                                                                   OneHotEncoder(handle_unknown=&#x27;ignore&#x27;))]),\n",
       "                                                  [&#x27;Embarked&#x27;])])),\n",
       "                (&#x27;log_reg&#x27;,\n",
       "                 LogisticRegression(class_weight=&#x27;balanced&#x27;, max_iter=1000))])</pre><b>Please rerun this cell to show the HTML repr or trust the notebook.</b></div><div class=\"sk-container\" hidden><div class=\"sk-item sk-dashed-wrapped\"><div class=\"sk-label-container\"><div class=\"sk-label sk-toggleable\"><input class=\"sk-toggleable__control sk-hidden--visually\" id=\"c64e9982-8c29-4c2e-be78-cef7e2231094\" type=\"checkbox\" ><label for=\"c64e9982-8c29-4c2e-be78-cef7e2231094\" class=\"sk-toggleable__label sk-toggleable__label-arrow\">Pipeline</label><div class=\"sk-toggleable__content\"><pre>Pipeline(steps=[(&#x27;column_transformer&#x27;,\n",
       "                 ColumnTransformer(transformers=[(&#x27;num&#x27;, StandardScaler(),\n",
       "                                                  [&#x27;Age&#x27;, &#x27;Fare&#x27;]),\n",
       "                                                 (&#x27;cat&#x27;,\n",
       "                                                  OneHotEncoder(handle_unknown=&#x27;ignore&#x27;),\n",
       "                                                  [&#x27;Sex&#x27;, &#x27;Pclass&#x27;, &#x27;Family&#x27;,\n",
       "                                                   &#x27;Title&#x27;]),\n",
       "                                                 (&#x27;embarked&#x27;,\n",
       "                                                  Pipeline(steps=[(&#x27;imputer&#x27;,\n",
       "                                                                   SimpleImputer(strategy=&#x27;most_frequent&#x27;)),\n",
       "                                                                  (&#x27;ohe&#x27;,\n",
       "                                                                   OneHotEncoder(handle_unknown=&#x27;ignore&#x27;))]),\n",
       "                                                  [&#x27;Embarked&#x27;])])),\n",
       "                (&#x27;log_reg&#x27;,\n",
       "                 LogisticRegression(class_weight=&#x27;balanced&#x27;, max_iter=1000))])</pre></div></div></div><div class=\"sk-serial\"><div class=\"sk-item sk-dashed-wrapped\"><div class=\"sk-label-container\"><div class=\"sk-label sk-toggleable\"><input class=\"sk-toggleable__control sk-hidden--visually\" id=\"1ceee53c-58f4-4379-b5a3-6cd6be933d27\" type=\"checkbox\" ><label for=\"1ceee53c-58f4-4379-b5a3-6cd6be933d27\" class=\"sk-toggleable__label sk-toggleable__label-arrow\">column_transformer: ColumnTransformer</label><div class=\"sk-toggleable__content\"><pre>ColumnTransformer(transformers=[(&#x27;num&#x27;, StandardScaler(), [&#x27;Age&#x27;, &#x27;Fare&#x27;]),\n",
       "                                (&#x27;cat&#x27;, OneHotEncoder(handle_unknown=&#x27;ignore&#x27;),\n",
       "                                 [&#x27;Sex&#x27;, &#x27;Pclass&#x27;, &#x27;Family&#x27;, &#x27;Title&#x27;]),\n",
       "                                (&#x27;embarked&#x27;,\n",
       "                                 Pipeline(steps=[(&#x27;imputer&#x27;,\n",
       "                                                  SimpleImputer(strategy=&#x27;most_frequent&#x27;)),\n",
       "                                                 (&#x27;ohe&#x27;,\n",
       "                                                  OneHotEncoder(handle_unknown=&#x27;ignore&#x27;))]),\n",
       "                                 [&#x27;Embarked&#x27;])])</pre></div></div></div><div class=\"sk-parallel\"><div class=\"sk-parallel-item\"><div class=\"sk-item\"><div class=\"sk-label-container\"><div class=\"sk-label sk-toggleable\"><input class=\"sk-toggleable__control sk-hidden--visually\" id=\"e0af0900-cc78-4fb4-8753-37418df4e8ea\" type=\"checkbox\" ><label for=\"e0af0900-cc78-4fb4-8753-37418df4e8ea\" class=\"sk-toggleable__label sk-toggleable__label-arrow\">num</label><div class=\"sk-toggleable__content\"><pre>[&#x27;Age&#x27;, &#x27;Fare&#x27;]</pre></div></div></div><div class=\"sk-serial\"><div class=\"sk-item\"><div class=\"sk-estimator sk-toggleable\"><input class=\"sk-toggleable__control sk-hidden--visually\" id=\"176cd118-69d2-4ece-bf12-cfc317434aa7\" type=\"checkbox\" ><label for=\"176cd118-69d2-4ece-bf12-cfc317434aa7\" class=\"sk-toggleable__label sk-toggleable__label-arrow\">StandardScaler</label><div class=\"sk-toggleable__content\"><pre>StandardScaler()</pre></div></div></div></div></div></div><div class=\"sk-parallel-item\"><div class=\"sk-item\"><div class=\"sk-label-container\"><div class=\"sk-label sk-toggleable\"><input class=\"sk-toggleable__control sk-hidden--visually\" id=\"cb826e7e-63e2-4087-bfc9-733bb3a799da\" type=\"checkbox\" ><label for=\"cb826e7e-63e2-4087-bfc9-733bb3a799da\" class=\"sk-toggleable__label sk-toggleable__label-arrow\">cat</label><div class=\"sk-toggleable__content\"><pre>[&#x27;Sex&#x27;, &#x27;Pclass&#x27;, &#x27;Family&#x27;, &#x27;Title&#x27;]</pre></div></div></div><div class=\"sk-serial\"><div class=\"sk-item\"><div class=\"sk-estimator sk-toggleable\"><input class=\"sk-toggleable__control sk-hidden--visually\" id=\"a4bfb82d-a3d0-4bf8-b908-22d5d3864ccc\" type=\"checkbox\" ><label for=\"a4bfb82d-a3d0-4bf8-b908-22d5d3864ccc\" class=\"sk-toggleable__label sk-toggleable__label-arrow\">OneHotEncoder</label><div class=\"sk-toggleable__content\"><pre>OneHotEncoder(handle_unknown=&#x27;ignore&#x27;)</pre></div></div></div></div></div></div><div class=\"sk-parallel-item\"><div class=\"sk-item\"><div class=\"sk-label-container\"><div class=\"sk-label sk-toggleable\"><input class=\"sk-toggleable__control sk-hidden--visually\" id=\"4712456b-4e6e-4ff9-b829-9bdb381d6098\" type=\"checkbox\" ><label for=\"4712456b-4e6e-4ff9-b829-9bdb381d6098\" class=\"sk-toggleable__label sk-toggleable__label-arrow\">embarked</label><div class=\"sk-toggleable__content\"><pre>[&#x27;Embarked&#x27;]</pre></div></div></div><div class=\"sk-serial\"><div class=\"sk-item\"><div class=\"sk-serial\"><div class=\"sk-item\"><div class=\"sk-estimator sk-toggleable\"><input class=\"sk-toggleable__control sk-hidden--visually\" id=\"d54146ec-404d-48ef-8257-1c938b0f4e9f\" type=\"checkbox\" ><label for=\"d54146ec-404d-48ef-8257-1c938b0f4e9f\" class=\"sk-toggleable__label sk-toggleable__label-arrow\">SimpleImputer</label><div class=\"sk-toggleable__content\"><pre>SimpleImputer(strategy=&#x27;most_frequent&#x27;)</pre></div></div></div><div class=\"sk-item\"><div class=\"sk-estimator sk-toggleable\"><input class=\"sk-toggleable__control sk-hidden--visually\" id=\"f9fa86c8-8cce-4d84-b8bd-18b45e58b4b7\" type=\"checkbox\" ><label for=\"f9fa86c8-8cce-4d84-b8bd-18b45e58b4b7\" class=\"sk-toggleable__label sk-toggleable__label-arrow\">OneHotEncoder</label><div class=\"sk-toggleable__content\"><pre>OneHotEncoder(handle_unknown=&#x27;ignore&#x27;)</pre></div></div></div></div></div></div></div></div></div></div><div class=\"sk-item\"><div class=\"sk-estimator sk-toggleable\"><input class=\"sk-toggleable__control sk-hidden--visually\" id=\"aa957ba4-bedc-4a63-972a-77b745c68dd1\" type=\"checkbox\" ><label for=\"aa957ba4-bedc-4a63-972a-77b745c68dd1\" class=\"sk-toggleable__label sk-toggleable__label-arrow\">LogisticRegression</label><div class=\"sk-toggleable__content\"><pre>LogisticRegression(class_weight=&#x27;balanced&#x27;, max_iter=1000)</pre></div></div></div></div></div></div></div>"
      ],
      "text/plain": [
       "Pipeline(steps=[('column_transformer',\n",
       "                 ColumnTransformer(transformers=[('num', StandardScaler(),\n",
       "                                                  ['Age', 'Fare']),\n",
       "                                                 ('cat',\n",
       "                                                  OneHotEncoder(handle_unknown='ignore'),\n",
       "                                                  ['Sex', 'Pclass', 'Family',\n",
       "                                                   'Title']),\n",
       "                                                 ('embarked',\n",
       "                                                  Pipeline(steps=[('imputer',\n",
       "                                                                   SimpleImputer(strategy='most_frequent')),\n",
       "                                                                  ('ohe',\n",
       "                                                                   OneHotEncoder(handle_unknown='ignore'))]),\n",
       "                                                  ['Embarked'])])),\n",
       "                ('log_reg',\n",
       "                 LogisticRegression(class_weight='balanced', max_iter=1000))])"
      ]
     },
     "execution_count": 17,
     "metadata": {},
     "output_type": "execute_result"
    }
   ],
   "source": [
    "log_reg_pipeline.fit(X_train, y_train)"
   ]
  },
  {
   "cell_type": "code",
   "execution_count": 18,
   "id": "1b410df1",
   "metadata": {},
   "outputs": [
    {
     "name": "stdout",
     "output_type": "stream",
     "text": [
      "The train accuracy of log_reg_pipeline is: 0.84\n",
      "The test accuracy of log_reg_pipeline is: 0.82\n"
     ]
    }
   ],
   "source": [
    "print(f\"\"\"The train accuracy of log_reg_pipeline is: {round(log_reg_pipeline.score(X_train,y_train),2)}\n",
    "The test accuracy of log_reg_pipeline is: {round(log_reg_pipeline.score(X_test,y_test),2)}\"\"\")"
   ]
  },
  {
   "cell_type": "markdown",
   "id": "a54177d1",
   "metadata": {},
   "source": [
    "### 4.1.2 Evaluating classifiers"
   ]
  },
  {
   "cell_type": "code",
   "execution_count": null,
   "id": "643b842b",
   "metadata": {},
   "outputs": [],
   "source": [
    "from sklearn.metrics import accuracy_score \n",
    "\n",
    "ypred = log_reg_pipeline.predict(X_train)\n",
    "print(f\"Accuracy: {round(accuracy_score(y_train, ypred),2)}\")"
   ]
  },
  {
   "cell_type": "code",
   "execution_count": null,
   "id": "af97de8c",
   "metadata": {},
   "outputs": [],
   "source": [
    "from sklearn.metrics import precision_score, recall_score, f1_score\n",
    "\n",
    "print(f\"\"\"Precision = {round(precision_score(y_train,ypred),2)} \n",
    "Recall = {round(recall_score(y_train,ypred),2)}\n",
    "F1 = {round(f1_score(y_train,ypred),2)}\"\"\")"
   ]
  },
  {
   "cell_type": "code",
   "execution_count": null,
   "id": "7d87cb6b",
   "metadata": {},
   "outputs": [],
   "source": [
    "from sklearn.metrics import confusion_matrix, ConfusionMatrixDisplay\n",
    "from sklearn.metrics import plot_confusion_matrix\n",
    "\n",
    "conf = confusion_matrix(y_train, ypred)\n",
    "conf"
   ]
  },
  {
   "cell_type": "code",
   "execution_count": null,
   "id": "bf5387a2",
   "metadata": {},
   "outputs": [],
   "source": [
    "plot_confusion_matrix(log_reg_pipeline, X_train, y_train, normalize=None)"
   ]
  },
  {
   "cell_type": "code",
   "execution_count": null,
   "id": "b29e3a0b",
   "metadata": {},
   "outputs": [],
   "source": [
    "disp = ConfusionMatrixDisplay(confusion_matrix=conf, display_labels=log_reg_pipeline.classes_)\n",
    "disp.plot()\n",
    "plt.show()"
   ]
  },
  {
   "cell_type": "markdown",
   "id": "03749d92",
   "metadata": {},
   "source": [
    "### 4.2 Random Forest"
   ]
  },
  {
   "cell_type": "code",
   "execution_count": null,
   "id": "f32c1001",
   "metadata": {},
   "outputs": [],
   "source": [
    "forest_pipeline = Pipeline(steps = \n",
    "                        [('column_transformer', column_transformer),\n",
    "                         ('forest', RandomForestClassifier(n_estimators = 35, max_depth = 3))\n",
    "                        ])"
   ]
  },
  {
   "cell_type": "code",
   "execution_count": null,
   "id": "8838e5a3",
   "metadata": {},
   "outputs": [],
   "source": [
    "forest_pipeline.fit(X_train, y_train)"
   ]
  },
  {
   "cell_type": "code",
   "execution_count": null,
   "id": "2a21bca9",
   "metadata": {},
   "outputs": [],
   "source": [
    "X_train.isna().sum()"
   ]
  },
  {
   "cell_type": "code",
   "execution_count": null,
   "id": "9e51c32c",
   "metadata": {},
   "outputs": [],
   "source": [
    "print(f\"\"\"The train accuracy of forest_pipeline is: {round(forest_pipeline.score(X_train,y_train),2)}\n",
    "The test accuracy of forest_pipeline is: {round(forest_pipeline.score(X_test,y_test),2)}\"\"\")"
   ]
  },
  {
   "cell_type": "markdown",
   "id": "f6a6e697",
   "metadata": {},
   "source": [
    "### 4.3 Support Vector Model"
   ]
  },
  {
   "cell_type": "code",
   "execution_count": 19,
   "id": "8c7c11a9",
   "metadata": {},
   "outputs": [],
   "source": [
    "svc_pipeline = Pipeline(steps = \n",
    "                        [('column_transformer', column_transformer),\n",
    "                         ('svc', SVC(kernel= \"poly\", C=1))\n",
    "                        ])"
   ]
  },
  {
   "cell_type": "code",
   "execution_count": 20,
   "id": "7e5c9071",
   "metadata": {},
   "outputs": [
    {
     "data": {
      "text/html": [
       "<style>#sk-52dc8b27-c4ea-4c81-abe9-56376c2c9704 {color: black;background-color: white;}#sk-52dc8b27-c4ea-4c81-abe9-56376c2c9704 pre{padding: 0;}#sk-52dc8b27-c4ea-4c81-abe9-56376c2c9704 div.sk-toggleable {background-color: white;}#sk-52dc8b27-c4ea-4c81-abe9-56376c2c9704 label.sk-toggleable__label {cursor: pointer;display: block;width: 100%;margin-bottom: 0;padding: 0.3em;box-sizing: border-box;text-align: center;}#sk-52dc8b27-c4ea-4c81-abe9-56376c2c9704 label.sk-toggleable__label-arrow:before {content: \"▸\";float: left;margin-right: 0.25em;color: #696969;}#sk-52dc8b27-c4ea-4c81-abe9-56376c2c9704 label.sk-toggleable__label-arrow:hover:before {color: black;}#sk-52dc8b27-c4ea-4c81-abe9-56376c2c9704 div.sk-estimator:hover label.sk-toggleable__label-arrow:before {color: black;}#sk-52dc8b27-c4ea-4c81-abe9-56376c2c9704 div.sk-toggleable__content {max-height: 0;max-width: 0;overflow: hidden;text-align: left;background-color: #f0f8ff;}#sk-52dc8b27-c4ea-4c81-abe9-56376c2c9704 div.sk-toggleable__content pre {margin: 0.2em;color: black;border-radius: 0.25em;background-color: #f0f8ff;}#sk-52dc8b27-c4ea-4c81-abe9-56376c2c9704 input.sk-toggleable__control:checked~div.sk-toggleable__content {max-height: 200px;max-width: 100%;overflow: auto;}#sk-52dc8b27-c4ea-4c81-abe9-56376c2c9704 input.sk-toggleable__control:checked~label.sk-toggleable__label-arrow:before {content: \"▾\";}#sk-52dc8b27-c4ea-4c81-abe9-56376c2c9704 div.sk-estimator input.sk-toggleable__control:checked~label.sk-toggleable__label {background-color: #d4ebff;}#sk-52dc8b27-c4ea-4c81-abe9-56376c2c9704 div.sk-label input.sk-toggleable__control:checked~label.sk-toggleable__label {background-color: #d4ebff;}#sk-52dc8b27-c4ea-4c81-abe9-56376c2c9704 input.sk-hidden--visually {border: 0;clip: rect(1px 1px 1px 1px);clip: rect(1px, 1px, 1px, 1px);height: 1px;margin: -1px;overflow: hidden;padding: 0;position: absolute;width: 1px;}#sk-52dc8b27-c4ea-4c81-abe9-56376c2c9704 div.sk-estimator {font-family: monospace;background-color: #f0f8ff;border: 1px dotted black;border-radius: 0.25em;box-sizing: border-box;margin-bottom: 0.5em;}#sk-52dc8b27-c4ea-4c81-abe9-56376c2c9704 div.sk-estimator:hover {background-color: #d4ebff;}#sk-52dc8b27-c4ea-4c81-abe9-56376c2c9704 div.sk-parallel-item::after {content: \"\";width: 100%;border-bottom: 1px solid gray;flex-grow: 1;}#sk-52dc8b27-c4ea-4c81-abe9-56376c2c9704 div.sk-label:hover label.sk-toggleable__label {background-color: #d4ebff;}#sk-52dc8b27-c4ea-4c81-abe9-56376c2c9704 div.sk-serial::before {content: \"\";position: absolute;border-left: 1px solid gray;box-sizing: border-box;top: 2em;bottom: 0;left: 50%;}#sk-52dc8b27-c4ea-4c81-abe9-56376c2c9704 div.sk-serial {display: flex;flex-direction: column;align-items: center;background-color: white;padding-right: 0.2em;padding-left: 0.2em;}#sk-52dc8b27-c4ea-4c81-abe9-56376c2c9704 div.sk-item {z-index: 1;}#sk-52dc8b27-c4ea-4c81-abe9-56376c2c9704 div.sk-parallel {display: flex;align-items: stretch;justify-content: center;background-color: white;}#sk-52dc8b27-c4ea-4c81-abe9-56376c2c9704 div.sk-parallel::before {content: \"\";position: absolute;border-left: 1px solid gray;box-sizing: border-box;top: 2em;bottom: 0;left: 50%;}#sk-52dc8b27-c4ea-4c81-abe9-56376c2c9704 div.sk-parallel-item {display: flex;flex-direction: column;position: relative;background-color: white;}#sk-52dc8b27-c4ea-4c81-abe9-56376c2c9704 div.sk-parallel-item:first-child::after {align-self: flex-end;width: 50%;}#sk-52dc8b27-c4ea-4c81-abe9-56376c2c9704 div.sk-parallel-item:last-child::after {align-self: flex-start;width: 50%;}#sk-52dc8b27-c4ea-4c81-abe9-56376c2c9704 div.sk-parallel-item:only-child::after {width: 0;}#sk-52dc8b27-c4ea-4c81-abe9-56376c2c9704 div.sk-dashed-wrapped {border: 1px dashed gray;margin: 0 0.4em 0.5em 0.4em;box-sizing: border-box;padding-bottom: 0.4em;background-color: white;position: relative;}#sk-52dc8b27-c4ea-4c81-abe9-56376c2c9704 div.sk-label label {font-family: monospace;font-weight: bold;background-color: white;display: inline-block;line-height: 1.2em;}#sk-52dc8b27-c4ea-4c81-abe9-56376c2c9704 div.sk-label-container {position: relative;z-index: 2;text-align: center;}#sk-52dc8b27-c4ea-4c81-abe9-56376c2c9704 div.sk-container {/* jupyter's `normalize.less` sets `[hidden] { display: none; }` but bootstrap.min.css set `[hidden] { display: none !important; }` so we also need the `!important` here to be able to override the default hidden behavior on the sphinx rendered scikit-learn.org. See: https://github.com/scikit-learn/scikit-learn/issues/21755 */display: inline-block !important;position: relative;}#sk-52dc8b27-c4ea-4c81-abe9-56376c2c9704 div.sk-text-repr-fallback {display: none;}</style><div id=\"sk-52dc8b27-c4ea-4c81-abe9-56376c2c9704\" class=\"sk-top-container\"><div class=\"sk-text-repr-fallback\"><pre>Pipeline(steps=[(&#x27;column_transformer&#x27;,\n",
       "                 ColumnTransformer(transformers=[(&#x27;num&#x27;, StandardScaler(),\n",
       "                                                  [&#x27;Age&#x27;, &#x27;Fare&#x27;]),\n",
       "                                                 (&#x27;cat&#x27;,\n",
       "                                                  OneHotEncoder(handle_unknown=&#x27;ignore&#x27;),\n",
       "                                                  [&#x27;Sex&#x27;, &#x27;Pclass&#x27;, &#x27;Family&#x27;,\n",
       "                                                   &#x27;Title&#x27;]),\n",
       "                                                 (&#x27;embarked&#x27;,\n",
       "                                                  Pipeline(steps=[(&#x27;imputer&#x27;,\n",
       "                                                                   SimpleImputer(strategy=&#x27;most_frequent&#x27;)),\n",
       "                                                                  (&#x27;ohe&#x27;,\n",
       "                                                                   OneHotEncoder(handle_unknown=&#x27;ignore&#x27;))]),\n",
       "                                                  [&#x27;Embarked&#x27;])])),\n",
       "                (&#x27;svc&#x27;, SVC(C=1, kernel=&#x27;poly&#x27;))])</pre><b>Please rerun this cell to show the HTML repr or trust the notebook.</b></div><div class=\"sk-container\" hidden><div class=\"sk-item sk-dashed-wrapped\"><div class=\"sk-label-container\"><div class=\"sk-label sk-toggleable\"><input class=\"sk-toggleable__control sk-hidden--visually\" id=\"cd9bd50e-5ce2-4888-a36b-1e1269d7d3e9\" type=\"checkbox\" ><label for=\"cd9bd50e-5ce2-4888-a36b-1e1269d7d3e9\" class=\"sk-toggleable__label sk-toggleable__label-arrow\">Pipeline</label><div class=\"sk-toggleable__content\"><pre>Pipeline(steps=[(&#x27;column_transformer&#x27;,\n",
       "                 ColumnTransformer(transformers=[(&#x27;num&#x27;, StandardScaler(),\n",
       "                                                  [&#x27;Age&#x27;, &#x27;Fare&#x27;]),\n",
       "                                                 (&#x27;cat&#x27;,\n",
       "                                                  OneHotEncoder(handle_unknown=&#x27;ignore&#x27;),\n",
       "                                                  [&#x27;Sex&#x27;, &#x27;Pclass&#x27;, &#x27;Family&#x27;,\n",
       "                                                   &#x27;Title&#x27;]),\n",
       "                                                 (&#x27;embarked&#x27;,\n",
       "                                                  Pipeline(steps=[(&#x27;imputer&#x27;,\n",
       "                                                                   SimpleImputer(strategy=&#x27;most_frequent&#x27;)),\n",
       "                                                                  (&#x27;ohe&#x27;,\n",
       "                                                                   OneHotEncoder(handle_unknown=&#x27;ignore&#x27;))]),\n",
       "                                                  [&#x27;Embarked&#x27;])])),\n",
       "                (&#x27;svc&#x27;, SVC(C=1, kernel=&#x27;poly&#x27;))])</pre></div></div></div><div class=\"sk-serial\"><div class=\"sk-item sk-dashed-wrapped\"><div class=\"sk-label-container\"><div class=\"sk-label sk-toggleable\"><input class=\"sk-toggleable__control sk-hidden--visually\" id=\"385cc42a-ca26-44b7-9b96-15afe8db80f7\" type=\"checkbox\" ><label for=\"385cc42a-ca26-44b7-9b96-15afe8db80f7\" class=\"sk-toggleable__label sk-toggleable__label-arrow\">column_transformer: ColumnTransformer</label><div class=\"sk-toggleable__content\"><pre>ColumnTransformer(transformers=[(&#x27;num&#x27;, StandardScaler(), [&#x27;Age&#x27;, &#x27;Fare&#x27;]),\n",
       "                                (&#x27;cat&#x27;, OneHotEncoder(handle_unknown=&#x27;ignore&#x27;),\n",
       "                                 [&#x27;Sex&#x27;, &#x27;Pclass&#x27;, &#x27;Family&#x27;, &#x27;Title&#x27;]),\n",
       "                                (&#x27;embarked&#x27;,\n",
       "                                 Pipeline(steps=[(&#x27;imputer&#x27;,\n",
       "                                                  SimpleImputer(strategy=&#x27;most_frequent&#x27;)),\n",
       "                                                 (&#x27;ohe&#x27;,\n",
       "                                                  OneHotEncoder(handle_unknown=&#x27;ignore&#x27;))]),\n",
       "                                 [&#x27;Embarked&#x27;])])</pre></div></div></div><div class=\"sk-parallel\"><div class=\"sk-parallel-item\"><div class=\"sk-item\"><div class=\"sk-label-container\"><div class=\"sk-label sk-toggleable\"><input class=\"sk-toggleable__control sk-hidden--visually\" id=\"ddcc89d0-44c7-4dd9-8954-4a5dfae7dd34\" type=\"checkbox\" ><label for=\"ddcc89d0-44c7-4dd9-8954-4a5dfae7dd34\" class=\"sk-toggleable__label sk-toggleable__label-arrow\">num</label><div class=\"sk-toggleable__content\"><pre>[&#x27;Age&#x27;, &#x27;Fare&#x27;]</pre></div></div></div><div class=\"sk-serial\"><div class=\"sk-item\"><div class=\"sk-estimator sk-toggleable\"><input class=\"sk-toggleable__control sk-hidden--visually\" id=\"4efbc78c-39c0-4ba1-b34f-eed55e7d744e\" type=\"checkbox\" ><label for=\"4efbc78c-39c0-4ba1-b34f-eed55e7d744e\" class=\"sk-toggleable__label sk-toggleable__label-arrow\">StandardScaler</label><div class=\"sk-toggleable__content\"><pre>StandardScaler()</pre></div></div></div></div></div></div><div class=\"sk-parallel-item\"><div class=\"sk-item\"><div class=\"sk-label-container\"><div class=\"sk-label sk-toggleable\"><input class=\"sk-toggleable__control sk-hidden--visually\" id=\"6bae9a4c-66c3-49b5-9b18-4d65f224f36b\" type=\"checkbox\" ><label for=\"6bae9a4c-66c3-49b5-9b18-4d65f224f36b\" class=\"sk-toggleable__label sk-toggleable__label-arrow\">cat</label><div class=\"sk-toggleable__content\"><pre>[&#x27;Sex&#x27;, &#x27;Pclass&#x27;, &#x27;Family&#x27;, &#x27;Title&#x27;]</pre></div></div></div><div class=\"sk-serial\"><div class=\"sk-item\"><div class=\"sk-estimator sk-toggleable\"><input class=\"sk-toggleable__control sk-hidden--visually\" id=\"f916aa50-e4d6-403b-be23-5ccee74935da\" type=\"checkbox\" ><label for=\"f916aa50-e4d6-403b-be23-5ccee74935da\" class=\"sk-toggleable__label sk-toggleable__label-arrow\">OneHotEncoder</label><div class=\"sk-toggleable__content\"><pre>OneHotEncoder(handle_unknown=&#x27;ignore&#x27;)</pre></div></div></div></div></div></div><div class=\"sk-parallel-item\"><div class=\"sk-item\"><div class=\"sk-label-container\"><div class=\"sk-label sk-toggleable\"><input class=\"sk-toggleable__control sk-hidden--visually\" id=\"a01a2dff-c45b-4269-8542-6942999a8015\" type=\"checkbox\" ><label for=\"a01a2dff-c45b-4269-8542-6942999a8015\" class=\"sk-toggleable__label sk-toggleable__label-arrow\">embarked</label><div class=\"sk-toggleable__content\"><pre>[&#x27;Embarked&#x27;]</pre></div></div></div><div class=\"sk-serial\"><div class=\"sk-item\"><div class=\"sk-serial\"><div class=\"sk-item\"><div class=\"sk-estimator sk-toggleable\"><input class=\"sk-toggleable__control sk-hidden--visually\" id=\"732a5637-0d7d-4d52-8488-a02095b9e5d7\" type=\"checkbox\" ><label for=\"732a5637-0d7d-4d52-8488-a02095b9e5d7\" class=\"sk-toggleable__label sk-toggleable__label-arrow\">SimpleImputer</label><div class=\"sk-toggleable__content\"><pre>SimpleImputer(strategy=&#x27;most_frequent&#x27;)</pre></div></div></div><div class=\"sk-item\"><div class=\"sk-estimator sk-toggleable\"><input class=\"sk-toggleable__control sk-hidden--visually\" id=\"f3d826b8-f330-4a15-8d60-e4aaac48f0d6\" type=\"checkbox\" ><label for=\"f3d826b8-f330-4a15-8d60-e4aaac48f0d6\" class=\"sk-toggleable__label sk-toggleable__label-arrow\">OneHotEncoder</label><div class=\"sk-toggleable__content\"><pre>OneHotEncoder(handle_unknown=&#x27;ignore&#x27;)</pre></div></div></div></div></div></div></div></div></div></div><div class=\"sk-item\"><div class=\"sk-estimator sk-toggleable\"><input class=\"sk-toggleable__control sk-hidden--visually\" id=\"f99b64ad-719c-4572-896d-6ba984121822\" type=\"checkbox\" ><label for=\"f99b64ad-719c-4572-896d-6ba984121822\" class=\"sk-toggleable__label sk-toggleable__label-arrow\">SVC</label><div class=\"sk-toggleable__content\"><pre>SVC(C=1, kernel=&#x27;poly&#x27;)</pre></div></div></div></div></div></div></div>"
      ],
      "text/plain": [
       "Pipeline(steps=[('column_transformer',\n",
       "                 ColumnTransformer(transformers=[('num', StandardScaler(),\n",
       "                                                  ['Age', 'Fare']),\n",
       "                                                 ('cat',\n",
       "                                                  OneHotEncoder(handle_unknown='ignore'),\n",
       "                                                  ['Sex', 'Pclass', 'Family',\n",
       "                                                   'Title']),\n",
       "                                                 ('embarked',\n",
       "                                                  Pipeline(steps=[('imputer',\n",
       "                                                                   SimpleImputer(strategy='most_frequent')),\n",
       "                                                                  ('ohe',\n",
       "                                                                   OneHotEncoder(handle_unknown='ignore'))]),\n",
       "                                                  ['Embarked'])])),\n",
       "                ('svc', SVC(C=1, kernel='poly'))])"
      ]
     },
     "execution_count": 20,
     "metadata": {},
     "output_type": "execute_result"
    }
   ],
   "source": [
    "svc_pipeline.fit(X_train, y_train)"
   ]
  },
  {
   "cell_type": "code",
   "execution_count": 21,
   "id": "94f9dbc5",
   "metadata": {},
   "outputs": [
    {
     "name": "stdout",
     "output_type": "stream",
     "text": [
      "The train accuracy of svc_pipeline is: 0.86\n",
      "The test accuracy of svc_pipeline is: 0.83\n"
     ]
    }
   ],
   "source": [
    "print(f\"\"\"The train accuracy of svc_pipeline is: {round(svc_pipeline.score(X_train,y_train),2)}\n",
    "The test accuracy of svc_pipeline is: {round(svc_pipeline.score(X_test,y_test),2)}\"\"\")"
   ]
  },
  {
   "cell_type": "code",
   "execution_count": null,
   "id": "f077f8c0",
   "metadata": {},
   "outputs": [],
   "source": [
    "predictions = svc_pipeline.predict(X_test)"
   ]
  },
  {
   "cell_type": "code",
   "execution_count": null,
   "id": "60c2fb27",
   "metadata": {},
   "outputs": [],
   "source": [
    "predictions"
   ]
  },
  {
   "cell_type": "code",
   "execution_count": null,
   "id": "16c180bb",
   "metadata": {},
   "outputs": [],
   "source": []
  }
 ],
 "metadata": {
  "kernelspec": {
   "display_name": "Python 3 (ipykernel)",
   "language": "python",
   "name": "python3"
  },
  "language_info": {
   "codemirror_mode": {
    "name": "ipython",
    "version": 3
   },
   "file_extension": ".py",
   "mimetype": "text/x-python",
   "name": "python",
   "nbconvert_exporter": "python",
   "pygments_lexer": "ipython3",
   "version": "3.9.12"
  }
 },
 "nbformat": 4,
 "nbformat_minor": 5
}
