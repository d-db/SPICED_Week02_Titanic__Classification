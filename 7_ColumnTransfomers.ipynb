{
 "cells": [
  {
   "cell_type": "markdown",
   "id": "15652e46",
   "metadata": {},
   "source": [
    "## Introduction to this notebook"
   ]
  },
  {
   "cell_type": "markdown",
   "id": "58d78b1a",
   "metadata": {},
   "source": [
    "After todays lession about 'Feature Engeneering' using 'ColumnTransformer()' and 'Pipline()' I would like to achive similar accuracy results like in the 3_WP notebook by using these functions in shorter time and with more concise code."
   ]
  },
  {
   "cell_type": "markdown",
   "id": "3b935d90",
   "metadata": {},
   "source": [
    "## 1. Load data and some basic EDA"
   ]
  },
  {
   "cell_type": "code",
   "execution_count": 1,
   "id": "21477daa",
   "metadata": {},
   "outputs": [],
   "source": [
    "import pandas as pd\n",
    "import matplotlib.pyplot as plt\n",
    "import seaborn as sns\n",
    "import numpy as np\n",
    "import math\n",
    "\n",
    "# models\n",
    "from sklearn.linear_model import LogisticRegression\n",
    "from sklearn.ensemble import RandomForestClassifier\n",
    "from sklearn.svm import SVC\n",
    "\n",
    "from sklearn.model_selection import train_test_split\n",
    "\n",
    "# new utils\n",
    "from sklearn.impute import SimpleImputer\n",
    "from sklearn.preprocessing import OneHotEncoder, KBinsDiscretizer\n",
    "from sklearn.preprocessing import RobustScaler, StandardScaler\n",
    "from sklearn.preprocessing import FunctionTransformer\n",
    "from sklearn.compose import ColumnTransformer\n",
    "from sklearn.pipeline import Pipeline\n",
    "from sklearn import set_config\n",
    "\n",
    "# to visualize the column transformer and pipeline\n",
    "set_config(display='diagram')"
   ]
  },
  {
   "cell_type": "code",
   "execution_count": 2,
   "id": "08867d26",
   "metadata": {},
   "outputs": [],
   "source": [
    "df = pd.read_csv(\"./data/Titanic/train.csv\")"
   ]
  },
  {
   "cell_type": "code",
   "execution_count": 3,
   "id": "d50a7ce2",
   "metadata": {},
   "outputs": [
    {
     "data": {
      "text/plain": "   PassengerId  Survived  Pclass  \\\n0            1         0       3   \n1            2         1       1   \n2            3         1       3   \n3            4         1       1   \n4            5         0       3   \n\n                                                Name     Sex   Age  SibSp  \\\n0                            Braund, Mr. Owen Harris    male  22.0      1   \n1  Cumings, Mrs. John Bradley (Florence Briggs Th...  female  38.0      1   \n2                             Heikkinen, Miss. Laina  female  26.0      0   \n3       Futrelle, Mrs. Jacques Heath (Lily May Peel)  female  35.0      1   \n4                           Allen, Mr. William Henry    male  35.0      0   \n\n   Parch            Ticket     Fare Cabin Embarked  \n0      0         A/5 21171   7.2500   NaN        S  \n1      0          PC 17599  71.2833   C85        C  \n2      0  STON/O2. 3101282   7.9250   NaN        S  \n3      0            113803  53.1000  C123        S  \n4      0            373450   8.0500   NaN        S  ",
      "text/html": "<div>\n<style scoped>\n    .dataframe tbody tr th:only-of-type {\n        vertical-align: middle;\n    }\n\n    .dataframe tbody tr th {\n        vertical-align: top;\n    }\n\n    .dataframe thead th {\n        text-align: right;\n    }\n</style>\n<table border=\"1\" class=\"dataframe\">\n  <thead>\n    <tr style=\"text-align: right;\">\n      <th></th>\n      <th>PassengerId</th>\n      <th>Survived</th>\n      <th>Pclass</th>\n      <th>Name</th>\n      <th>Sex</th>\n      <th>Age</th>\n      <th>SibSp</th>\n      <th>Parch</th>\n      <th>Ticket</th>\n      <th>Fare</th>\n      <th>Cabin</th>\n      <th>Embarked</th>\n    </tr>\n  </thead>\n  <tbody>\n    <tr>\n      <th>0</th>\n      <td>1</td>\n      <td>0</td>\n      <td>3</td>\n      <td>Braund, Mr. Owen Harris</td>\n      <td>male</td>\n      <td>22.0</td>\n      <td>1</td>\n      <td>0</td>\n      <td>A/5 21171</td>\n      <td>7.2500</td>\n      <td>NaN</td>\n      <td>S</td>\n    </tr>\n    <tr>\n      <th>1</th>\n      <td>2</td>\n      <td>1</td>\n      <td>1</td>\n      <td>Cumings, Mrs. John Bradley (Florence Briggs Th...</td>\n      <td>female</td>\n      <td>38.0</td>\n      <td>1</td>\n      <td>0</td>\n      <td>PC 17599</td>\n      <td>71.2833</td>\n      <td>C85</td>\n      <td>C</td>\n    </tr>\n    <tr>\n      <th>2</th>\n      <td>3</td>\n      <td>1</td>\n      <td>3</td>\n      <td>Heikkinen, Miss. Laina</td>\n      <td>female</td>\n      <td>26.0</td>\n      <td>0</td>\n      <td>0</td>\n      <td>STON/O2. 3101282</td>\n      <td>7.9250</td>\n      <td>NaN</td>\n      <td>S</td>\n    </tr>\n    <tr>\n      <th>3</th>\n      <td>4</td>\n      <td>1</td>\n      <td>1</td>\n      <td>Futrelle, Mrs. Jacques Heath (Lily May Peel)</td>\n      <td>female</td>\n      <td>35.0</td>\n      <td>1</td>\n      <td>0</td>\n      <td>113803</td>\n      <td>53.1000</td>\n      <td>C123</td>\n      <td>S</td>\n    </tr>\n    <tr>\n      <th>4</th>\n      <td>5</td>\n      <td>0</td>\n      <td>3</td>\n      <td>Allen, Mr. William Henry</td>\n      <td>male</td>\n      <td>35.0</td>\n      <td>0</td>\n      <td>0</td>\n      <td>373450</td>\n      <td>8.0500</td>\n      <td>NaN</td>\n      <td>S</td>\n    </tr>\n  </tbody>\n</table>\n</div>"
     },
     "execution_count": 3,
     "metadata": {},
     "output_type": "execute_result"
    }
   ],
   "source": [
    "df.head()"
   ]
  },
  {
   "cell_type": "code",
   "execution_count": 4,
   "id": "15d523a7",
   "metadata": {},
   "outputs": [
    {
     "name": "stdout",
     "output_type": "stream",
     "text": [
      "<class 'pandas.core.frame.DataFrame'>\n",
      "RangeIndex: 891 entries, 0 to 890\n",
      "Data columns (total 12 columns):\n",
      " #   Column       Non-Null Count  Dtype  \n",
      "---  ------       --------------  -----  \n",
      " 0   PassengerId  891 non-null    int64  \n",
      " 1   Survived     891 non-null    int64  \n",
      " 2   Pclass       891 non-null    int64  \n",
      " 3   Name         891 non-null    object \n",
      " 4   Sex          891 non-null    object \n",
      " 5   Age          714 non-null    float64\n",
      " 6   SibSp        891 non-null    int64  \n",
      " 7   Parch        891 non-null    int64  \n",
      " 8   Ticket       891 non-null    object \n",
      " 9   Fare         891 non-null    float64\n",
      " 10  Cabin        204 non-null    object \n",
      " 11  Embarked     889 non-null    object \n",
      "dtypes: float64(2), int64(5), object(5)\n",
      "memory usage: 83.7+ KB\n"
     ]
    }
   ],
   "source": [
    "df.info()"
   ]
  },
  {
   "cell_type": "code",
   "execution_count": 5,
   "id": "4d2cf151",
   "metadata": {},
   "outputs": [
    {
     "data": {
      "text/plain": "<Figure size 432x288 with 2 Axes>",
      "image/png": "[encoded data removed]"
     },
     "metadata": {},
     "output_type": "display_data"
    }
   ],
   "source": [
    "sns.heatmap(df.isna());"
   ]
  },
  {
   "cell_type": "markdown",
   "id": "302a5a1b",
   "metadata": {},
   "source": [
    "## 3. Train-Test Split"
   ]
  },
  {
   "cell_type": "code",
   "execution_count": 6,
   "id": "3faf62e0",
   "metadata": {},
   "outputs": [],
   "source": [
    "y = df[\"Survived\"]\n",
    "X = df.loc[:, df.columns != \"Survived\"]"
   ]
  },
  {
   "cell_type": "code",
   "execution_count": 7,
   "id": "4b0b6513",
   "metadata": {},
   "outputs": [
    {
     "data": {
      "text/plain": "((712, 11), (179, 11), (712,), (179,))"
     },
     "execution_count": 7,
     "metadata": {},
     "output_type": "execute_result"
    }
   ],
   "source": [
    "X_train, X_test, y_train, y_test = train_test_split(X, y, test_size = .2, random_state = 85)\n",
    "X_train.shape, X_test.shape, y_train.shape, y_test.shape"
   ]
  },
  {
   "cell_type": "code",
   "execution_count": 8,
   "id": "1b9aa0e6",
   "metadata": {},
   "outputs": [
    {
     "data": {
      "text/plain": "   PassengerId  Pclass                                               Name  \\\n0            1       3                            Braund, Mr. Owen Harris   \n1            2       1  Cumings, Mrs. John Bradley (Florence Briggs Th...   \n2            3       3                             Heikkinen, Miss. Laina   \n3            4       1       Futrelle, Mrs. Jacques Heath (Lily May Peel)   \n4            5       3                           Allen, Mr. William Henry   \n\n      Sex   Age  SibSp  Parch            Ticket     Fare Cabin Embarked  \n0    male  22.0      1      0         A/5 21171   7.2500   NaN        S  \n1  female  38.0      1      0          PC 17599  71.2833   C85        C  \n2  female  26.0      0      0  STON/O2. 3101282   7.9250   NaN        S  \n3  female  35.0      1      0            113803  53.1000  C123        S  \n4    male  35.0      0      0            373450   8.0500   NaN        S  ",
      "text/html": "<div>\n<style scoped>\n    .dataframe tbody tr th:only-of-type {\n        vertical-align: middle;\n    }\n\n    .dataframe tbody tr th {\n        vertical-align: top;\n    }\n\n    .dataframe thead th {\n        text-align: right;\n    }\n</style>\n<table border=\"1\" class=\"dataframe\">\n  <thead>\n    <tr style=\"text-align: right;\">\n      <th></th>\n      <th>PassengerId</th>\n      <th>Pclass</th>\n      <th>Name</th>\n      <th>Sex</th>\n      <th>Age</th>\n      <th>SibSp</th>\n      <th>Parch</th>\n      <th>Ticket</th>\n      <th>Fare</th>\n      <th>Cabin</th>\n      <th>Embarked</th>\n    </tr>\n  </thead>\n  <tbody>\n    <tr>\n      <th>0</th>\n      <td>1</td>\n      <td>3</td>\n      <td>Braund, Mr. Owen Harris</td>\n      <td>male</td>\n      <td>22.0</td>\n      <td>1</td>\n      <td>0</td>\n      <td>A/5 21171</td>\n      <td>7.2500</td>\n      <td>NaN</td>\n      <td>S</td>\n    </tr>\n    <tr>\n      <th>1</th>\n      <td>2</td>\n      <td>1</td>\n      <td>Cumings, Mrs. John Bradley (Florence Briggs Th...</td>\n      <td>female</td>\n      <td>38.0</td>\n      <td>1</td>\n      <td>0</td>\n      <td>PC 17599</td>\n      <td>71.2833</td>\n      <td>C85</td>\n      <td>C</td>\n    </tr>\n    <tr>\n      <th>2</th>\n      <td>3</td>\n      <td>3</td>\n      <td>Heikkinen, Miss. Laina</td>\n      <td>female</td>\n      <td>26.0</td>\n      <td>0</td>\n      <td>0</td>\n      <td>STON/O2. 3101282</td>\n      <td>7.9250</td>\n      <td>NaN</td>\n      <td>S</td>\n    </tr>\n    <tr>\n      <th>3</th>\n      <td>4</td>\n      <td>1</td>\n      <td>Futrelle, Mrs. Jacques Heath (Lily May Peel)</td>\n      <td>female</td>\n      <td>35.0</td>\n      <td>1</td>\n      <td>0</td>\n      <td>113803</td>\n      <td>53.1000</td>\n      <td>C123</td>\n      <td>S</td>\n    </tr>\n    <tr>\n      <th>4</th>\n      <td>5</td>\n      <td>3</td>\n      <td>Allen, Mr. William Henry</td>\n      <td>male</td>\n      <td>35.0</td>\n      <td>0</td>\n      <td>0</td>\n      <td>373450</td>\n      <td>8.0500</td>\n      <td>NaN</td>\n      <td>S</td>\n    </tr>\n  </tbody>\n</table>\n</div>"
     },
     "execution_count": 8,
     "metadata": {},
     "output_type": "execute_result"
    }
   ],
   "source": [
    "X.head()"
   ]
  },
  {
   "cell_type": "markdown",
   "id": "a41e6831",
   "metadata": {},
   "source": [
    "## 3. Define ColumnTransformers"
   ]
  },
  {
   "cell_type": "code",
   "execution_count": 9,
   "id": "30a94fd5",
   "metadata": {},
   "outputs": [],
   "source": [
    "# If i is np.isnan() check class and replace with median age of the class\n",
    "\n",
    "def impute_age_class(df, column_1, column_2):\n",
    "    df = df.copy()\n",
    "    df[column_1].fillna(df.groupby(column_2)[column_1].transform('mean').round(0), inplace=True)\n",
    "    return df"
   ]
  },
  {
   "cell_type": "code",
   "execution_count": 10,
   "id": "f5a877b4",
   "metadata": {},
   "outputs": [],
   "source": [
    "# Merge the columns parent/children and sibling/spouse together, create a new column \"Family\" and bin the values\n",
    "\n",
    "def merge_family(df, column_1, column_2):\n",
    "    df = df.copy()\n",
    "    df[\"Family\"] = df[column_1] + df[column_2]\n",
    "    return df"
   ]
  },
  {
   "cell_type": "code",
   "execution_count": 11,
   "id": "ae7cae13",
   "metadata": {},
   "outputs": [],
   "source": [
    "# Extract the title from \"Name\" and create a new column \n",
    "\n",
    "def extract_title(df, column_1):\n",
    "    df = df.copy()\n",
    "    df[\"Title\"] = df[column_1].map(lambda name:name.split(',')[1].split(\".\")[0].strip())\n",
    "    return df"
   ]
  },
  {
   "cell_type": "code",
   "execution_count": 12,
   "id": "e132234a",
   "metadata": {},
   "outputs": [],
   "source": [
    "numeric_features = [\"Fare\", \"Age\"]\n",
    "numeric_transformer = StandardScaler()\n",
    "\n",
    "categorical_features = [\"Sex\", \"Pclass\", \"Family\", \"Title\"]\n",
    "categorical_transformer = OneHotEncoder(handle_unknown=\"ignore\")\n",
    "\n",
    "embarked_pipeline = Pipeline(steps=\n",
    "                        [(\"imputer\", SimpleImputer(strategy=\"most_frequent\")), \n",
    "                       (\"ohe\", OneHotEncoder(handle_unknown=\"ignore\"))\n",
    "])"
   ]
  },
  {
   "cell_type": "code",
   "execution_count": 13,
   "id": "bed60eb5",
   "metadata": {},
   "outputs": [],
   "source": [
    "# Define a first preprocessor to create additional columns\n",
    "\n",
    "preprocessor_1 = Pipeline(steps=\n",
    "    [\n",
    "    (\"age_imputer\", FunctionTransformer(impute_age_class, validate=False, kw_args={'column_1': 'Age', 'column_2': 'Pclass'})),\n",
    "    (\"create_family_column\", FunctionTransformer(merge_family, validate=False, kw_args={'column_1': 'SibSp', 'column_2': 'Parch'})),\n",
    "    (\"create_family\", FunctionTransformer(extract_title, validate=False, kw_args={'column_1': 'Name'}))\n",
    "])"
   ]
  },
  {
   "cell_type": "code",
   "execution_count": 14,
   "outputs": [],
   "source": [
    "# Define a second preprocessor to execute ColumnTransformations\n",
    "\n",
    "preprocessor_2 = ColumnTransformer(\n",
    "    [\n",
    "    (\"num\", numeric_transformer, numeric_features),\n",
    "    (\"cat\", categorical_transformer, categorical_features),\n",
    "    (\"embarked\", embarked_pipeline, [\"Embarked\"])],\n",
    "    remainder = 'drop'\n",
    ")"
   ],
   "metadata": {
    "collapsed": false
   }
  },
  {
   "cell_type": "markdown",
   "id": "e3ed974e",
   "metadata": {},
   "source": [
    "## 4. Train ML models"
   ]
  },
  {
   "cell_type": "markdown",
   "id": "316055a5",
   "metadata": {},
   "source": [
    "### 4.1 Logistic Regression"
   ]
  },
  {
   "cell_type": "markdown",
   "id": "8dce0ccf",
   "metadata": {},
   "source": [
    "### 4.1.1 Normal Model"
   ]
  },
  {
   "cell_type": "code",
   "execution_count": 16,
   "outputs": [],
   "source": [
    "log_reg_pipeline = Pipeline(steps=\n",
    "                            [\n",
    "                                (\"create_new_columns\", preprocessor_1),\n",
    "                                (\"ColumnTransformer\", preprocessor_2),\n",
    "                                ('log_reg', LogisticRegression(max_iter = 1000, class_weight = 'balanced'))\n",
    "                            ])"
   ],
   "metadata": {
    "collapsed": false
   }
  },
  {
   "cell_type": "code",
   "execution_count": 17,
   "outputs": [
    {
     "data": {
      "text/plain": "Pipeline(steps=[('create_new_columns',\n                 Pipeline(steps=[('age_imputer',\n                                  FunctionTransformer(func=<function impute_age_class at 0x7fb774130ca0>,\n                                                      kw_args={'column_1': 'Age',\n                                                               'column_2': 'Pclass'})),\n                                 ('create_family_column',\n                                  FunctionTransformer(func=<function merge_family at 0x7fb773f70160>,\n                                                      kw_args={'column_1': 'SibSp',\n                                                               'column_2': 'Parch'})),\n                                 ('create_family',\n                                  FunctionT...\n                 ColumnTransformer(transformers=[('num', StandardScaler(),\n                                                  ['Fare', 'Age']),\n                                                 ('cat',\n                                                  OneHotEncoder(handle_unknown='ignore'),\n                                                  ['Sex', 'Pclass', 'Family',\n                                                   'Title']),\n                                                 ('embarked',\n                                                  Pipeline(steps=[('imputer',\n                                                                   SimpleImputer(strategy='most_frequent')),\n                                                                  ('ohe',\n                                                                   OneHotEncoder(handle_unknown='ignore'))]),\n                                                  ['Embarked'])])),\n                ('log_reg',\n                 LogisticRegression(class_weight='balanced', max_iter=1000))])",
      "text/html": "<style>#sk-3f8f22bd-858b-4f10-8f94-03c2d028d32f {color: black;background-color: white;}#sk-3f8f22bd-858b-4f10-8f94-03c2d028d32f pre{padding: 0;}#sk-3f8f22bd-858b-4f10-8f94-03c2d028d32f div.sk-toggleable {background-color: white;}#sk-3f8f22bd-858b-4f10-8f94-03c2d028d32f label.sk-toggleable__label {cursor: pointer;display: block;width: 100%;margin-bottom: 0;padding: 0.3em;box-sizing: border-box;text-align: center;}#sk-3f8f22bd-858b-4f10-8f94-03c2d028d32f label.sk-toggleable__label-arrow:before {content: \"▸\";float: left;margin-right: 0.25em;color: #696969;}#sk-3f8f22bd-858b-4f10-8f94-03c2d028d32f label.sk-toggleable__label-arrow:hover:before {color: black;}#sk-3f8f22bd-858b-4f10-8f94-03c2d028d32f div.sk-estimator:hover label.sk-toggleable__label-arrow:before {color: black;}#sk-3f8f22bd-858b-4f10-8f94-03c2d028d32f div.sk-toggleable__content {max-height: 0;max-width: 0;overflow: hidden;text-align: left;background-color: #f0f8ff;}#sk-3f8f22bd-858b-4f10-8f94-03c2d028d32f div.sk-toggleable__content pre {margin: 0.2em;color: black;border-radius: 0.25em;background-color: #f0f8ff;}#sk-3f8f22bd-858b-4f10-8f94-03c2d028d32f input.sk-toggleable__control:checked~div.sk-toggleable__content {max-height: 200px;max-width: 100%;overflow: auto;}#sk-3f8f22bd-858b-4f10-8f94-03c2d028d32f input.sk-toggleable__control:checked~label.sk-toggleable__label-arrow:before {content: \"▾\";}#sk-3f8f22bd-858b-4f10-8f94-03c2d028d32f div.sk-estimator input.sk-toggleable__control:checked~label.sk-toggleable__label {background-color: #d4ebff;}#sk-3f8f22bd-858b-4f10-8f94-03c2d028d32f div.sk-label input.sk-toggleable__control:checked~label.sk-toggleable__label {background-color: #d4ebff;}#sk-3f8f22bd-858b-4f10-8f94-03c2d028d32f input.sk-hidden--visually {border: 0;clip: rect(1px 1px 1px 1px);clip: rect(1px, 1px, 1px, 1px);height: 1px;margin: -1px;overflow: hidden;padding: 0;position: absolute;width: 1px;}#sk-3f8f22bd-858b-4f10-8f94-03c2d028d32f div.sk-estimator {font-family: monospace;background-color: #f0f8ff;border: 1px dotted black;border-radius: 0.25em;box-sizing: border-box;margin-bottom: 0.5em;}#sk-3f8f22bd-858b-4f10-8f94-03c2d028d32f div.sk-estimator:hover {background-color: #d4ebff;}#sk-3f8f22bd-858b-4f10-8f94-03c2d028d32f div.sk-parallel-item::after {content: \"\";width: 100%;border-bottom: 1px solid gray;flex-grow: 1;}#sk-3f8f22bd-858b-4f10-8f94-03c2d028d32f div.sk-label:hover label.sk-toggleable__label {background-color: #d4ebff;}#sk-3f8f22bd-858b-4f10-8f94-03c2d028d32f div.sk-serial::before {content: \"\";position: absolute;border-left: 1px solid gray;box-sizing: border-box;top: 2em;bottom: 0;left: 50%;}#sk-3f8f22bd-858b-4f10-8f94-03c2d028d32f div.sk-serial {display: flex;flex-direction: column;align-items: center;background-color: white;padding-right: 0.2em;padding-left: 0.2em;}#sk-3f8f22bd-858b-4f10-8f94-03c2d028d32f div.sk-item {z-index: 1;}#sk-3f8f22bd-858b-4f10-8f94-03c2d028d32f div.sk-parallel {display: flex;align-items: stretch;justify-content: center;background-color: white;}#sk-3f8f22bd-858b-4f10-8f94-03c2d028d32f div.sk-parallel::before {content: \"\";position: absolute;border-left: 1px solid gray;box-sizing: border-box;top: 2em;bottom: 0;left: 50%;}#sk-3f8f22bd-858b-4f10-8f94-03c2d028d32f div.sk-parallel-item {display: flex;flex-direction: column;position: relative;background-color: white;}#sk-3f8f22bd-858b-4f10-8f94-03c2d028d32f div.sk-parallel-item:first-child::after {align-self: flex-end;width: 50%;}#sk-3f8f22bd-858b-4f10-8f94-03c2d028d32f div.sk-parallel-item:last-child::after {align-self: flex-start;width: 50%;}#sk-3f8f22bd-858b-4f10-8f94-03c2d028d32f div.sk-parallel-item:only-child::after {width: 0;}#sk-3f8f22bd-858b-4f10-8f94-03c2d028d32f div.sk-dashed-wrapped {border: 1px dashed gray;margin: 0 0.4em 0.5em 0.4em;box-sizing: border-box;padding-bottom: 0.4em;background-color: white;position: relative;}#sk-3f8f22bd-858b-4f10-8f94-03c2d028d32f div.sk-label label {font-family: monospace;font-weight: bold;background-color: white;display: inline-block;line-height: 1.2em;}#sk-3f8f22bd-858b-4f10-8f94-03c2d028d32f div.sk-label-container {position: relative;z-index: 2;text-align: center;}#sk-3f8f22bd-858b-4f10-8f94-03c2d028d32f div.sk-container {/* jupyter's `normalize.less` sets `[hidden] { display: none; }` but bootstrap.min.css set `[hidden] { display: none !important; }` so we also need the `!important` here to be able to override the default hidden behavior on the sphinx rendered scikit-learn.org. See: https://github.com/scikit-learn/scikit-learn/issues/21755 */display: inline-block !important;position: relative;}#sk-3f8f22bd-858b-4f10-8f94-03c2d028d32f div.sk-text-repr-fallback {display: none;}</style><div id=\"sk-3f8f22bd-858b-4f10-8f94-03c2d028d32f\" class=\"sk-top-container\"><div class=\"sk-text-repr-fallback\"><pre>Pipeline(steps=[(&#x27;create_new_columns&#x27;,\n                 Pipeline(steps=[(&#x27;age_imputer&#x27;,\n                                  FunctionTransformer(func=&lt;function impute_age_class at 0x7fb774130ca0&gt;,\n                                                      kw_args={&#x27;column_1&#x27;: &#x27;Age&#x27;,\n                                                               &#x27;column_2&#x27;: &#x27;Pclass&#x27;})),\n                                 (&#x27;create_family_column&#x27;,\n                                  FunctionTransformer(func=&lt;function merge_family at 0x7fb773f70160&gt;,\n                                                      kw_args={&#x27;column_1&#x27;: &#x27;SibSp&#x27;,\n                                                               &#x27;column_2&#x27;: &#x27;Parch&#x27;})),\n                                 (&#x27;create_family&#x27;,\n                                  FunctionT...\n                 ColumnTransformer(transformers=[(&#x27;num&#x27;, StandardScaler(),\n                                                  [&#x27;Fare&#x27;, &#x27;Age&#x27;]),\n                                                 (&#x27;cat&#x27;,\n                                                  OneHotEncoder(handle_unknown=&#x27;ignore&#x27;),\n                                                  [&#x27;Sex&#x27;, &#x27;Pclass&#x27;, &#x27;Family&#x27;,\n                                                   &#x27;Title&#x27;]),\n                                                 (&#x27;embarked&#x27;,\n                                                  Pipeline(steps=[(&#x27;imputer&#x27;,\n                                                                   SimpleImputer(strategy=&#x27;most_frequent&#x27;)),\n                                                                  (&#x27;ohe&#x27;,\n                                                                   OneHotEncoder(handle_unknown=&#x27;ignore&#x27;))]),\n                                                  [&#x27;Embarked&#x27;])])),\n                (&#x27;log_reg&#x27;,\n                 LogisticRegression(class_weight=&#x27;balanced&#x27;, max_iter=1000))])</pre><b>Please rerun this cell to show the HTML repr or trust the notebook.</b></div><div class=\"sk-container\" hidden><div class=\"sk-item sk-dashed-wrapped\"><div class=\"sk-label-container\"><div class=\"sk-label sk-toggleable\"><input class=\"sk-toggleable__control sk-hidden--visually\" id=\"1d22eff5-297e-4295-a1cc-29f919bfa767\" type=\"checkbox\" ><label for=\"1d22eff5-297e-4295-a1cc-29f919bfa767\" class=\"sk-toggleable__label sk-toggleable__label-arrow\">Pipeline</label><div class=\"sk-toggleable__content\"><pre>Pipeline(steps=[(&#x27;create_new_columns&#x27;,\n                 Pipeline(steps=[(&#x27;age_imputer&#x27;,\n                                  FunctionTransformer(func=&lt;function impute_age_class at 0x7fb774130ca0&gt;,\n                                                      kw_args={&#x27;column_1&#x27;: &#x27;Age&#x27;,\n                                                               &#x27;column_2&#x27;: &#x27;Pclass&#x27;})),\n                                 (&#x27;create_family_column&#x27;,\n                                  FunctionTransformer(func=&lt;function merge_family at 0x7fb773f70160&gt;,\n                                                      kw_args={&#x27;column_1&#x27;: &#x27;SibSp&#x27;,\n                                                               &#x27;column_2&#x27;: &#x27;Parch&#x27;})),\n                                 (&#x27;create_family&#x27;,\n                                  FunctionT...\n                 ColumnTransformer(transformers=[(&#x27;num&#x27;, StandardScaler(),\n                                                  [&#x27;Fare&#x27;, &#x27;Age&#x27;]),\n                                                 (&#x27;cat&#x27;,\n                                                  OneHotEncoder(handle_unknown=&#x27;ignore&#x27;),\n                                                  [&#x27;Sex&#x27;, &#x27;Pclass&#x27;, &#x27;Family&#x27;,\n                                                   &#x27;Title&#x27;]),\n                                                 (&#x27;embarked&#x27;,\n                                                  Pipeline(steps=[(&#x27;imputer&#x27;,\n                                                                   SimpleImputer(strategy=&#x27;most_frequent&#x27;)),\n                                                                  (&#x27;ohe&#x27;,\n                                                                   OneHotEncoder(handle_unknown=&#x27;ignore&#x27;))]),\n                                                  [&#x27;Embarked&#x27;])])),\n                (&#x27;log_reg&#x27;,\n                 LogisticRegression(class_weight=&#x27;balanced&#x27;, max_iter=1000))])</pre></div></div></div><div class=\"sk-serial\"><div class=\"sk-item\"><div class=\"sk-label-container\"><div class=\"sk-label sk-toggleable\"><input class=\"sk-toggleable__control sk-hidden--visually\" id=\"baaec104-f275-4e24-b571-21859fbfa362\" type=\"checkbox\" ><label for=\"baaec104-f275-4e24-b571-21859fbfa362\" class=\"sk-toggleable__label sk-toggleable__label-arrow\">create_new_columns: Pipeline</label><div class=\"sk-toggleable__content\"><pre>Pipeline(steps=[(&#x27;age_imputer&#x27;,\n                 FunctionTransformer(func=&lt;function impute_age_class at 0x7fb774130ca0&gt;,\n                                     kw_args={&#x27;column_1&#x27;: &#x27;Age&#x27;,\n                                              &#x27;column_2&#x27;: &#x27;Pclass&#x27;})),\n                (&#x27;create_family_column&#x27;,\n                 FunctionTransformer(func=&lt;function merge_family at 0x7fb773f70160&gt;,\n                                     kw_args={&#x27;column_1&#x27;: &#x27;SibSp&#x27;,\n                                              &#x27;column_2&#x27;: &#x27;Parch&#x27;})),\n                (&#x27;create_family&#x27;,\n                 FunctionTransformer(func=&lt;function extract_title at 0x7fb774130d30&gt;,\n                                     kw_args={&#x27;column_1&#x27;: &#x27;Name&#x27;}))])</pre></div></div></div><div class=\"sk-serial\"><div class=\"sk-item\"><div class=\"sk-estimator sk-toggleable\"><input class=\"sk-toggleable__control sk-hidden--visually\" id=\"180813ab-7446-490c-9bc7-98816b1d1023\" type=\"checkbox\" ><label for=\"180813ab-7446-490c-9bc7-98816b1d1023\" class=\"sk-toggleable__label sk-toggleable__label-arrow\">FunctionTransformer</label><div class=\"sk-toggleable__content\"><pre>FunctionTransformer(func=&lt;function impute_age_class at 0x7fb774130ca0&gt;,\n                    kw_args={&#x27;column_1&#x27;: &#x27;Age&#x27;, &#x27;column_2&#x27;: &#x27;Pclass&#x27;})</pre></div></div></div><div class=\"sk-item\"><div class=\"sk-estimator sk-toggleable\"><input class=\"sk-toggleable__control sk-hidden--visually\" id=\"4d560884-15cb-463f-92a2-88e64169eb07\" type=\"checkbox\" ><label for=\"4d560884-15cb-463f-92a2-88e64169eb07\" class=\"sk-toggleable__label sk-toggleable__label-arrow\">FunctionTransformer</label><div class=\"sk-toggleable__content\"><pre>FunctionTransformer(func=&lt;function merge_family at 0x7fb773f70160&gt;,\n                    kw_args={&#x27;column_1&#x27;: &#x27;SibSp&#x27;, &#x27;column_2&#x27;: &#x27;Parch&#x27;})</pre></div></div></div><div class=\"sk-item\"><div class=\"sk-estimator sk-toggleable\"><input class=\"sk-toggleable__control sk-hidden--visually\" id=\"a7907e71-14ee-468c-90f2-a2c945afbee6\" type=\"checkbox\" ><label for=\"a7907e71-14ee-468c-90f2-a2c945afbee6\" class=\"sk-toggleable__label sk-toggleable__label-arrow\">FunctionTransformer</label><div class=\"sk-toggleable__content\"><pre>FunctionTransformer(func=&lt;function extract_title at 0x7fb774130d30&gt;,\n                    kw_args={&#x27;column_1&#x27;: &#x27;Name&#x27;})</pre></div></div></div></div></div><div class=\"sk-item sk-dashed-wrapped\"><div class=\"sk-label-container\"><div class=\"sk-label sk-toggleable\"><input class=\"sk-toggleable__control sk-hidden--visually\" id=\"95fd435f-42d8-4304-b62c-c0e8a797448b\" type=\"checkbox\" ><label for=\"95fd435f-42d8-4304-b62c-c0e8a797448b\" class=\"sk-toggleable__label sk-toggleable__label-arrow\">ColumnTransformer: ColumnTransformer</label><div class=\"sk-toggleable__content\"><pre>ColumnTransformer(transformers=[(&#x27;num&#x27;, StandardScaler(), [&#x27;Fare&#x27;, &#x27;Age&#x27;]),\n                                (&#x27;cat&#x27;, OneHotEncoder(handle_unknown=&#x27;ignore&#x27;),\n                                 [&#x27;Sex&#x27;, &#x27;Pclass&#x27;, &#x27;Family&#x27;, &#x27;Title&#x27;]),\n                                (&#x27;embarked&#x27;,\n                                 Pipeline(steps=[(&#x27;imputer&#x27;,\n                                                  SimpleImputer(strategy=&#x27;most_frequent&#x27;)),\n                                                 (&#x27;ohe&#x27;,\n                                                  OneHotEncoder(handle_unknown=&#x27;ignore&#x27;))]),\n                                 [&#x27;Embarked&#x27;])])</pre></div></div></div><div class=\"sk-parallel\"><div class=\"sk-parallel-item\"><div class=\"sk-item\"><div class=\"sk-label-container\"><div class=\"sk-label sk-toggleable\"><input class=\"sk-toggleable__control sk-hidden--visually\" id=\"7a47b3e1-9c01-4967-b6fd-9080ef32b008\" type=\"checkbox\" ><label for=\"7a47b3e1-9c01-4967-b6fd-9080ef32b008\" class=\"sk-toggleable__label sk-toggleable__label-arrow\">num</label><div class=\"sk-toggleable__content\"><pre>[&#x27;Fare&#x27;, &#x27;Age&#x27;]</pre></div></div></div><div class=\"sk-serial\"><div class=\"sk-item\"><div class=\"sk-estimator sk-toggleable\"><input class=\"sk-toggleable__control sk-hidden--visually\" id=\"a8c4103c-487a-4262-a9df-bb24fea653d2\" type=\"checkbox\" ><label for=\"a8c4103c-487a-4262-a9df-bb24fea653d2\" class=\"sk-toggleable__label sk-toggleable__label-arrow\">StandardScaler</label><div class=\"sk-toggleable__content\"><pre>StandardScaler()</pre></div></div></div></div></div></div><div class=\"sk-parallel-item\"><div class=\"sk-item\"><div class=\"sk-label-container\"><div class=\"sk-label sk-toggleable\"><input class=\"sk-toggleable__control sk-hidden--visually\" id=\"18afd72b-db86-4904-80de-361b62761011\" type=\"checkbox\" ><label for=\"18afd72b-db86-4904-80de-361b62761011\" class=\"sk-toggleable__label sk-toggleable__label-arrow\">cat</label><div class=\"sk-toggleable__content\"><pre>[&#x27;Sex&#x27;, &#x27;Pclass&#x27;, &#x27;Family&#x27;, &#x27;Title&#x27;]</pre></div></div></div><div class=\"sk-serial\"><div class=\"sk-item\"><div class=\"sk-estimator sk-toggleable\"><input class=\"sk-toggleable__control sk-hidden--visually\" id=\"4b9ca2bc-a86f-4c3e-af5d-3af485dea3c8\" type=\"checkbox\" ><label for=\"4b9ca2bc-a86f-4c3e-af5d-3af485dea3c8\" class=\"sk-toggleable__label sk-toggleable__label-arrow\">OneHotEncoder</label><div class=\"sk-toggleable__content\"><pre>OneHotEncoder(handle_unknown=&#x27;ignore&#x27;)</pre></div></div></div></div></div></div><div class=\"sk-parallel-item\"><div class=\"sk-item\"><div class=\"sk-label-container\"><div class=\"sk-label sk-toggleable\"><input class=\"sk-toggleable__control sk-hidden--visually\" id=\"292f5ecc-ee9c-4eae-9be8-4e87f69de0a5\" type=\"checkbox\" ><label for=\"292f5ecc-ee9c-4eae-9be8-4e87f69de0a5\" class=\"sk-toggleable__label sk-toggleable__label-arrow\">embarked</label><div class=\"sk-toggleable__content\"><pre>[&#x27;Embarked&#x27;]</pre></div></div></div><div class=\"sk-serial\"><div class=\"sk-item\"><div class=\"sk-serial\"><div class=\"sk-item\"><div class=\"sk-estimator sk-toggleable\"><input class=\"sk-toggleable__control sk-hidden--visually\" id=\"f7ecca0f-9347-4f92-8e62-f247d5b60f36\" type=\"checkbox\" ><label for=\"f7ecca0f-9347-4f92-8e62-f247d5b60f36\" class=\"sk-toggleable__label sk-toggleable__label-arrow\">SimpleImputer</label><div class=\"sk-toggleable__content\"><pre>SimpleImputer(strategy=&#x27;most_frequent&#x27;)</pre></div></div></div><div class=\"sk-item\"><div class=\"sk-estimator sk-toggleable\"><input class=\"sk-toggleable__control sk-hidden--visually\" id=\"fdf8818e-0426-49f3-bb17-13263a221981\" type=\"checkbox\" ><label for=\"fdf8818e-0426-49f3-bb17-13263a221981\" class=\"sk-toggleable__label sk-toggleable__label-arrow\">OneHotEncoder</label><div class=\"sk-toggleable__content\"><pre>OneHotEncoder(handle_unknown=&#x27;ignore&#x27;)</pre></div></div></div></div></div></div></div></div></div></div><div class=\"sk-item\"><div class=\"sk-estimator sk-toggleable\"><input class=\"sk-toggleable__control sk-hidden--visually\" id=\"a56456c4-8eb6-4848-9e78-3f846c8f8342\" type=\"checkbox\" ><label for=\"a56456c4-8eb6-4848-9e78-3f846c8f8342\" class=\"sk-toggleable__label sk-toggleable__label-arrow\">LogisticRegression</label><div class=\"sk-toggleable__content\"><pre>LogisticRegression(class_weight=&#x27;balanced&#x27;, max_iter=1000)</pre></div></div></div></div></div></div></div>"
     },
     "execution_count": 17,
     "metadata": {},
     "output_type": "execute_result"
    }
   ],
   "source": [
    "log_reg_pipeline.fit(X_train, y_train)"
   ],
   "metadata": {
    "collapsed": false
   }
  },
  {
   "cell_type": "code",
   "execution_count": 18,
   "outputs": [
    {
     "name": "stdout",
     "output_type": "stream",
     "text": [
      "The train accuracy of log_reg_pipeline is: 0.83\n",
      "The test accuracy of log_reg_pipeline is: 0.8\n"
     ]
    }
   ],
   "source": [
    "print(f\"\"\"The train accuracy of log_reg_pipeline is: {round(log_reg_pipeline.score(X_train,y_train),2)}\n",
    "The test accuracy of log_reg_pipeline is: {round(log_reg_pipeline.score(X_test,y_test),2)}\"\"\")"
   ],
   "metadata": {
    "collapsed": false
   }
  },
  {
   "cell_type": "markdown",
   "id": "a54177d1",
   "metadata": {},
   "source": [
    "### 4.1.2 Evaluating classifiers"
   ]
  },
  {
   "cell_type": "code",
   "execution_count": 19,
   "id": "643b842b",
   "metadata": {},
   "outputs": [
    {
     "name": "stdout",
     "output_type": "stream",
     "text": [
      "Accuracy: 0.83\n"
     ]
    }
   ],
   "source": [
    "from sklearn.metrics import accuracy_score \n",
    "\n",
    "ypred = log_reg_pipeline.predict(X_train)\n",
    "print(f\"Accuracy: {round(accuracy_score(y_train, ypred),2)}\")"
   ]
  },
  {
   "cell_type": "code",
   "execution_count": null,
   "id": "af97de8c",
   "metadata": {},
   "outputs": [],
   "source": [
    "from sklearn.metrics import precision_score, recall_score, f1_score\n",
    "\n",
    "print(f\"\"\"Precision = {round(precision_score(y_train,ypred),2)} \n",
    "Recall = {round(recall_score(y_train,ypred),2)}\n",
    "F1 = {round(f1_score(y_train,ypred),2)}\"\"\")"
   ]
  },
  {
   "cell_type": "code",
   "execution_count": null,
   "id": "7d87cb6b",
   "metadata": {},
   "outputs": [],
   "source": [
    "from sklearn.metrics import confusion_matrix, ConfusionMatrixDisplay\n",
    "from sklearn.metrics import plot_confusion_matrix\n",
    "\n",
    "conf = confusion_matrix(y_train, ypred)\n",
    "conf"
   ]
  },
  {
   "cell_type": "code",
   "execution_count": null,
   "id": "bf5387a2",
   "metadata": {},
   "outputs": [],
   "source": [
    "plot_confusion_matrix(log_reg_pipeline, X_train, y_train, normalize=None)"
   ]
  },
  {
   "cell_type": "code",
   "execution_count": null,
   "id": "b29e3a0b",
   "metadata": {},
   "outputs": [],
   "source": [
    "disp = ConfusionMatrixDisplay(confusion_matrix=conf, display_labels=log_reg_pipeline.classes_)\n",
    "disp.plot()\n",
    "plt.show()"
   ]
  },
  {
   "cell_type": "markdown",
   "id": "03749d92",
   "metadata": {},
   "source": [
    "### 4.2 Random Forest"
   ]
  },
  {
   "cell_type": "code",
   "execution_count": 20,
   "id": "f32c1001",
   "metadata": {},
   "outputs": [],
   "source": [
    "forest_pipeline = Pipeline(steps=\n",
    "                           [\n",
    "                               (\"create_new_columns\", preprocessor_1),\n",
    "                               (\"ColumnTransformer\", preprocessor_2),\n",
    "                               ('forest', RandomForestClassifier(n_estimators = 35, max_depth = 3))\n",
    "                           ])"
   ]
  },
  {
   "cell_type": "code",
   "execution_count": 21,
   "id": "8838e5a3",
   "metadata": {},
   "outputs": [
    {
     "data": {
      "text/plain": "Pipeline(steps=[('create_new_columns',\n                 Pipeline(steps=[('age_imputer',\n                                  FunctionTransformer(func=<function impute_age_class at 0x7fb774130ca0>,\n                                                      kw_args={'column_1': 'Age',\n                                                               'column_2': 'Pclass'})),\n                                 ('create_family_column',\n                                  FunctionTransformer(func=<function merge_family at 0x7fb773f70160>,\n                                                      kw_args={'column_1': 'SibSp',\n                                                               'column_2': 'Parch'})),\n                                 ('create_family',\n                                  FunctionT...\n                 ColumnTransformer(transformers=[('num', StandardScaler(),\n                                                  ['Fare', 'Age']),\n                                                 ('cat',\n                                                  OneHotEncoder(handle_unknown='ignore'),\n                                                  ['Sex', 'Pclass', 'Family',\n                                                   'Title']),\n                                                 ('embarked',\n                                                  Pipeline(steps=[('imputer',\n                                                                   SimpleImputer(strategy='most_frequent')),\n                                                                  ('ohe',\n                                                                   OneHotEncoder(handle_unknown='ignore'))]),\n                                                  ['Embarked'])])),\n                ('forest',\n                 RandomForestClassifier(max_depth=3, n_estimators=35))])",
      "text/html": "<style>#sk-c607d8ef-df7c-46b5-9ec5-beb2ea4d5ebb {color: black;background-color: white;}#sk-c607d8ef-df7c-46b5-9ec5-beb2ea4d5ebb pre{padding: 0;}#sk-c607d8ef-df7c-46b5-9ec5-beb2ea4d5ebb div.sk-toggleable {background-color: white;}#sk-c607d8ef-df7c-46b5-9ec5-beb2ea4d5ebb label.sk-toggleable__label {cursor: pointer;display: block;width: 100%;margin-bottom: 0;padding: 0.3em;box-sizing: border-box;text-align: center;}#sk-c607d8ef-df7c-46b5-9ec5-beb2ea4d5ebb label.sk-toggleable__label-arrow:before {content: \"▸\";float: left;margin-right: 0.25em;color: #696969;}#sk-c607d8ef-df7c-46b5-9ec5-beb2ea4d5ebb label.sk-toggleable__label-arrow:hover:before {color: black;}#sk-c607d8ef-df7c-46b5-9ec5-beb2ea4d5ebb div.sk-estimator:hover label.sk-toggleable__label-arrow:before {color: black;}#sk-c607d8ef-df7c-46b5-9ec5-beb2ea4d5ebb div.sk-toggleable__content {max-height: 0;max-width: 0;overflow: hidden;text-align: left;background-color: #f0f8ff;}#sk-c607d8ef-df7c-46b5-9ec5-beb2ea4d5ebb div.sk-toggleable__content pre {margin: 0.2em;color: black;border-radius: 0.25em;background-color: #f0f8ff;}#sk-c607d8ef-df7c-46b5-9ec5-beb2ea4d5ebb input.sk-toggleable__control:checked~div.sk-toggleable__content {max-height: 200px;max-width: 100%;overflow: auto;}#sk-c607d8ef-df7c-46b5-9ec5-beb2ea4d5ebb input.sk-toggleable__control:checked~label.sk-toggleable__label-arrow:before {content: \"▾\";}#sk-c607d8ef-df7c-46b5-9ec5-beb2ea4d5ebb div.sk-estimator input.sk-toggleable__control:checked~label.sk-toggleable__label {background-color: #d4ebff;}#sk-c607d8ef-df7c-46b5-9ec5-beb2ea4d5ebb div.sk-label input.sk-toggleable__control:checked~label.sk-toggleable__label {background-color: #d4ebff;}#sk-c607d8ef-df7c-46b5-9ec5-beb2ea4d5ebb input.sk-hidden--visually {border: 0;clip: rect(1px 1px 1px 1px);clip: rect(1px, 1px, 1px, 1px);height: 1px;margin: -1px;overflow: hidden;padding: 0;position: absolute;width: 1px;}#sk-c607d8ef-df7c-46b5-9ec5-beb2ea4d5ebb div.sk-estimator {font-family: monospace;background-color: #f0f8ff;border: 1px dotted black;border-radius: 0.25em;box-sizing: border-box;margin-bottom: 0.5em;}#sk-c607d8ef-df7c-46b5-9ec5-beb2ea4d5ebb div.sk-estimator:hover {background-color: #d4ebff;}#sk-c607d8ef-df7c-46b5-9ec5-beb2ea4d5ebb div.sk-parallel-item::after {content: \"\";width: 100%;border-bottom: 1px solid gray;flex-grow: 1;}#sk-c607d8ef-df7c-46b5-9ec5-beb2ea4d5ebb div.sk-label:hover label.sk-toggleable__label {background-color: #d4ebff;}#sk-c607d8ef-df7c-46b5-9ec5-beb2ea4d5ebb div.sk-serial::before {content: \"\";position: absolute;border-left: 1px solid gray;box-sizing: border-box;top: 2em;bottom: 0;left: 50%;}#sk-c607d8ef-df7c-46b5-9ec5-beb2ea4d5ebb div.sk-serial {display: flex;flex-direction: column;align-items: center;background-color: white;padding-right: 0.2em;padding-left: 0.2em;}#sk-c607d8ef-df7c-46b5-9ec5-beb2ea4d5ebb div.sk-item {z-index: 1;}#sk-c607d8ef-df7c-46b5-9ec5-beb2ea4d5ebb div.sk-parallel {display: flex;align-items: stretch;justify-content: center;background-color: white;}#sk-c607d8ef-df7c-46b5-9ec5-beb2ea4d5ebb div.sk-parallel::before {content: \"\";position: absolute;border-left: 1px solid gray;box-sizing: border-box;top: 2em;bottom: 0;left: 50%;}#sk-c607d8ef-df7c-46b5-9ec5-beb2ea4d5ebb div.sk-parallel-item {display: flex;flex-direction: column;position: relative;background-color: white;}#sk-c607d8ef-df7c-46b5-9ec5-beb2ea4d5ebb div.sk-parallel-item:first-child::after {align-self: flex-end;width: 50%;}#sk-c607d8ef-df7c-46b5-9ec5-beb2ea4d5ebb div.sk-parallel-item:last-child::after {align-self: flex-start;width: 50%;}#sk-c607d8ef-df7c-46b5-9ec5-beb2ea4d5ebb div.sk-parallel-item:only-child::after {width: 0;}#sk-c607d8ef-df7c-46b5-9ec5-beb2ea4d5ebb div.sk-dashed-wrapped {border: 1px dashed gray;margin: 0 0.4em 0.5em 0.4em;box-sizing: border-box;padding-bottom: 0.4em;background-color: white;position: relative;}#sk-c607d8ef-df7c-46b5-9ec5-beb2ea4d5ebb div.sk-label label {font-family: monospace;font-weight: bold;background-color: white;display: inline-block;line-height: 1.2em;}#sk-c607d8ef-df7c-46b5-9ec5-beb2ea4d5ebb div.sk-label-container {position: relative;z-index: 2;text-align: center;}#sk-c607d8ef-df7c-46b5-9ec5-beb2ea4d5ebb div.sk-container {/* jupyter's `normalize.less` sets `[hidden] { display: none; }` but bootstrap.min.css set `[hidden] { display: none !important; }` so we also need the `!important` here to be able to override the default hidden behavior on the sphinx rendered scikit-learn.org. See: https://github.com/scikit-learn/scikit-learn/issues/21755 */display: inline-block !important;position: relative;}#sk-c607d8ef-df7c-46b5-9ec5-beb2ea4d5ebb div.sk-text-repr-fallback {display: none;}</style><div id=\"sk-c607d8ef-df7c-46b5-9ec5-beb2ea4d5ebb\" class=\"sk-top-container\"><div class=\"sk-text-repr-fallback\"><pre>Pipeline(steps=[(&#x27;create_new_columns&#x27;,\n                 Pipeline(steps=[(&#x27;age_imputer&#x27;,\n                                  FunctionTransformer(func=&lt;function impute_age_class at 0x7fb774130ca0&gt;,\n                                                      kw_args={&#x27;column_1&#x27;: &#x27;Age&#x27;,\n                                                               &#x27;column_2&#x27;: &#x27;Pclass&#x27;})),\n                                 (&#x27;create_family_column&#x27;,\n                                  FunctionTransformer(func=&lt;function merge_family at 0x7fb773f70160&gt;,\n                                                      kw_args={&#x27;column_1&#x27;: &#x27;SibSp&#x27;,\n                                                               &#x27;column_2&#x27;: &#x27;Parch&#x27;})),\n                                 (&#x27;create_family&#x27;,\n                                  FunctionT...\n                 ColumnTransformer(transformers=[(&#x27;num&#x27;, StandardScaler(),\n                                                  [&#x27;Fare&#x27;, &#x27;Age&#x27;]),\n                                                 (&#x27;cat&#x27;,\n                                                  OneHotEncoder(handle_unknown=&#x27;ignore&#x27;),\n                                                  [&#x27;Sex&#x27;, &#x27;Pclass&#x27;, &#x27;Family&#x27;,\n                                                   &#x27;Title&#x27;]),\n                                                 (&#x27;embarked&#x27;,\n                                                  Pipeline(steps=[(&#x27;imputer&#x27;,\n                                                                   SimpleImputer(strategy=&#x27;most_frequent&#x27;)),\n                                                                  (&#x27;ohe&#x27;,\n                                                                   OneHotEncoder(handle_unknown=&#x27;ignore&#x27;))]),\n                                                  [&#x27;Embarked&#x27;])])),\n                (&#x27;forest&#x27;,\n                 RandomForestClassifier(max_depth=3, n_estimators=35))])</pre><b>Please rerun this cell to show the HTML repr or trust the notebook.</b></div><div class=\"sk-container\" hidden><div class=\"sk-item sk-dashed-wrapped\"><div class=\"sk-label-container\"><div class=\"sk-label sk-toggleable\"><input class=\"sk-toggleable__control sk-hidden--visually\" id=\"c1a9a277-5c3a-4f11-9118-0be76754f14b\" type=\"checkbox\" ><label for=\"c1a9a277-5c3a-4f11-9118-0be76754f14b\" class=\"sk-toggleable__label sk-toggleable__label-arrow\">Pipeline</label><div class=\"sk-toggleable__content\"><pre>Pipeline(steps=[(&#x27;create_new_columns&#x27;,\n                 Pipeline(steps=[(&#x27;age_imputer&#x27;,\n                                  FunctionTransformer(func=&lt;function impute_age_class at 0x7fb774130ca0&gt;,\n                                                      kw_args={&#x27;column_1&#x27;: &#x27;Age&#x27;,\n                                                               &#x27;column_2&#x27;: &#x27;Pclass&#x27;})),\n                                 (&#x27;create_family_column&#x27;,\n                                  FunctionTransformer(func=&lt;function merge_family at 0x7fb773f70160&gt;,\n                                                      kw_args={&#x27;column_1&#x27;: &#x27;SibSp&#x27;,\n                                                               &#x27;column_2&#x27;: &#x27;Parch&#x27;})),\n                                 (&#x27;create_family&#x27;,\n                                  FunctionT...\n                 ColumnTransformer(transformers=[(&#x27;num&#x27;, StandardScaler(),\n                                                  [&#x27;Fare&#x27;, &#x27;Age&#x27;]),\n                                                 (&#x27;cat&#x27;,\n                                                  OneHotEncoder(handle_unknown=&#x27;ignore&#x27;),\n                                                  [&#x27;Sex&#x27;, &#x27;Pclass&#x27;, &#x27;Family&#x27;,\n                                                   &#x27;Title&#x27;]),\n                                                 (&#x27;embarked&#x27;,\n                                                  Pipeline(steps=[(&#x27;imputer&#x27;,\n                                                                   SimpleImputer(strategy=&#x27;most_frequent&#x27;)),\n                                                                  (&#x27;ohe&#x27;,\n                                                                   OneHotEncoder(handle_unknown=&#x27;ignore&#x27;))]),\n                                                  [&#x27;Embarked&#x27;])])),\n                (&#x27;forest&#x27;,\n                 RandomForestClassifier(max_depth=3, n_estimators=35))])</pre></div></div></div><div class=\"sk-serial\"><div class=\"sk-item\"><div class=\"sk-label-container\"><div class=\"sk-label sk-toggleable\"><input class=\"sk-toggleable__control sk-hidden--visually\" id=\"5689edf7-ead5-4aba-9b16-923bec283a2d\" type=\"checkbox\" ><label for=\"5689edf7-ead5-4aba-9b16-923bec283a2d\" class=\"sk-toggleable__label sk-toggleable__label-arrow\">create_new_columns: Pipeline</label><div class=\"sk-toggleable__content\"><pre>Pipeline(steps=[(&#x27;age_imputer&#x27;,\n                 FunctionTransformer(func=&lt;function impute_age_class at 0x7fb774130ca0&gt;,\n                                     kw_args={&#x27;column_1&#x27;: &#x27;Age&#x27;,\n                                              &#x27;column_2&#x27;: &#x27;Pclass&#x27;})),\n                (&#x27;create_family_column&#x27;,\n                 FunctionTransformer(func=&lt;function merge_family at 0x7fb773f70160&gt;,\n                                     kw_args={&#x27;column_1&#x27;: &#x27;SibSp&#x27;,\n                                              &#x27;column_2&#x27;: &#x27;Parch&#x27;})),\n                (&#x27;create_family&#x27;,\n                 FunctionTransformer(func=&lt;function extract_title at 0x7fb774130d30&gt;,\n                                     kw_args={&#x27;column_1&#x27;: &#x27;Name&#x27;}))])</pre></div></div></div><div class=\"sk-serial\"><div class=\"sk-item\"><div class=\"sk-estimator sk-toggleable\"><input class=\"sk-toggleable__control sk-hidden--visually\" id=\"f7425e06-d2e3-4e1e-969f-39d26b7d3931\" type=\"checkbox\" ><label for=\"f7425e06-d2e3-4e1e-969f-39d26b7d3931\" class=\"sk-toggleable__label sk-toggleable__label-arrow\">FunctionTransformer</label><div class=\"sk-toggleable__content\"><pre>FunctionTransformer(func=&lt;function impute_age_class at 0x7fb774130ca0&gt;,\n                    kw_args={&#x27;column_1&#x27;: &#x27;Age&#x27;, &#x27;column_2&#x27;: &#x27;Pclass&#x27;})</pre></div></div></div><div class=\"sk-item\"><div class=\"sk-estimator sk-toggleable\"><input class=\"sk-toggleable__control sk-hidden--visually\" id=\"c61bcc70-e74c-438c-9106-32bf206250ea\" type=\"checkbox\" ><label for=\"c61bcc70-e74c-438c-9106-32bf206250ea\" class=\"sk-toggleable__label sk-toggleable__label-arrow\">FunctionTransformer</label><div class=\"sk-toggleable__content\"><pre>FunctionTransformer(func=&lt;function merge_family at 0x7fb773f70160&gt;,\n                    kw_args={&#x27;column_1&#x27;: &#x27;SibSp&#x27;, &#x27;column_2&#x27;: &#x27;Parch&#x27;})</pre></div></div></div><div class=\"sk-item\"><div class=\"sk-estimator sk-toggleable\"><input class=\"sk-toggleable__control sk-hidden--visually\" id=\"0f19d7fe-db5b-4f5f-9735-19cf93ac7121\" type=\"checkbox\" ><label for=\"0f19d7fe-db5b-4f5f-9735-19cf93ac7121\" class=\"sk-toggleable__label sk-toggleable__label-arrow\">FunctionTransformer</label><div class=\"sk-toggleable__content\"><pre>FunctionTransformer(func=&lt;function extract_title at 0x7fb774130d30&gt;,\n                    kw_args={&#x27;column_1&#x27;: &#x27;Name&#x27;})</pre></div></div></div></div></div><div class=\"sk-item sk-dashed-wrapped\"><div class=\"sk-label-container\"><div class=\"sk-label sk-toggleable\"><input class=\"sk-toggleable__control sk-hidden--visually\" id=\"295745a4-6f77-45ed-b48c-ce2dc0106d6b\" type=\"checkbox\" ><label for=\"295745a4-6f77-45ed-b48c-ce2dc0106d6b\" class=\"sk-toggleable__label sk-toggleable__label-arrow\">ColumnTransformer: ColumnTransformer</label><div class=\"sk-toggleable__content\"><pre>ColumnTransformer(transformers=[(&#x27;num&#x27;, StandardScaler(), [&#x27;Fare&#x27;, &#x27;Age&#x27;]),\n                                (&#x27;cat&#x27;, OneHotEncoder(handle_unknown=&#x27;ignore&#x27;),\n                                 [&#x27;Sex&#x27;, &#x27;Pclass&#x27;, &#x27;Family&#x27;, &#x27;Title&#x27;]),\n                                (&#x27;embarked&#x27;,\n                                 Pipeline(steps=[(&#x27;imputer&#x27;,\n                                                  SimpleImputer(strategy=&#x27;most_frequent&#x27;)),\n                                                 (&#x27;ohe&#x27;,\n                                                  OneHotEncoder(handle_unknown=&#x27;ignore&#x27;))]),\n                                 [&#x27;Embarked&#x27;])])</pre></div></div></div><div class=\"sk-parallel\"><div class=\"sk-parallel-item\"><div class=\"sk-item\"><div class=\"sk-label-container\"><div class=\"sk-label sk-toggleable\"><input class=\"sk-toggleable__control sk-hidden--visually\" id=\"420a565b-14bc-4362-96dd-030923987e6f\" type=\"checkbox\" ><label for=\"420a565b-14bc-4362-96dd-030923987e6f\" class=\"sk-toggleable__label sk-toggleable__label-arrow\">num</label><div class=\"sk-toggleable__content\"><pre>[&#x27;Fare&#x27;, &#x27;Age&#x27;]</pre></div></div></div><div class=\"sk-serial\"><div class=\"sk-item\"><div class=\"sk-estimator sk-toggleable\"><input class=\"sk-toggleable__control sk-hidden--visually\" id=\"de1fd0ce-dd64-4a74-a890-db81c24d7d17\" type=\"checkbox\" ><label for=\"de1fd0ce-dd64-4a74-a890-db81c24d7d17\" class=\"sk-toggleable__label sk-toggleable__label-arrow\">StandardScaler</label><div class=\"sk-toggleable__content\"><pre>StandardScaler()</pre></div></div></div></div></div></div><div class=\"sk-parallel-item\"><div class=\"sk-item\"><div class=\"sk-label-container\"><div class=\"sk-label sk-toggleable\"><input class=\"sk-toggleable__control sk-hidden--visually\" id=\"e691d39f-f01d-4683-bff1-ce6f3eed7fd0\" type=\"checkbox\" ><label for=\"e691d39f-f01d-4683-bff1-ce6f3eed7fd0\" class=\"sk-toggleable__label sk-toggleable__label-arrow\">cat</label><div class=\"sk-toggleable__content\"><pre>[&#x27;Sex&#x27;, &#x27;Pclass&#x27;, &#x27;Family&#x27;, &#x27;Title&#x27;]</pre></div></div></div><div class=\"sk-serial\"><div class=\"sk-item\"><div class=\"sk-estimator sk-toggleable\"><input class=\"sk-toggleable__control sk-hidden--visually\" id=\"1057bfe1-975b-4f60-8132-c73564cb795c\" type=\"checkbox\" ><label for=\"1057bfe1-975b-4f60-8132-c73564cb795c\" class=\"sk-toggleable__label sk-toggleable__label-arrow\">OneHotEncoder</label><div class=\"sk-toggleable__content\"><pre>OneHotEncoder(handle_unknown=&#x27;ignore&#x27;)</pre></div></div></div></div></div></div><div class=\"sk-parallel-item\"><div class=\"sk-item\"><div class=\"sk-label-container\"><div class=\"sk-label sk-toggleable\"><input class=\"sk-toggleable__control sk-hidden--visually\" id=\"2e0ce0e4-9898-47d1-81de-71c03937d0d1\" type=\"checkbox\" ><label for=\"2e0ce0e4-9898-47d1-81de-71c03937d0d1\" class=\"sk-toggleable__label sk-toggleable__label-arrow\">embarked</label><div class=\"sk-toggleable__content\"><pre>[&#x27;Embarked&#x27;]</pre></div></div></div><div class=\"sk-serial\"><div class=\"sk-item\"><div class=\"sk-serial\"><div class=\"sk-item\"><div class=\"sk-estimator sk-toggleable\"><input class=\"sk-toggleable__control sk-hidden--visually\" id=\"b99f3d93-328f-4fa8-855b-98b98a358a06\" type=\"checkbox\" ><label for=\"b99f3d93-328f-4fa8-855b-98b98a358a06\" class=\"sk-toggleable__label sk-toggleable__label-arrow\">SimpleImputer</label><div class=\"sk-toggleable__content\"><pre>SimpleImputer(strategy=&#x27;most_frequent&#x27;)</pre></div></div></div><div class=\"sk-item\"><div class=\"sk-estimator sk-toggleable\"><input class=\"sk-toggleable__control sk-hidden--visually\" id=\"7dc6891d-0e01-4b91-8e9a-a16b79e919b2\" type=\"checkbox\" ><label for=\"7dc6891d-0e01-4b91-8e9a-a16b79e919b2\" class=\"sk-toggleable__label sk-toggleable__label-arrow\">OneHotEncoder</label><div class=\"sk-toggleable__content\"><pre>OneHotEncoder(handle_unknown=&#x27;ignore&#x27;)</pre></div></div></div></div></div></div></div></div></div></div><div class=\"sk-item\"><div class=\"sk-estimator sk-toggleable\"><input class=\"sk-toggleable__control sk-hidden--visually\" id=\"07aa12b4-4db7-4183-8b8e-21ba460f01f5\" type=\"checkbox\" ><label for=\"07aa12b4-4db7-4183-8b8e-21ba460f01f5\" class=\"sk-toggleable__label sk-toggleable__label-arrow\">RandomForestClassifier</label><div class=\"sk-toggleable__content\"><pre>RandomForestClassifier(max_depth=3, n_estimators=35)</pre></div></div></div></div></div></div></div>"
     },
     "execution_count": 21,
     "metadata": {},
     "output_type": "execute_result"
    }
   ],
   "source": [
    "forest_pipeline.fit(X_train, y_train)"
   ]
  },
  {
   "cell_type": "code",
   "execution_count": 23,
   "id": "9e51c32c",
   "metadata": {},
   "outputs": [
    {
     "name": "stdout",
     "output_type": "stream",
     "text": [
      "The train accuracy of forest_pipeline is: 0.82\n",
      "The test accuracy of forest_pipeline is: 0.82\n"
     ]
    }
   ],
   "source": [
    "print(f\"\"\"The train accuracy of forest_pipeline is: {round(forest_pipeline.score(X_train,y_train),2)}\n",
    "The test accuracy of forest_pipeline is: {round(forest_pipeline.score(X_test,y_test),2)}\"\"\")"
   ]
  },
  {
   "cell_type": "markdown",
   "id": "f6a6e697",
   "metadata": {},
   "source": [
    "### 4.3 Support Vector Model"
   ]
  },
  {
   "cell_type": "code",
   "execution_count": 24,
   "id": "8c7c11a9",
   "metadata": {},
   "outputs": [],
   "source": [
    "svc_pipeline = Pipeline(steps=\n",
    "                                  [(\"create_new_columns\", preprocessor_1),\n",
    "                                   (\"ColumnTransformer\", preprocessor_2),\n",
    "                         ('svc', SVC(kernel= \"poly\", C=1))\n",
    "                        ])"
   ]
  },
  {
   "cell_type": "code",
   "execution_count": 25,
   "id": "7e5c9071",
   "metadata": {},
   "outputs": [
    {
     "data": {
      "text/plain": "Pipeline(steps=[('create_new_columns',\n                 Pipeline(steps=[('age_imputer',\n                                  FunctionTransformer(func=<function impute_age_class at 0x7fb774130ca0>,\n                                                      kw_args={'column_1': 'Age',\n                                                               'column_2': 'Pclass'})),\n                                 ('create_family_column',\n                                  FunctionTransformer(func=<function merge_family at 0x7fb773f70160>,\n                                                      kw_args={'column_1': 'SibSp',\n                                                               'column_2': 'Parch'})),\n                                 ('create_family',\n                                  FunctionT...\n                ('ColumnTransformer',\n                 ColumnTransformer(transformers=[('num', StandardScaler(),\n                                                  ['Fare', 'Age']),\n                                                 ('cat',\n                                                  OneHotEncoder(handle_unknown='ignore'),\n                                                  ['Sex', 'Pclass', 'Family',\n                                                   'Title']),\n                                                 ('embarked',\n                                                  Pipeline(steps=[('imputer',\n                                                                   SimpleImputer(strategy='most_frequent')),\n                                                                  ('ohe',\n                                                                   OneHotEncoder(handle_unknown='ignore'))]),\n                                                  ['Embarked'])])),\n                ('svc', SVC(C=1, kernel='poly'))])",
      "text/html": "<style>#sk-522fe6fb-d948-4bf1-af2d-81df4233211b {color: black;background-color: white;}#sk-522fe6fb-d948-4bf1-af2d-81df4233211b pre{padding: 0;}#sk-522fe6fb-d948-4bf1-af2d-81df4233211b div.sk-toggleable {background-color: white;}#sk-522fe6fb-d948-4bf1-af2d-81df4233211b label.sk-toggleable__label {cursor: pointer;display: block;width: 100%;margin-bottom: 0;padding: 0.3em;box-sizing: border-box;text-align: center;}#sk-522fe6fb-d948-4bf1-af2d-81df4233211b label.sk-toggleable__label-arrow:before {content: \"▸\";float: left;margin-right: 0.25em;color: #696969;}#sk-522fe6fb-d948-4bf1-af2d-81df4233211b label.sk-toggleable__label-arrow:hover:before {color: black;}#sk-522fe6fb-d948-4bf1-af2d-81df4233211b div.sk-estimator:hover label.sk-toggleable__label-arrow:before {color: black;}#sk-522fe6fb-d948-4bf1-af2d-81df4233211b div.sk-toggleable__content {max-height: 0;max-width: 0;overflow: hidden;text-align: left;background-color: #f0f8ff;}#sk-522fe6fb-d948-4bf1-af2d-81df4233211b div.sk-toggleable__content pre {margin: 0.2em;color: black;border-radius: 0.25em;background-color: #f0f8ff;}#sk-522fe6fb-d948-4bf1-af2d-81df4233211b input.sk-toggleable__control:checked~div.sk-toggleable__content {max-height: 200px;max-width: 100%;overflow: auto;}#sk-522fe6fb-d948-4bf1-af2d-81df4233211b input.sk-toggleable__control:checked~label.sk-toggleable__label-arrow:before {content: \"▾\";}#sk-522fe6fb-d948-4bf1-af2d-81df4233211b div.sk-estimator input.sk-toggleable__control:checked~label.sk-toggleable__label {background-color: #d4ebff;}#sk-522fe6fb-d948-4bf1-af2d-81df4233211b div.sk-label input.sk-toggleable__control:checked~label.sk-toggleable__label {background-color: #d4ebff;}#sk-522fe6fb-d948-4bf1-af2d-81df4233211b input.sk-hidden--visually {border: 0;clip: rect(1px 1px 1px 1px);clip: rect(1px, 1px, 1px, 1px);height: 1px;margin: -1px;overflow: hidden;padding: 0;position: absolute;width: 1px;}#sk-522fe6fb-d948-4bf1-af2d-81df4233211b div.sk-estimator {font-family: monospace;background-color: #f0f8ff;border: 1px dotted black;border-radius: 0.25em;box-sizing: border-box;margin-bottom: 0.5em;}#sk-522fe6fb-d948-4bf1-af2d-81df4233211b div.sk-estimator:hover {background-color: #d4ebff;}#sk-522fe6fb-d948-4bf1-af2d-81df4233211b div.sk-parallel-item::after {content: \"\";width: 100%;border-bottom: 1px solid gray;flex-grow: 1;}#sk-522fe6fb-d948-4bf1-af2d-81df4233211b div.sk-label:hover label.sk-toggleable__label {background-color: #d4ebff;}#sk-522fe6fb-d948-4bf1-af2d-81df4233211b div.sk-serial::before {content: \"\";position: absolute;border-left: 1px solid gray;box-sizing: border-box;top: 2em;bottom: 0;left: 50%;}#sk-522fe6fb-d948-4bf1-af2d-81df4233211b div.sk-serial {display: flex;flex-direction: column;align-items: center;background-color: white;padding-right: 0.2em;padding-left: 0.2em;}#sk-522fe6fb-d948-4bf1-af2d-81df4233211b div.sk-item {z-index: 1;}#sk-522fe6fb-d948-4bf1-af2d-81df4233211b div.sk-parallel {display: flex;align-items: stretch;justify-content: center;background-color: white;}#sk-522fe6fb-d948-4bf1-af2d-81df4233211b div.sk-parallel::before {content: \"\";position: absolute;border-left: 1px solid gray;box-sizing: border-box;top: 2em;bottom: 0;left: 50%;}#sk-522fe6fb-d948-4bf1-af2d-81df4233211b div.sk-parallel-item {display: flex;flex-direction: column;position: relative;background-color: white;}#sk-522fe6fb-d948-4bf1-af2d-81df4233211b div.sk-parallel-item:first-child::after {align-self: flex-end;width: 50%;}#sk-522fe6fb-d948-4bf1-af2d-81df4233211b div.sk-parallel-item:last-child::after {align-self: flex-start;width: 50%;}#sk-522fe6fb-d948-4bf1-af2d-81df4233211b div.sk-parallel-item:only-child::after {width: 0;}#sk-522fe6fb-d948-4bf1-af2d-81df4233211b div.sk-dashed-wrapped {border: 1px dashed gray;margin: 0 0.4em 0.5em 0.4em;box-sizing: border-box;padding-bottom: 0.4em;background-color: white;position: relative;}#sk-522fe6fb-d948-4bf1-af2d-81df4233211b div.sk-label label {font-family: monospace;font-weight: bold;background-color: white;display: inline-block;line-height: 1.2em;}#sk-522fe6fb-d948-4bf1-af2d-81df4233211b div.sk-label-container {position: relative;z-index: 2;text-align: center;}#sk-522fe6fb-d948-4bf1-af2d-81df4233211b div.sk-container {/* jupyter's `normalize.less` sets `[hidden] { display: none; }` but bootstrap.min.css set `[hidden] { display: none !important; }` so we also need the `!important` here to be able to override the default hidden behavior on the sphinx rendered scikit-learn.org. See: https://github.com/scikit-learn/scikit-learn/issues/21755 */display: inline-block !important;position: relative;}#sk-522fe6fb-d948-4bf1-af2d-81df4233211b div.sk-text-repr-fallback {display: none;}</style><div id=\"sk-522fe6fb-d948-4bf1-af2d-81df4233211b\" class=\"sk-top-container\"><div class=\"sk-text-repr-fallback\"><pre>Pipeline(steps=[(&#x27;create_new_columns&#x27;,\n                 Pipeline(steps=[(&#x27;age_imputer&#x27;,\n                                  FunctionTransformer(func=&lt;function impute_age_class at 0x7fb774130ca0&gt;,\n                                                      kw_args={&#x27;column_1&#x27;: &#x27;Age&#x27;,\n                                                               &#x27;column_2&#x27;: &#x27;Pclass&#x27;})),\n                                 (&#x27;create_family_column&#x27;,\n                                  FunctionTransformer(func=&lt;function merge_family at 0x7fb773f70160&gt;,\n                                                      kw_args={&#x27;column_1&#x27;: &#x27;SibSp&#x27;,\n                                                               &#x27;column_2&#x27;: &#x27;Parch&#x27;})),\n                                 (&#x27;create_family&#x27;,\n                                  FunctionT...\n                (&#x27;ColumnTransformer&#x27;,\n                 ColumnTransformer(transformers=[(&#x27;num&#x27;, StandardScaler(),\n                                                  [&#x27;Fare&#x27;, &#x27;Age&#x27;]),\n                                                 (&#x27;cat&#x27;,\n                                                  OneHotEncoder(handle_unknown=&#x27;ignore&#x27;),\n                                                  [&#x27;Sex&#x27;, &#x27;Pclass&#x27;, &#x27;Family&#x27;,\n                                                   &#x27;Title&#x27;]),\n                                                 (&#x27;embarked&#x27;,\n                                                  Pipeline(steps=[(&#x27;imputer&#x27;,\n                                                                   SimpleImputer(strategy=&#x27;most_frequent&#x27;)),\n                                                                  (&#x27;ohe&#x27;,\n                                                                   OneHotEncoder(handle_unknown=&#x27;ignore&#x27;))]),\n                                                  [&#x27;Embarked&#x27;])])),\n                (&#x27;svc&#x27;, SVC(C=1, kernel=&#x27;poly&#x27;))])</pre><b>Please rerun this cell to show the HTML repr or trust the notebook.</b></div><div class=\"sk-container\" hidden><div class=\"sk-item sk-dashed-wrapped\"><div class=\"sk-label-container\"><div class=\"sk-label sk-toggleable\"><input class=\"sk-toggleable__control sk-hidden--visually\" id=\"ce7e6a30-e6ee-443d-9602-3b2666b4ec5d\" type=\"checkbox\" ><label for=\"ce7e6a30-e6ee-443d-9602-3b2666b4ec5d\" class=\"sk-toggleable__label sk-toggleable__label-arrow\">Pipeline</label><div class=\"sk-toggleable__content\"><pre>Pipeline(steps=[(&#x27;create_new_columns&#x27;,\n                 Pipeline(steps=[(&#x27;age_imputer&#x27;,\n                                  FunctionTransformer(func=&lt;function impute_age_class at 0x7fb774130ca0&gt;,\n                                                      kw_args={&#x27;column_1&#x27;: &#x27;Age&#x27;,\n                                                               &#x27;column_2&#x27;: &#x27;Pclass&#x27;})),\n                                 (&#x27;create_family_column&#x27;,\n                                  FunctionTransformer(func=&lt;function merge_family at 0x7fb773f70160&gt;,\n                                                      kw_args={&#x27;column_1&#x27;: &#x27;SibSp&#x27;,\n                                                               &#x27;column_2&#x27;: &#x27;Parch&#x27;})),\n                                 (&#x27;create_family&#x27;,\n                                  FunctionT...\n                (&#x27;ColumnTransformer&#x27;,\n                 ColumnTransformer(transformers=[(&#x27;num&#x27;, StandardScaler(),\n                                                  [&#x27;Fare&#x27;, &#x27;Age&#x27;]),\n                                                 (&#x27;cat&#x27;,\n                                                  OneHotEncoder(handle_unknown=&#x27;ignore&#x27;),\n                                                  [&#x27;Sex&#x27;, &#x27;Pclass&#x27;, &#x27;Family&#x27;,\n                                                   &#x27;Title&#x27;]),\n                                                 (&#x27;embarked&#x27;,\n                                                  Pipeline(steps=[(&#x27;imputer&#x27;,\n                                                                   SimpleImputer(strategy=&#x27;most_frequent&#x27;)),\n                                                                  (&#x27;ohe&#x27;,\n                                                                   OneHotEncoder(handle_unknown=&#x27;ignore&#x27;))]),\n                                                  [&#x27;Embarked&#x27;])])),\n                (&#x27;svc&#x27;, SVC(C=1, kernel=&#x27;poly&#x27;))])</pre></div></div></div><div class=\"sk-serial\"><div class=\"sk-item\"><div class=\"sk-label-container\"><div class=\"sk-label sk-toggleable\"><input class=\"sk-toggleable__control sk-hidden--visually\" id=\"6540245e-19fb-4618-a592-b19508fb3acf\" type=\"checkbox\" ><label for=\"6540245e-19fb-4618-a592-b19508fb3acf\" class=\"sk-toggleable__label sk-toggleable__label-arrow\">create_new_columns: Pipeline</label><div class=\"sk-toggleable__content\"><pre>Pipeline(steps=[(&#x27;age_imputer&#x27;,\n                 FunctionTransformer(func=&lt;function impute_age_class at 0x7fb774130ca0&gt;,\n                                     kw_args={&#x27;column_1&#x27;: &#x27;Age&#x27;,\n                                              &#x27;column_2&#x27;: &#x27;Pclass&#x27;})),\n                (&#x27;create_family_column&#x27;,\n                 FunctionTransformer(func=&lt;function merge_family at 0x7fb773f70160&gt;,\n                                     kw_args={&#x27;column_1&#x27;: &#x27;SibSp&#x27;,\n                                              &#x27;column_2&#x27;: &#x27;Parch&#x27;})),\n                (&#x27;create_family&#x27;,\n                 FunctionTransformer(func=&lt;function extract_title at 0x7fb774130d30&gt;,\n                                     kw_args={&#x27;column_1&#x27;: &#x27;Name&#x27;}))])</pre></div></div></div><div class=\"sk-serial\"><div class=\"sk-item\"><div class=\"sk-estimator sk-toggleable\"><input class=\"sk-toggleable__control sk-hidden--visually\" id=\"f8c331b2-afd8-45a0-9692-7870b0298ee5\" type=\"checkbox\" ><label for=\"f8c331b2-afd8-45a0-9692-7870b0298ee5\" class=\"sk-toggleable__label sk-toggleable__label-arrow\">FunctionTransformer</label><div class=\"sk-toggleable__content\"><pre>FunctionTransformer(func=&lt;function impute_age_class at 0x7fb774130ca0&gt;,\n                    kw_args={&#x27;column_1&#x27;: &#x27;Age&#x27;, &#x27;column_2&#x27;: &#x27;Pclass&#x27;})</pre></div></div></div><div class=\"sk-item\"><div class=\"sk-estimator sk-toggleable\"><input class=\"sk-toggleable__control sk-hidden--visually\" id=\"8be22fa1-dcf7-45c1-8a45-b1a070561c8b\" type=\"checkbox\" ><label for=\"8be22fa1-dcf7-45c1-8a45-b1a070561c8b\" class=\"sk-toggleable__label sk-toggleable__label-arrow\">FunctionTransformer</label><div class=\"sk-toggleable__content\"><pre>FunctionTransformer(func=&lt;function merge_family at 0x7fb773f70160&gt;,\n                    kw_args={&#x27;column_1&#x27;: &#x27;SibSp&#x27;, &#x27;column_2&#x27;: &#x27;Parch&#x27;})</pre></div></div></div><div class=\"sk-item\"><div class=\"sk-estimator sk-toggleable\"><input class=\"sk-toggleable__control sk-hidden--visually\" id=\"7e84199c-4ee8-4c70-a9fb-16bcebb8204f\" type=\"checkbox\" ><label for=\"7e84199c-4ee8-4c70-a9fb-16bcebb8204f\" class=\"sk-toggleable__label sk-toggleable__label-arrow\">FunctionTransformer</label><div class=\"sk-toggleable__content\"><pre>FunctionTransformer(func=&lt;function extract_title at 0x7fb774130d30&gt;,\n                    kw_args={&#x27;column_1&#x27;: &#x27;Name&#x27;})</pre></div></div></div></div></div><div class=\"sk-item sk-dashed-wrapped\"><div class=\"sk-label-container\"><div class=\"sk-label sk-toggleable\"><input class=\"sk-toggleable__control sk-hidden--visually\" id=\"9a4593f1-264f-4699-87c1-f61d2b12bba9\" type=\"checkbox\" ><label for=\"9a4593f1-264f-4699-87c1-f61d2b12bba9\" class=\"sk-toggleable__label sk-toggleable__label-arrow\">ColumnTransformer: ColumnTransformer</label><div class=\"sk-toggleable__content\"><pre>ColumnTransformer(transformers=[(&#x27;num&#x27;, StandardScaler(), [&#x27;Fare&#x27;, &#x27;Age&#x27;]),\n                                (&#x27;cat&#x27;, OneHotEncoder(handle_unknown=&#x27;ignore&#x27;),\n                                 [&#x27;Sex&#x27;, &#x27;Pclass&#x27;, &#x27;Family&#x27;, &#x27;Title&#x27;]),\n                                (&#x27;embarked&#x27;,\n                                 Pipeline(steps=[(&#x27;imputer&#x27;,\n                                                  SimpleImputer(strategy=&#x27;most_frequent&#x27;)),\n                                                 (&#x27;ohe&#x27;,\n                                                  OneHotEncoder(handle_unknown=&#x27;ignore&#x27;))]),\n                                 [&#x27;Embarked&#x27;])])</pre></div></div></div><div class=\"sk-parallel\"><div class=\"sk-parallel-item\"><div class=\"sk-item\"><div class=\"sk-label-container\"><div class=\"sk-label sk-toggleable\"><input class=\"sk-toggleable__control sk-hidden--visually\" id=\"03a834e1-4573-4a76-9e30-f4929482ac19\" type=\"checkbox\" ><label for=\"03a834e1-4573-4a76-9e30-f4929482ac19\" class=\"sk-toggleable__label sk-toggleable__label-arrow\">num</label><div class=\"sk-toggleable__content\"><pre>[&#x27;Fare&#x27;, &#x27;Age&#x27;]</pre></div></div></div><div class=\"sk-serial\"><div class=\"sk-item\"><div class=\"sk-estimator sk-toggleable\"><input class=\"sk-toggleable__control sk-hidden--visually\" id=\"8156a59f-5568-43e7-9d81-327953f1ec90\" type=\"checkbox\" ><label for=\"8156a59f-5568-43e7-9d81-327953f1ec90\" class=\"sk-toggleable__label sk-toggleable__label-arrow\">StandardScaler</label><div class=\"sk-toggleable__content\"><pre>StandardScaler()</pre></div></div></div></div></div></div><div class=\"sk-parallel-item\"><div class=\"sk-item\"><div class=\"sk-label-container\"><div class=\"sk-label sk-toggleable\"><input class=\"sk-toggleable__control sk-hidden--visually\" id=\"a874329d-a69d-4308-94be-174028f5f334\" type=\"checkbox\" ><label for=\"a874329d-a69d-4308-94be-174028f5f334\" class=\"sk-toggleable__label sk-toggleable__label-arrow\">cat</label><div class=\"sk-toggleable__content\"><pre>[&#x27;Sex&#x27;, &#x27;Pclass&#x27;, &#x27;Family&#x27;, &#x27;Title&#x27;]</pre></div></div></div><div class=\"sk-serial\"><div class=\"sk-item\"><div class=\"sk-estimator sk-toggleable\"><input class=\"sk-toggleable__control sk-hidden--visually\" id=\"2630ad4b-e48a-4554-95c8-bfe614d1ae62\" type=\"checkbox\" ><label for=\"2630ad4b-e48a-4554-95c8-bfe614d1ae62\" class=\"sk-toggleable__label sk-toggleable__label-arrow\">OneHotEncoder</label><div class=\"sk-toggleable__content\"><pre>OneHotEncoder(handle_unknown=&#x27;ignore&#x27;)</pre></div></div></div></div></div></div><div class=\"sk-parallel-item\"><div class=\"sk-item\"><div class=\"sk-label-container\"><div class=\"sk-label sk-toggleable\"><input class=\"sk-toggleable__control sk-hidden--visually\" id=\"c866b0bf-adf7-42ba-bd4d-aea0fbad1197\" type=\"checkbox\" ><label for=\"c866b0bf-adf7-42ba-bd4d-aea0fbad1197\" class=\"sk-toggleable__label sk-toggleable__label-arrow\">embarked</label><div class=\"sk-toggleable__content\"><pre>[&#x27;Embarked&#x27;]</pre></div></div></div><div class=\"sk-serial\"><div class=\"sk-item\"><div class=\"sk-serial\"><div class=\"sk-item\"><div class=\"sk-estimator sk-toggleable\"><input class=\"sk-toggleable__control sk-hidden--visually\" id=\"e3700173-4383-49d4-8676-8915054219b6\" type=\"checkbox\" ><label for=\"e3700173-4383-49d4-8676-8915054219b6\" class=\"sk-toggleable__label sk-toggleable__label-arrow\">SimpleImputer</label><div class=\"sk-toggleable__content\"><pre>SimpleImputer(strategy=&#x27;most_frequent&#x27;)</pre></div></div></div><div class=\"sk-item\"><div class=\"sk-estimator sk-toggleable\"><input class=\"sk-toggleable__control sk-hidden--visually\" id=\"78652c73-d2cc-4eb0-a193-7389131e3eeb\" type=\"checkbox\" ><label for=\"78652c73-d2cc-4eb0-a193-7389131e3eeb\" class=\"sk-toggleable__label sk-toggleable__label-arrow\">OneHotEncoder</label><div class=\"sk-toggleable__content\"><pre>OneHotEncoder(handle_unknown=&#x27;ignore&#x27;)</pre></div></div></div></div></div></div></div></div></div></div><div class=\"sk-item\"><div class=\"sk-estimator sk-toggleable\"><input class=\"sk-toggleable__control sk-hidden--visually\" id=\"2a70f44a-bbe9-4320-89ec-eadadfa3df0f\" type=\"checkbox\" ><label for=\"2a70f44a-bbe9-4320-89ec-eadadfa3df0f\" class=\"sk-toggleable__label sk-toggleable__label-arrow\">SVC</label><div class=\"sk-toggleable__content\"><pre>SVC(C=1, kernel=&#x27;poly&#x27;)</pre></div></div></div></div></div></div></div>"
     },
     "execution_count": 25,
     "metadata": {},
     "output_type": "execute_result"
    }
   ],
   "source": [
    "svc_pipeline.fit(X_train, y_train)"
   ]
  },
  {
   "cell_type": "code",
   "execution_count": 26,
   "id": "94f9dbc5",
   "metadata": {},
   "outputs": [
    {
     "name": "stdout",
     "output_type": "stream",
     "text": [
      "The train accuracy of svc_pipeline is: 0.86\n",
      "The test accuracy of svc_pipeline is: 0.82\n"
     ]
    }
   ],
   "source": [
    "print(f\"\"\"The train accuracy of svc_pipeline is: {round(svc_pipeline.score(X_train,y_train),2)}\n",
    "The test accuracy of svc_pipeline is: {round(svc_pipeline.score(X_test,y_test),2)}\"\"\")"
   ]
  }
 ],
 "metadata": {
  "kernelspec": {
   "display_name": "Python 3 (ipykernel)",
   "language": "python",
   "name": "python3"
  },
  "language_info": {
   "codemirror_mode": {
    "name": "ipython",
    "version": 3
   },
   "file_extension": ".py",
   "mimetype": "text/x-python",
   "name": "python",
   "nbconvert_exporter": "python",
   "pygments_lexer": "ipython3",
   "version": "3.9.12"
  }
 },
 "nbformat": 4,
 "nbformat_minor": 5
}
